{
 "cells": [
  {
   "cell_type": "code",
   "execution_count": 2,
   "id": "069f4da7",
   "metadata": {},
   "outputs": [],
   "source": [
    "import numpy as np\n",
    "import pandas as pd\n",
    "import matplotlib.pyplot as plt\n",
    "import seaborn as sns\n",
    "\n",
    "%matplotlib inline"
   ]
  },
  {
   "cell_type": "code",
   "execution_count": 3,
   "id": "81d9ca49",
   "metadata": {},
   "outputs": [],
   "source": [
    "csv1 = pd.read_csv('Data1_CustomerDemographic_cleaned.csv')\n",
    "csv2 = pd.read_csv('Data2_CustomerAddress_cleaned.csv')\n",
    "csv3 = pd.read_csv('Data3_Transactions_cleaned.csv')\n",
    "csv4 = pd.read_csv('Data4_NewCustomer_cleaned.csv')"
   ]
  },
  {
   "cell_type": "code",
   "execution_count": 4,
   "id": "9ff8bcd5",
   "metadata": {},
   "outputs": [],
   "source": [
    "#Merging all the files On customer_id column\n",
    "\n",
    "csv1_2 = pd.merge(csv1, csv2, on = 'customer_id')\n",
    "\n"
   ]
  },
  {
   "cell_type": "code",
   "execution_count": 5,
   "id": "06d3cb61",
   "metadata": {},
   "outputs": [],
   "source": [
    "csv1_2_3 = pd.merge(csv1_2, csv3, on = 'customer_id')"
   ]
  },
  {
   "cell_type": "code",
   "execution_count": 6,
   "id": "d0bff000",
   "metadata": {},
   "outputs": [],
   "source": [
    "csv1_2_3.to_csv(\"merged.csv\", index= False, encoding='utf-8-sig')"
   ]
  },
  {
   "cell_type": "code",
   "execution_count": 7,
   "id": "5b4aeeb3",
   "metadata": {},
   "outputs": [],
   "source": [
    "df = csv1_2_3.sort_values(by = ['customer_id'])"
   ]
  },
  {
   "cell_type": "code",
   "execution_count": 8,
   "id": "cfeaff29",
   "metadata": {},
   "outputs": [
    {
     "data": {
      "text/html": [
       "<div>\n",
       "<style scoped>\n",
       "    .dataframe tbody tr th:only-of-type {\n",
       "        vertical-align: middle;\n",
       "    }\n",
       "\n",
       "    .dataframe tbody tr th {\n",
       "        vertical-align: top;\n",
       "    }\n",
       "\n",
       "    .dataframe thead th {\n",
       "        text-align: right;\n",
       "    }\n",
       "</style>\n",
       "<table border=\"1\" class=\"dataframe\">\n",
       "  <thead>\n",
       "    <tr style=\"text-align: right;\">\n",
       "      <th></th>\n",
       "      <th>customer_id</th>\n",
       "      <th>first_name</th>\n",
       "      <th>last_name</th>\n",
       "      <th>gender</th>\n",
       "      <th>past_3_years_bike_related_purchases</th>\n",
       "      <th>dob</th>\n",
       "      <th>job_title</th>\n",
       "      <th>job_industry_category</th>\n",
       "      <th>wealth_segment</th>\n",
       "      <th>deceased_indicator</th>\n",
       "      <th>...</th>\n",
       "      <th>transaction_date</th>\n",
       "      <th>online_order</th>\n",
       "      <th>order_status</th>\n",
       "      <th>brand</th>\n",
       "      <th>product_line</th>\n",
       "      <th>product_class</th>\n",
       "      <th>product_size</th>\n",
       "      <th>list_price</th>\n",
       "      <th>standard_cost</th>\n",
       "      <th>product_first_sold_date</th>\n",
       "    </tr>\n",
       "  </thead>\n",
       "  <tbody>\n",
       "    <tr>\n",
       "      <th>19428</th>\n",
       "      <td>1</td>\n",
       "      <td>Laraine</td>\n",
       "      <td>Medendorp</td>\n",
       "      <td>Female</td>\n",
       "      <td>93</td>\n",
       "      <td>1953-10-12</td>\n",
       "      <td>Executive Secretary</td>\n",
       "      <td>Health</td>\n",
       "      <td>Mass Customer</td>\n",
       "      <td>False</td>\n",
       "      <td>...</td>\n",
       "      <td>2017-05-11</td>\n",
       "      <td>1.0</td>\n",
       "      <td>Approved</td>\n",
       "      <td>Trek Bicycles</td>\n",
       "      <td>Road</td>\n",
       "      <td>low</td>\n",
       "      <td>small</td>\n",
       "      <td>1720.70</td>\n",
       "      <td>1531.42</td>\n",
       "      <td>37823.0</td>\n",
       "    </tr>\n",
       "    <tr>\n",
       "      <th>19433</th>\n",
       "      <td>1</td>\n",
       "      <td>Laraine</td>\n",
       "      <td>Medendorp</td>\n",
       "      <td>Female</td>\n",
       "      <td>93</td>\n",
       "      <td>1953-10-12</td>\n",
       "      <td>Executive Secretary</td>\n",
       "      <td>Health</td>\n",
       "      <td>Mass Customer</td>\n",
       "      <td>False</td>\n",
       "      <td>...</td>\n",
       "      <td>2017-12-23</td>\n",
       "      <td>0.0</td>\n",
       "      <td>Approved</td>\n",
       "      <td>OHM Cycles</td>\n",
       "      <td>Standard</td>\n",
       "      <td>medium</td>\n",
       "      <td>medium</td>\n",
       "      <td>235.63</td>\n",
       "      <td>125.07</td>\n",
       "      <td>38482.0</td>\n",
       "    </tr>\n",
       "    <tr>\n",
       "      <th>19432</th>\n",
       "      <td>1</td>\n",
       "      <td>Laraine</td>\n",
       "      <td>Medendorp</td>\n",
       "      <td>Female</td>\n",
       "      <td>93</td>\n",
       "      <td>1953-10-12</td>\n",
       "      <td>Executive Secretary</td>\n",
       "      <td>Health</td>\n",
       "      <td>Mass Customer</td>\n",
       "      <td>False</td>\n",
       "      <td>...</td>\n",
       "      <td>2017-12-14</td>\n",
       "      <td>1.0</td>\n",
       "      <td>Approved</td>\n",
       "      <td>Giant Bicycles</td>\n",
       "      <td>Standard</td>\n",
       "      <td>medium</td>\n",
       "      <td>medium</td>\n",
       "      <td>230.91</td>\n",
       "      <td>173.18</td>\n",
       "      <td>37337.0</td>\n",
       "    </tr>\n",
       "    <tr>\n",
       "      <th>19431</th>\n",
       "      <td>1</td>\n",
       "      <td>Laraine</td>\n",
       "      <td>Medendorp</td>\n",
       "      <td>Female</td>\n",
       "      <td>93</td>\n",
       "      <td>1953-10-12</td>\n",
       "      <td>Executive Secretary</td>\n",
       "      <td>Health</td>\n",
       "      <td>Mass Customer</td>\n",
       "      <td>False</td>\n",
       "      <td>...</td>\n",
       "      <td>2017-12-09</td>\n",
       "      <td>1.0</td>\n",
       "      <td>Approved</td>\n",
       "      <td>OHM Cycles</td>\n",
       "      <td>Road</td>\n",
       "      <td>medium</td>\n",
       "      <td>medium</td>\n",
       "      <td>742.54</td>\n",
       "      <td>667.40</td>\n",
       "      <td>37838.0</td>\n",
       "    </tr>\n",
       "    <tr>\n",
       "      <th>19430</th>\n",
       "      <td>1</td>\n",
       "      <td>Laraine</td>\n",
       "      <td>Medendorp</td>\n",
       "      <td>Female</td>\n",
       "      <td>93</td>\n",
       "      <td>1953-10-12</td>\n",
       "      <td>Executive Secretary</td>\n",
       "      <td>Health</td>\n",
       "      <td>Mass Customer</td>\n",
       "      <td>False</td>\n",
       "      <td>...</td>\n",
       "      <td>2017-06-04</td>\n",
       "      <td>1.0</td>\n",
       "      <td>Approved</td>\n",
       "      <td>Giant Bicycles</td>\n",
       "      <td>Standard</td>\n",
       "      <td>medium</td>\n",
       "      <td>medium</td>\n",
       "      <td>642.70</td>\n",
       "      <td>211.37</td>\n",
       "      <td>40618.0</td>\n",
       "    </tr>\n",
       "    <tr>\n",
       "      <th>...</th>\n",
       "      <td>...</td>\n",
       "      <td>...</td>\n",
       "      <td>...</td>\n",
       "      <td>...</td>\n",
       "      <td>...</td>\n",
       "      <td>...</td>\n",
       "      <td>...</td>\n",
       "      <td>...</td>\n",
       "      <td>...</td>\n",
       "      <td>...</td>\n",
       "      <td>...</td>\n",
       "      <td>...</td>\n",
       "      <td>...</td>\n",
       "      <td>...</td>\n",
       "      <td>...</td>\n",
       "      <td>...</td>\n",
       "      <td>...</td>\n",
       "      <td>...</td>\n",
       "      <td>...</td>\n",
       "      <td>...</td>\n",
       "      <td>...</td>\n",
       "    </tr>\n",
       "    <tr>\n",
       "      <th>14887</th>\n",
       "      <td>3500</td>\n",
       "      <td>Josy</td>\n",
       "      <td>Fleeman</td>\n",
       "      <td>Female</td>\n",
       "      <td>71</td>\n",
       "      <td>1967-07-21</td>\n",
       "      <td>Geological Engineer</td>\n",
       "      <td>Entertainment</td>\n",
       "      <td>Affluent Customer</td>\n",
       "      <td>False</td>\n",
       "      <td>...</td>\n",
       "      <td>2017-04-25</td>\n",
       "      <td>0.0</td>\n",
       "      <td>Approved</td>\n",
       "      <td>Solex</td>\n",
       "      <td>Standard</td>\n",
       "      <td>medium</td>\n",
       "      <td>medium</td>\n",
       "      <td>71.49</td>\n",
       "      <td>53.62</td>\n",
       "      <td>41245.0</td>\n",
       "    </tr>\n",
       "    <tr>\n",
       "      <th>14886</th>\n",
       "      <td>3500</td>\n",
       "      <td>Josy</td>\n",
       "      <td>Fleeman</td>\n",
       "      <td>Female</td>\n",
       "      <td>71</td>\n",
       "      <td>1967-07-21</td>\n",
       "      <td>Geological Engineer</td>\n",
       "      <td>Entertainment</td>\n",
       "      <td>Affluent Customer</td>\n",
       "      <td>False</td>\n",
       "      <td>...</td>\n",
       "      <td>2017-03-14</td>\n",
       "      <td>1.0</td>\n",
       "      <td>Approved</td>\n",
       "      <td>OHM Cycles</td>\n",
       "      <td>Standard</td>\n",
       "      <td>high</td>\n",
       "      <td>medium</td>\n",
       "      <td>1458.17</td>\n",
       "      <td>874.90</td>\n",
       "      <td>38750.0</td>\n",
       "    </tr>\n",
       "    <tr>\n",
       "      <th>14885</th>\n",
       "      <td>3500</td>\n",
       "      <td>Josy</td>\n",
       "      <td>Fleeman</td>\n",
       "      <td>Female</td>\n",
       "      <td>71</td>\n",
       "      <td>1967-07-21</td>\n",
       "      <td>Geological Engineer</td>\n",
       "      <td>Entertainment</td>\n",
       "      <td>Affluent Customer</td>\n",
       "      <td>False</td>\n",
       "      <td>...</td>\n",
       "      <td>2017-02-16</td>\n",
       "      <td>0.0</td>\n",
       "      <td>Approved</td>\n",
       "      <td>WeareA2B</td>\n",
       "      <td>Standard</td>\n",
       "      <td>medium</td>\n",
       "      <td>medium</td>\n",
       "      <td>1228.07</td>\n",
       "      <td>400.91</td>\n",
       "      <td>36668.0</td>\n",
       "    </tr>\n",
       "    <tr>\n",
       "      <th>14883</th>\n",
       "      <td>3500</td>\n",
       "      <td>Josy</td>\n",
       "      <td>Fleeman</td>\n",
       "      <td>Female</td>\n",
       "      <td>71</td>\n",
       "      <td>1967-07-21</td>\n",
       "      <td>Geological Engineer</td>\n",
       "      <td>Entertainment</td>\n",
       "      <td>Affluent Customer</td>\n",
       "      <td>False</td>\n",
       "      <td>...</td>\n",
       "      <td>2017-01-09</td>\n",
       "      <td>1.0</td>\n",
       "      <td>Approved</td>\n",
       "      <td>Giant Bicycles</td>\n",
       "      <td>Road</td>\n",
       "      <td>medium</td>\n",
       "      <td>medium</td>\n",
       "      <td>792.90</td>\n",
       "      <td>594.68</td>\n",
       "      <td>33879.0</td>\n",
       "    </tr>\n",
       "    <tr>\n",
       "      <th>14884</th>\n",
       "      <td>3500</td>\n",
       "      <td>Josy</td>\n",
       "      <td>Fleeman</td>\n",
       "      <td>Female</td>\n",
       "      <td>71</td>\n",
       "      <td>1967-07-21</td>\n",
       "      <td>Geological Engineer</td>\n",
       "      <td>Entertainment</td>\n",
       "      <td>Affluent Customer</td>\n",
       "      <td>False</td>\n",
       "      <td>...</td>\n",
       "      <td>2017-01-11</td>\n",
       "      <td>0.0</td>\n",
       "      <td>Approved</td>\n",
       "      <td>WeareA2B</td>\n",
       "      <td>Standard</td>\n",
       "      <td>medium</td>\n",
       "      <td>medium</td>\n",
       "      <td>60.34</td>\n",
       "      <td>45.26</td>\n",
       "      <td>34165.0</td>\n",
       "    </tr>\n",
       "  </tbody>\n",
       "</table>\n",
       "<p>19968 rows × 29 columns</p>\n",
       "</div>"
      ],
      "text/plain": [
       "       customer_id first_name  last_name  gender  \\\n",
       "19428            1    Laraine  Medendorp  Female   \n",
       "19433            1    Laraine  Medendorp  Female   \n",
       "19432            1    Laraine  Medendorp  Female   \n",
       "19431            1    Laraine  Medendorp  Female   \n",
       "19430            1    Laraine  Medendorp  Female   \n",
       "...            ...        ...        ...     ...   \n",
       "14887         3500       Josy    Fleeman  Female   \n",
       "14886         3500       Josy    Fleeman  Female   \n",
       "14885         3500       Josy    Fleeman  Female   \n",
       "14883         3500       Josy    Fleeman  Female   \n",
       "14884         3500       Josy    Fleeman  Female   \n",
       "\n",
       "       past_3_years_bike_related_purchases         dob            job_title  \\\n",
       "19428                                   93  1953-10-12  Executive Secretary   \n",
       "19433                                   93  1953-10-12  Executive Secretary   \n",
       "19432                                   93  1953-10-12  Executive Secretary   \n",
       "19431                                   93  1953-10-12  Executive Secretary   \n",
       "19430                                   93  1953-10-12  Executive Secretary   \n",
       "...                                    ...         ...                  ...   \n",
       "14887                                   71  1967-07-21  Geological Engineer   \n",
       "14886                                   71  1967-07-21  Geological Engineer   \n",
       "14885                                   71  1967-07-21  Geological Engineer   \n",
       "14883                                   71  1967-07-21  Geological Engineer   \n",
       "14884                                   71  1967-07-21  Geological Engineer   \n",
       "\n",
       "      job_industry_category     wealth_segment  deceased_indicator  ...  \\\n",
       "19428                Health      Mass Customer               False  ...   \n",
       "19433                Health      Mass Customer               False  ...   \n",
       "19432                Health      Mass Customer               False  ...   \n",
       "19431                Health      Mass Customer               False  ...   \n",
       "19430                Health      Mass Customer               False  ...   \n",
       "...                     ...                ...                 ...  ...   \n",
       "14887         Entertainment  Affluent Customer               False  ...   \n",
       "14886         Entertainment  Affluent Customer               False  ...   \n",
       "14885         Entertainment  Affluent Customer               False  ...   \n",
       "14883         Entertainment  Affluent Customer               False  ...   \n",
       "14884         Entertainment  Affluent Customer               False  ...   \n",
       "\n",
       "       transaction_date  online_order order_status           brand  \\\n",
       "19428        2017-05-11           1.0     Approved   Trek Bicycles   \n",
       "19433        2017-12-23           0.0     Approved      OHM Cycles   \n",
       "19432        2017-12-14           1.0     Approved  Giant Bicycles   \n",
       "19431        2017-12-09           1.0     Approved      OHM Cycles   \n",
       "19430        2017-06-04           1.0     Approved  Giant Bicycles   \n",
       "...                 ...           ...          ...             ...   \n",
       "14887        2017-04-25           0.0     Approved           Solex   \n",
       "14886        2017-03-14           1.0     Approved      OHM Cycles   \n",
       "14885        2017-02-16           0.0     Approved        WeareA2B   \n",
       "14883        2017-01-09           1.0     Approved  Giant Bicycles   \n",
       "14884        2017-01-11           0.0     Approved        WeareA2B   \n",
       "\n",
       "      product_line product_class  product_size  list_price  standard_cost  \\\n",
       "19428         Road           low         small     1720.70        1531.42   \n",
       "19433     Standard        medium        medium      235.63         125.07   \n",
       "19432     Standard        medium        medium      230.91         173.18   \n",
       "19431         Road        medium        medium      742.54         667.40   \n",
       "19430     Standard        medium        medium      642.70         211.37   \n",
       "...            ...           ...           ...         ...            ...   \n",
       "14887     Standard        medium        medium       71.49          53.62   \n",
       "14886     Standard          high        medium     1458.17         874.90   \n",
       "14885     Standard        medium        medium     1228.07         400.91   \n",
       "14883         Road        medium        medium      792.90         594.68   \n",
       "14884     Standard        medium        medium       60.34          45.26   \n",
       "\n",
       "      product_first_sold_date  \n",
       "19428                 37823.0  \n",
       "19433                 38482.0  \n",
       "19432                 37337.0  \n",
       "19431                 37838.0  \n",
       "19430                 40618.0  \n",
       "...                       ...  \n",
       "14887                 41245.0  \n",
       "14886                 38750.0  \n",
       "14885                 36668.0  \n",
       "14883                 33879.0  \n",
       "14884                 34165.0  \n",
       "\n",
       "[19968 rows x 29 columns]"
      ]
     },
     "execution_count": 8,
     "metadata": {},
     "output_type": "execute_result"
    }
   ],
   "source": [
    "df"
   ]
  },
  {
   "cell_type": "code",
   "execution_count": 9,
   "id": "0861059a",
   "metadata": {},
   "outputs": [
    {
     "name": "stdout",
     "output_type": "stream",
     "text": [
      "<class 'pandas.core.frame.DataFrame'>\n",
      "Int64Index: 19968 entries, 19428 to 14884\n",
      "Data columns (total 29 columns):\n",
      " #   Column                               Non-Null Count  Dtype  \n",
      "---  ------                               --------------  -----  \n",
      " 0   customer_id                          19968 non-null  int64  \n",
      " 1   first_name                           19968 non-null  object \n",
      " 2   last_name                            19326 non-null  object \n",
      " 3   gender                               19968 non-null  object \n",
      " 4   past_3_years_bike_related_purchases  19968 non-null  int64  \n",
      " 5   dob                                  19522 non-null  object \n",
      " 6   job_title                            19968 non-null  object \n",
      " 7   job_industry_category                19968 non-null  object \n",
      " 8   wealth_segment                       19968 non-null  object \n",
      " 9   deceased_indicator                   19968 non-null  bool   \n",
      " 10  owns_car                             19968 non-null  bool   \n",
      " 11  tenure                               19968 non-null  float64\n",
      " 12  address                              19968 non-null  object \n",
      " 13  postcode                             19968 non-null  int64  \n",
      " 14  state                                19968 non-null  object \n",
      " 15  country                              19968 non-null  object \n",
      " 16  property_valuation                   19968 non-null  int64  \n",
      " 17  transaction_id                       19968 non-null  int64  \n",
      " 18  product_id                           19968 non-null  int64  \n",
      " 19  transaction_date                     19968 non-null  object \n",
      " 20  online_order                         19968 non-null  float64\n",
      " 21  order_status                         19968 non-null  object \n",
      " 22  brand                                19968 non-null  object \n",
      " 23  product_line                         19968 non-null  object \n",
      " 24  product_class                        19968 non-null  object \n",
      " 25  product_size                         19968 non-null  object \n",
      " 26  list_price                           19968 non-null  float64\n",
      " 27  standard_cost                        19794 non-null  float64\n",
      " 28  product_first_sold_date              19968 non-null  float64\n",
      "dtypes: bool(2), float64(5), int64(6), object(16)\n",
      "memory usage: 4.3+ MB\n"
     ]
    }
   ],
   "source": [
    "df.info()"
   ]
  },
  {
   "cell_type": "code",
   "execution_count": 10,
   "id": "e5e590a9",
   "metadata": {},
   "outputs": [
    {
     "data": {
      "text/html": [
       "<div>\n",
       "<style scoped>\n",
       "    .dataframe tbody tr th:only-of-type {\n",
       "        vertical-align: middle;\n",
       "    }\n",
       "\n",
       "    .dataframe tbody tr th {\n",
       "        vertical-align: top;\n",
       "    }\n",
       "\n",
       "    .dataframe thead th {\n",
       "        text-align: right;\n",
       "    }\n",
       "</style>\n",
       "<table border=\"1\" class=\"dataframe\">\n",
       "  <thead>\n",
       "    <tr style=\"text-align: right;\">\n",
       "      <th></th>\n",
       "      <th>customer_id</th>\n",
       "      <th>past_3_years_bike_related_purchases</th>\n",
       "      <th>tenure</th>\n",
       "      <th>postcode</th>\n",
       "      <th>property_valuation</th>\n",
       "      <th>transaction_id</th>\n",
       "      <th>product_id</th>\n",
       "      <th>online_order</th>\n",
       "      <th>list_price</th>\n",
       "      <th>standard_cost</th>\n",
       "      <th>product_first_sold_date</th>\n",
       "    </tr>\n",
       "  </thead>\n",
       "  <tbody>\n",
       "    <tr>\n",
       "      <th>count</th>\n",
       "      <td>19968.000000</td>\n",
       "      <td>19968.000000</td>\n",
       "      <td>19968.000000</td>\n",
       "      <td>19968.000000</td>\n",
       "      <td>19968.000000</td>\n",
       "      <td>19968.000000</td>\n",
       "      <td>19968.000000</td>\n",
       "      <td>19968.000000</td>\n",
       "      <td>19968.000000</td>\n",
       "      <td>19794.000000</td>\n",
       "      <td>19968.000000</td>\n",
       "    </tr>\n",
       "    <tr>\n",
       "      <th>mean</th>\n",
       "      <td>1740.254307</td>\n",
       "      <td>48.757412</td>\n",
       "      <td>10.689052</td>\n",
       "      <td>2987.623347</td>\n",
       "      <td>7.516376</td>\n",
       "      <td>9997.846504</td>\n",
       "      <td>45.365986</td>\n",
       "      <td>0.502103</td>\n",
       "      <td>1107.780004</td>\n",
       "      <td>556.082756</td>\n",
       "      <td>38199.169052</td>\n",
       "    </tr>\n",
       "    <tr>\n",
       "      <th>std</th>\n",
       "      <td>1009.819066</td>\n",
       "      <td>28.611359</td>\n",
       "      <td>5.611093</td>\n",
       "      <td>851.306647</td>\n",
       "      <td>2.824783</td>\n",
       "      <td>5773.929973</td>\n",
       "      <td>30.750115</td>\n",
       "      <td>0.500008</td>\n",
       "      <td>582.852548</td>\n",
       "      <td>405.798188</td>\n",
       "      <td>2861.301417</td>\n",
       "    </tr>\n",
       "    <tr>\n",
       "      <th>min</th>\n",
       "      <td>1.000000</td>\n",
       "      <td>0.000000</td>\n",
       "      <td>1.000000</td>\n",
       "      <td>2000.000000</td>\n",
       "      <td>1.000000</td>\n",
       "      <td>1.000000</td>\n",
       "      <td>0.000000</td>\n",
       "      <td>0.000000</td>\n",
       "      <td>12.010000</td>\n",
       "      <td>7.210000</td>\n",
       "      <td>33259.000000</td>\n",
       "    </tr>\n",
       "    <tr>\n",
       "      <th>25%</th>\n",
       "      <td>861.750000</td>\n",
       "      <td>24.000000</td>\n",
       "      <td>6.000000</td>\n",
       "      <td>2200.000000</td>\n",
       "      <td>6.000000</td>\n",
       "      <td>4997.750000</td>\n",
       "      <td>18.000000</td>\n",
       "      <td>0.000000</td>\n",
       "      <td>575.270000</td>\n",
       "      <td>215.140000</td>\n",
       "      <td>35667.000000</td>\n",
       "    </tr>\n",
       "    <tr>\n",
       "      <th>50%</th>\n",
       "      <td>1739.500000</td>\n",
       "      <td>48.000000</td>\n",
       "      <td>11.000000</td>\n",
       "      <td>2767.000000</td>\n",
       "      <td>8.000000</td>\n",
       "      <td>9996.500000</td>\n",
       "      <td>44.000000</td>\n",
       "      <td>1.000000</td>\n",
       "      <td>1163.890000</td>\n",
       "      <td>507.580000</td>\n",
       "      <td>38206.000000</td>\n",
       "    </tr>\n",
       "    <tr>\n",
       "      <th>75%</th>\n",
       "      <td>2614.250000</td>\n",
       "      <td>73.000000</td>\n",
       "      <td>15.000000</td>\n",
       "      <td>3754.000000</td>\n",
       "      <td>10.000000</td>\n",
       "      <td>14996.250000</td>\n",
       "      <td>72.000000</td>\n",
       "      <td>1.000000</td>\n",
       "      <td>1635.300000</td>\n",
       "      <td>795.100000</td>\n",
       "      <td>40672.000000</td>\n",
       "    </tr>\n",
       "    <tr>\n",
       "      <th>max</th>\n",
       "      <td>3500.000000</td>\n",
       "      <td>99.000000</td>\n",
       "      <td>22.000000</td>\n",
       "      <td>4883.000000</td>\n",
       "      <td>12.000000</td>\n",
       "      <td>20000.000000</td>\n",
       "      <td>100.000000</td>\n",
       "      <td>1.000000</td>\n",
       "      <td>2091.470000</td>\n",
       "      <td>1759.850000</td>\n",
       "      <td>42710.000000</td>\n",
       "    </tr>\n",
       "  </tbody>\n",
       "</table>\n",
       "</div>"
      ],
      "text/plain": [
       "        customer_id  past_3_years_bike_related_purchases        tenure  \\\n",
       "count  19968.000000                         19968.000000  19968.000000   \n",
       "mean    1740.254307                            48.757412     10.689052   \n",
       "std     1009.819066                            28.611359      5.611093   \n",
       "min        1.000000                             0.000000      1.000000   \n",
       "25%      861.750000                            24.000000      6.000000   \n",
       "50%     1739.500000                            48.000000     11.000000   \n",
       "75%     2614.250000                            73.000000     15.000000   \n",
       "max     3500.000000                            99.000000     22.000000   \n",
       "\n",
       "           postcode  property_valuation  transaction_id    product_id  \\\n",
       "count  19968.000000        19968.000000    19968.000000  19968.000000   \n",
       "mean    2987.623347            7.516376     9997.846504     45.365986   \n",
       "std      851.306647            2.824783     5773.929973     30.750115   \n",
       "min     2000.000000            1.000000        1.000000      0.000000   \n",
       "25%     2200.000000            6.000000     4997.750000     18.000000   \n",
       "50%     2767.000000            8.000000     9996.500000     44.000000   \n",
       "75%     3754.000000           10.000000    14996.250000     72.000000   \n",
       "max     4883.000000           12.000000    20000.000000    100.000000   \n",
       "\n",
       "       online_order    list_price  standard_cost  product_first_sold_date  \n",
       "count  19968.000000  19968.000000   19794.000000             19968.000000  \n",
       "mean       0.502103   1107.780004     556.082756             38199.169052  \n",
       "std        0.500008    582.852548     405.798188              2861.301417  \n",
       "min        0.000000     12.010000       7.210000             33259.000000  \n",
       "25%        0.000000    575.270000     215.140000             35667.000000  \n",
       "50%        1.000000   1163.890000     507.580000             38206.000000  \n",
       "75%        1.000000   1635.300000     795.100000             40672.000000  \n",
       "max        1.000000   2091.470000    1759.850000             42710.000000  "
      ]
     },
     "execution_count": 10,
     "metadata": {},
     "output_type": "execute_result"
    }
   ],
   "source": [
    "df.describe()"
   ]
  },
  {
   "cell_type": "code",
   "execution_count": 11,
   "id": "4069df32",
   "metadata": {},
   "outputs": [
    {
     "data": {
      "text/plain": [
       "0"
      ]
     },
     "execution_count": 11,
     "metadata": {},
     "output_type": "execute_result"
    }
   ],
   "source": [
    "df.duplicated().sum()"
   ]
  },
  {
   "cell_type": "code",
   "execution_count": 12,
   "id": "906af386",
   "metadata": {},
   "outputs": [
    {
     "data": {
      "text/plain": [
       "customer_id                              0\n",
       "first_name                               0\n",
       "last_name                              642\n",
       "gender                                   0\n",
       "past_3_years_bike_related_purchases      0\n",
       "dob                                    446\n",
       "job_title                                0\n",
       "job_industry_category                    0\n",
       "wealth_segment                           0\n",
       "deceased_indicator                       0\n",
       "owns_car                                 0\n",
       "tenure                                   0\n",
       "address                                  0\n",
       "postcode                                 0\n",
       "state                                    0\n",
       "country                                  0\n",
       "property_valuation                       0\n",
       "transaction_id                           0\n",
       "product_id                               0\n",
       "transaction_date                         0\n",
       "online_order                             0\n",
       "order_status                             0\n",
       "brand                                    0\n",
       "product_line                             0\n",
       "product_class                            0\n",
       "product_size                             0\n",
       "list_price                               0\n",
       "standard_cost                          174\n",
       "product_first_sold_date                  0\n",
       "dtype: int64"
      ]
     },
     "execution_count": 12,
     "metadata": {},
     "output_type": "execute_result"
    }
   ],
   "source": [
    "df.isnull().sum()"
   ]
  },
  {
   "cell_type": "code",
   "execution_count": 13,
   "id": "b3eab4d8",
   "metadata": {},
   "outputs": [],
   "source": [
    "df['last_name'].fillna(method='ffill', inplace = True)\n",
    "df['dob'].fillna(method='ffill', inplace = True)"
   ]
  },
  {
   "cell_type": "code",
   "execution_count": 14,
   "id": "86577d15",
   "metadata": {},
   "outputs": [
    {
     "data": {
      "text/plain": [
       "0    388.92\n",
       "dtype: float64"
      ]
     },
     "execution_count": 14,
     "metadata": {},
     "output_type": "execute_result"
    }
   ],
   "source": [
    "df.standard_cost.mode()"
   ]
  },
  {
   "cell_type": "code",
   "execution_count": 15,
   "id": "92ba2739",
   "metadata": {},
   "outputs": [
    {
     "data": {
      "text/plain": [
       "556.082755885636"
      ]
     },
     "execution_count": 15,
     "metadata": {},
     "output_type": "execute_result"
    }
   ],
   "source": [
    "df.standard_cost.mean()"
   ]
  },
  {
   "cell_type": "code",
   "execution_count": 16,
   "id": "8e289005",
   "metadata": {},
   "outputs": [],
   "source": [
    "df['standard_cost'].fillna(df['standard_cost'].mean(), inplace = True)"
   ]
  },
  {
   "cell_type": "code",
   "execution_count": 17,
   "id": "2a398630",
   "metadata": {},
   "outputs": [
    {
     "data": {
      "text/plain": [
       "customer_id                            0\n",
       "first_name                             0\n",
       "last_name                              0\n",
       "gender                                 0\n",
       "past_3_years_bike_related_purchases    0\n",
       "dob                                    0\n",
       "job_title                              0\n",
       "job_industry_category                  0\n",
       "wealth_segment                         0\n",
       "deceased_indicator                     0\n",
       "owns_car                               0\n",
       "tenure                                 0\n",
       "address                                0\n",
       "postcode                               0\n",
       "state                                  0\n",
       "country                                0\n",
       "property_valuation                     0\n",
       "transaction_id                         0\n",
       "product_id                             0\n",
       "transaction_date                       0\n",
       "online_order                           0\n",
       "order_status                           0\n",
       "brand                                  0\n",
       "product_line                           0\n",
       "product_class                          0\n",
       "product_size                           0\n",
       "list_price                             0\n",
       "standard_cost                          0\n",
       "product_first_sold_date                0\n",
       "dtype: int64"
      ]
     },
     "execution_count": 17,
     "metadata": {},
     "output_type": "execute_result"
    }
   ],
   "source": [
    "df.isnull().sum()"
   ]
  },
  {
   "cell_type": "code",
   "execution_count": 18,
   "id": "8a2b44e9",
   "metadata": {},
   "outputs": [],
   "source": [
    "df['dob'] = df['dob'].apply(pd.to_datetime)"
   ]
  },
  {
   "cell_type": "code",
   "execution_count": 19,
   "id": "cba95f78",
   "metadata": {},
   "outputs": [
    {
     "data": {
      "text/plain": [
       "customer_id                                     int64\n",
       "first_name                                     object\n",
       "last_name                                      object\n",
       "gender                                         object\n",
       "past_3_years_bike_related_purchases             int64\n",
       "dob                                    datetime64[ns]\n",
       "job_title                                      object\n",
       "job_industry_category                          object\n",
       "wealth_segment                                 object\n",
       "deceased_indicator                               bool\n",
       "owns_car                                         bool\n",
       "tenure                                        float64\n",
       "address                                        object\n",
       "postcode                                        int64\n",
       "state                                          object\n",
       "country                                        object\n",
       "property_valuation                              int64\n",
       "transaction_id                                  int64\n",
       "product_id                                      int64\n",
       "transaction_date                               object\n",
       "online_order                                  float64\n",
       "order_status                                   object\n",
       "brand                                          object\n",
       "product_line                                   object\n",
       "product_class                                  object\n",
       "product_size                                   object\n",
       "list_price                                    float64\n",
       "standard_cost                                 float64\n",
       "product_first_sold_date                       float64\n",
       "dtype: object"
      ]
     },
     "execution_count": 19,
     "metadata": {},
     "output_type": "execute_result"
    }
   ],
   "source": [
    "df.dtypes\n"
   ]
  },
  {
   "cell_type": "code",
   "execution_count": 45,
   "id": "39fee8b4",
   "metadata": {},
   "outputs": [
    {
     "name": "stderr",
     "output_type": "stream",
     "text": [
      "<ipython-input-45-80eb7c1c28c9>:5: SettingWithCopyWarning: \n",
      "A value is trying to be set on a copy of a slice from a DataFrame.\n",
      "Try using .loc[row_indexer,col_indexer] = value instead\n",
      "\n",
      "See the caveats in the documentation: https://pandas.pydata.org/pandas-docs/stable/user_guide/indexing.html#returning-a-view-versus-a-copy\n",
      "  df['Age'] = df['dob'].apply(lambda x : len(pd.date_range(start=x , end = ref_date,  freq= 'Y')))\n"
     ]
    }
   ],
   "source": [
    "#Age Column\n",
    "import datetime as dt\n",
    "\n",
    "ref_date = dt.datetime.now()\n",
    "df['Age'] = df['dob'].apply(lambda x : len(pd.date_range(start=x , end = ref_date,  freq= 'Y')))"
   ]
  },
  {
   "cell_type": "code",
   "execution_count": 46,
   "id": "daa4ad15",
   "metadata": {},
   "outputs": [],
   "source": [
    "df = df[df.Age<100]"
   ]
  },
  {
   "cell_type": "code",
   "execution_count": 47,
   "id": "ae921ff7",
   "metadata": {},
   "outputs": [
    {
     "data": {
      "text/html": [
       "<div>\n",
       "<style scoped>\n",
       "    .dataframe tbody tr th:only-of-type {\n",
       "        vertical-align: middle;\n",
       "    }\n",
       "\n",
       "    .dataframe tbody tr th {\n",
       "        vertical-align: top;\n",
       "    }\n",
       "\n",
       "    .dataframe thead th {\n",
       "        text-align: right;\n",
       "    }\n",
       "</style>\n",
       "<table border=\"1\" class=\"dataframe\">\n",
       "  <thead>\n",
       "    <tr style=\"text-align: right;\">\n",
       "      <th></th>\n",
       "      <th>customer_id</th>\n",
       "      <th>first_name</th>\n",
       "      <th>last_name</th>\n",
       "      <th>gender</th>\n",
       "      <th>past_3_years_bike_related_purchases</th>\n",
       "      <th>dob</th>\n",
       "      <th>job_title</th>\n",
       "      <th>job_industry_category</th>\n",
       "      <th>wealth_segment</th>\n",
       "      <th>deceased_indicator</th>\n",
       "      <th>...</th>\n",
       "      <th>brand</th>\n",
       "      <th>product_line</th>\n",
       "      <th>product_class</th>\n",
       "      <th>product_size</th>\n",
       "      <th>list_price</th>\n",
       "      <th>standard_cost</th>\n",
       "      <th>product_first_sold_date</th>\n",
       "      <th>Age</th>\n",
       "      <th>transaction_month</th>\n",
       "      <th>Profit</th>\n",
       "    </tr>\n",
       "  </thead>\n",
       "  <tbody>\n",
       "    <tr>\n",
       "      <th>19428</th>\n",
       "      <td>1</td>\n",
       "      <td>Laraine</td>\n",
       "      <td>Medendorp</td>\n",
       "      <td>Female</td>\n",
       "      <td>93</td>\n",
       "      <td>1953-10-12</td>\n",
       "      <td>Executive Secretary</td>\n",
       "      <td>Health</td>\n",
       "      <td>Mass Customer</td>\n",
       "      <td>False</td>\n",
       "      <td>...</td>\n",
       "      <td>Trek Bicycles</td>\n",
       "      <td>Road</td>\n",
       "      <td>low</td>\n",
       "      <td>small</td>\n",
       "      <td>1720.70</td>\n",
       "      <td>1531.42</td>\n",
       "      <td>37823.0</td>\n",
       "      <td>69</td>\n",
       "      <td>5</td>\n",
       "      <td>189.28</td>\n",
       "    </tr>\n",
       "    <tr>\n",
       "      <th>19433</th>\n",
       "      <td>1</td>\n",
       "      <td>Laraine</td>\n",
       "      <td>Medendorp</td>\n",
       "      <td>Female</td>\n",
       "      <td>93</td>\n",
       "      <td>1953-10-12</td>\n",
       "      <td>Executive Secretary</td>\n",
       "      <td>Health</td>\n",
       "      <td>Mass Customer</td>\n",
       "      <td>False</td>\n",
       "      <td>...</td>\n",
       "      <td>OHM Cycles</td>\n",
       "      <td>Standard</td>\n",
       "      <td>medium</td>\n",
       "      <td>medium</td>\n",
       "      <td>235.63</td>\n",
       "      <td>125.07</td>\n",
       "      <td>38482.0</td>\n",
       "      <td>69</td>\n",
       "      <td>12</td>\n",
       "      <td>110.56</td>\n",
       "    </tr>\n",
       "    <tr>\n",
       "      <th>19432</th>\n",
       "      <td>1</td>\n",
       "      <td>Laraine</td>\n",
       "      <td>Medendorp</td>\n",
       "      <td>Female</td>\n",
       "      <td>93</td>\n",
       "      <td>1953-10-12</td>\n",
       "      <td>Executive Secretary</td>\n",
       "      <td>Health</td>\n",
       "      <td>Mass Customer</td>\n",
       "      <td>False</td>\n",
       "      <td>...</td>\n",
       "      <td>Giant Bicycles</td>\n",
       "      <td>Standard</td>\n",
       "      <td>medium</td>\n",
       "      <td>medium</td>\n",
       "      <td>230.91</td>\n",
       "      <td>173.18</td>\n",
       "      <td>37337.0</td>\n",
       "      <td>69</td>\n",
       "      <td>12</td>\n",
       "      <td>57.73</td>\n",
       "    </tr>\n",
       "    <tr>\n",
       "      <th>19431</th>\n",
       "      <td>1</td>\n",
       "      <td>Laraine</td>\n",
       "      <td>Medendorp</td>\n",
       "      <td>Female</td>\n",
       "      <td>93</td>\n",
       "      <td>1953-10-12</td>\n",
       "      <td>Executive Secretary</td>\n",
       "      <td>Health</td>\n",
       "      <td>Mass Customer</td>\n",
       "      <td>False</td>\n",
       "      <td>...</td>\n",
       "      <td>OHM Cycles</td>\n",
       "      <td>Road</td>\n",
       "      <td>medium</td>\n",
       "      <td>medium</td>\n",
       "      <td>742.54</td>\n",
       "      <td>667.40</td>\n",
       "      <td>37838.0</td>\n",
       "      <td>69</td>\n",
       "      <td>12</td>\n",
       "      <td>75.14</td>\n",
       "    </tr>\n",
       "    <tr>\n",
       "      <th>19430</th>\n",
       "      <td>1</td>\n",
       "      <td>Laraine</td>\n",
       "      <td>Medendorp</td>\n",
       "      <td>Female</td>\n",
       "      <td>93</td>\n",
       "      <td>1953-10-12</td>\n",
       "      <td>Executive Secretary</td>\n",
       "      <td>Health</td>\n",
       "      <td>Mass Customer</td>\n",
       "      <td>False</td>\n",
       "      <td>...</td>\n",
       "      <td>Giant Bicycles</td>\n",
       "      <td>Standard</td>\n",
       "      <td>medium</td>\n",
       "      <td>medium</td>\n",
       "      <td>642.70</td>\n",
       "      <td>211.37</td>\n",
       "      <td>40618.0</td>\n",
       "      <td>69</td>\n",
       "      <td>6</td>\n",
       "      <td>431.33</td>\n",
       "    </tr>\n",
       "  </tbody>\n",
       "</table>\n",
       "<p>5 rows × 32 columns</p>\n",
       "</div>"
      ],
      "text/plain": [
       "       customer_id first_name  last_name  gender  \\\n",
       "19428            1    Laraine  Medendorp  Female   \n",
       "19433            1    Laraine  Medendorp  Female   \n",
       "19432            1    Laraine  Medendorp  Female   \n",
       "19431            1    Laraine  Medendorp  Female   \n",
       "19430            1    Laraine  Medendorp  Female   \n",
       "\n",
       "       past_3_years_bike_related_purchases        dob            job_title  \\\n",
       "19428                                   93 1953-10-12  Executive Secretary   \n",
       "19433                                   93 1953-10-12  Executive Secretary   \n",
       "19432                                   93 1953-10-12  Executive Secretary   \n",
       "19431                                   93 1953-10-12  Executive Secretary   \n",
       "19430                                   93 1953-10-12  Executive Secretary   \n",
       "\n",
       "      job_industry_category wealth_segment  deceased_indicator  ...  \\\n",
       "19428                Health  Mass Customer               False  ...   \n",
       "19433                Health  Mass Customer               False  ...   \n",
       "19432                Health  Mass Customer               False  ...   \n",
       "19431                Health  Mass Customer               False  ...   \n",
       "19430                Health  Mass Customer               False  ...   \n",
       "\n",
       "                brand  product_line product_class  product_size list_price  \\\n",
       "19428   Trek Bicycles          Road           low         small    1720.70   \n",
       "19433      OHM Cycles      Standard        medium        medium     235.63   \n",
       "19432  Giant Bicycles      Standard        medium        medium     230.91   \n",
       "19431      OHM Cycles          Road        medium        medium     742.54   \n",
       "19430  Giant Bicycles      Standard        medium        medium     642.70   \n",
       "\n",
       "      standard_cost  product_first_sold_date  Age  transaction_month  Profit  \n",
       "19428       1531.42                  37823.0   69                  5  189.28  \n",
       "19433        125.07                  38482.0   69                 12  110.56  \n",
       "19432        173.18                  37337.0   69                 12   57.73  \n",
       "19431        667.40                  37838.0   69                 12   75.14  \n",
       "19430        211.37                  40618.0   69                  6  431.33  \n",
       "\n",
       "[5 rows x 32 columns]"
      ]
     },
     "execution_count": 47,
     "metadata": {},
     "output_type": "execute_result"
    }
   ],
   "source": [
    "df.head()"
   ]
  },
  {
   "cell_type": "code",
   "execution_count": 48,
   "id": "d714e847",
   "metadata": {},
   "outputs": [],
   "source": [
    "df['transaction_month'] = pd.DatetimeIndex(df['transaction_date']).month"
   ]
  },
  {
   "cell_type": "code",
   "execution_count": 49,
   "id": "01bd2128",
   "metadata": {},
   "outputs": [],
   "source": [
    "#Adding Profit Column\n",
    "\n",
    "df['Profit'] = df['list_price'] - df['standard_cost']"
   ]
  },
  {
   "cell_type": "code",
   "execution_count": 50,
   "id": "6c28345f",
   "metadata": {},
   "outputs": [
    {
     "data": {
      "text/html": [
       "<div>\n",
       "<style scoped>\n",
       "    .dataframe tbody tr th:only-of-type {\n",
       "        vertical-align: middle;\n",
       "    }\n",
       "\n",
       "    .dataframe tbody tr th {\n",
       "        vertical-align: top;\n",
       "    }\n",
       "\n",
       "    .dataframe thead th {\n",
       "        text-align: right;\n",
       "    }\n",
       "</style>\n",
       "<table border=\"1\" class=\"dataframe\">\n",
       "  <thead>\n",
       "    <tr style=\"text-align: right;\">\n",
       "      <th></th>\n",
       "      <th>customer_id</th>\n",
       "      <th>first_name</th>\n",
       "      <th>last_name</th>\n",
       "      <th>gender</th>\n",
       "      <th>past_3_years_bike_related_purchases</th>\n",
       "      <th>dob</th>\n",
       "      <th>job_title</th>\n",
       "      <th>job_industry_category</th>\n",
       "      <th>wealth_segment</th>\n",
       "      <th>deceased_indicator</th>\n",
       "      <th>...</th>\n",
       "      <th>brand</th>\n",
       "      <th>product_line</th>\n",
       "      <th>product_class</th>\n",
       "      <th>product_size</th>\n",
       "      <th>list_price</th>\n",
       "      <th>standard_cost</th>\n",
       "      <th>product_first_sold_date</th>\n",
       "      <th>Age</th>\n",
       "      <th>transaction_month</th>\n",
       "      <th>Profit</th>\n",
       "    </tr>\n",
       "  </thead>\n",
       "  <tbody>\n",
       "    <tr>\n",
       "      <th>19428</th>\n",
       "      <td>1</td>\n",
       "      <td>Laraine</td>\n",
       "      <td>Medendorp</td>\n",
       "      <td>Female</td>\n",
       "      <td>93</td>\n",
       "      <td>1953-10-12</td>\n",
       "      <td>Executive Secretary</td>\n",
       "      <td>Health</td>\n",
       "      <td>Mass Customer</td>\n",
       "      <td>False</td>\n",
       "      <td>...</td>\n",
       "      <td>Trek Bicycles</td>\n",
       "      <td>Road</td>\n",
       "      <td>low</td>\n",
       "      <td>small</td>\n",
       "      <td>1720.70</td>\n",
       "      <td>1531.42</td>\n",
       "      <td>37823.0</td>\n",
       "      <td>69</td>\n",
       "      <td>5</td>\n",
       "      <td>189.28</td>\n",
       "    </tr>\n",
       "    <tr>\n",
       "      <th>19433</th>\n",
       "      <td>1</td>\n",
       "      <td>Laraine</td>\n",
       "      <td>Medendorp</td>\n",
       "      <td>Female</td>\n",
       "      <td>93</td>\n",
       "      <td>1953-10-12</td>\n",
       "      <td>Executive Secretary</td>\n",
       "      <td>Health</td>\n",
       "      <td>Mass Customer</td>\n",
       "      <td>False</td>\n",
       "      <td>...</td>\n",
       "      <td>OHM Cycles</td>\n",
       "      <td>Standard</td>\n",
       "      <td>medium</td>\n",
       "      <td>medium</td>\n",
       "      <td>235.63</td>\n",
       "      <td>125.07</td>\n",
       "      <td>38482.0</td>\n",
       "      <td>69</td>\n",
       "      <td>12</td>\n",
       "      <td>110.56</td>\n",
       "    </tr>\n",
       "    <tr>\n",
       "      <th>19432</th>\n",
       "      <td>1</td>\n",
       "      <td>Laraine</td>\n",
       "      <td>Medendorp</td>\n",
       "      <td>Female</td>\n",
       "      <td>93</td>\n",
       "      <td>1953-10-12</td>\n",
       "      <td>Executive Secretary</td>\n",
       "      <td>Health</td>\n",
       "      <td>Mass Customer</td>\n",
       "      <td>False</td>\n",
       "      <td>...</td>\n",
       "      <td>Giant Bicycles</td>\n",
       "      <td>Standard</td>\n",
       "      <td>medium</td>\n",
       "      <td>medium</td>\n",
       "      <td>230.91</td>\n",
       "      <td>173.18</td>\n",
       "      <td>37337.0</td>\n",
       "      <td>69</td>\n",
       "      <td>12</td>\n",
       "      <td>57.73</td>\n",
       "    </tr>\n",
       "    <tr>\n",
       "      <th>19431</th>\n",
       "      <td>1</td>\n",
       "      <td>Laraine</td>\n",
       "      <td>Medendorp</td>\n",
       "      <td>Female</td>\n",
       "      <td>93</td>\n",
       "      <td>1953-10-12</td>\n",
       "      <td>Executive Secretary</td>\n",
       "      <td>Health</td>\n",
       "      <td>Mass Customer</td>\n",
       "      <td>False</td>\n",
       "      <td>...</td>\n",
       "      <td>OHM Cycles</td>\n",
       "      <td>Road</td>\n",
       "      <td>medium</td>\n",
       "      <td>medium</td>\n",
       "      <td>742.54</td>\n",
       "      <td>667.40</td>\n",
       "      <td>37838.0</td>\n",
       "      <td>69</td>\n",
       "      <td>12</td>\n",
       "      <td>75.14</td>\n",
       "    </tr>\n",
       "    <tr>\n",
       "      <th>19430</th>\n",
       "      <td>1</td>\n",
       "      <td>Laraine</td>\n",
       "      <td>Medendorp</td>\n",
       "      <td>Female</td>\n",
       "      <td>93</td>\n",
       "      <td>1953-10-12</td>\n",
       "      <td>Executive Secretary</td>\n",
       "      <td>Health</td>\n",
       "      <td>Mass Customer</td>\n",
       "      <td>False</td>\n",
       "      <td>...</td>\n",
       "      <td>Giant Bicycles</td>\n",
       "      <td>Standard</td>\n",
       "      <td>medium</td>\n",
       "      <td>medium</td>\n",
       "      <td>642.70</td>\n",
       "      <td>211.37</td>\n",
       "      <td>40618.0</td>\n",
       "      <td>69</td>\n",
       "      <td>6</td>\n",
       "      <td>431.33</td>\n",
       "    </tr>\n",
       "  </tbody>\n",
       "</table>\n",
       "<p>5 rows × 32 columns</p>\n",
       "</div>"
      ],
      "text/plain": [
       "       customer_id first_name  last_name  gender  \\\n",
       "19428            1    Laraine  Medendorp  Female   \n",
       "19433            1    Laraine  Medendorp  Female   \n",
       "19432            1    Laraine  Medendorp  Female   \n",
       "19431            1    Laraine  Medendorp  Female   \n",
       "19430            1    Laraine  Medendorp  Female   \n",
       "\n",
       "       past_3_years_bike_related_purchases        dob            job_title  \\\n",
       "19428                                   93 1953-10-12  Executive Secretary   \n",
       "19433                                   93 1953-10-12  Executive Secretary   \n",
       "19432                                   93 1953-10-12  Executive Secretary   \n",
       "19431                                   93 1953-10-12  Executive Secretary   \n",
       "19430                                   93 1953-10-12  Executive Secretary   \n",
       "\n",
       "      job_industry_category wealth_segment  deceased_indicator  ...  \\\n",
       "19428                Health  Mass Customer               False  ...   \n",
       "19433                Health  Mass Customer               False  ...   \n",
       "19432                Health  Mass Customer               False  ...   \n",
       "19431                Health  Mass Customer               False  ...   \n",
       "19430                Health  Mass Customer               False  ...   \n",
       "\n",
       "                brand  product_line product_class  product_size list_price  \\\n",
       "19428   Trek Bicycles          Road           low         small    1720.70   \n",
       "19433      OHM Cycles      Standard        medium        medium     235.63   \n",
       "19432  Giant Bicycles      Standard        medium        medium     230.91   \n",
       "19431      OHM Cycles          Road        medium        medium     742.54   \n",
       "19430  Giant Bicycles      Standard        medium        medium     642.70   \n",
       "\n",
       "      standard_cost  product_first_sold_date  Age  transaction_month  Profit  \n",
       "19428       1531.42                  37823.0   69                  5  189.28  \n",
       "19433        125.07                  38482.0   69                 12  110.56  \n",
       "19432        173.18                  37337.0   69                 12   57.73  \n",
       "19431        667.40                  37838.0   69                 12   75.14  \n",
       "19430        211.37                  40618.0   69                  6  431.33  \n",
       "\n",
       "[5 rows x 32 columns]"
      ]
     },
     "execution_count": 50,
     "metadata": {},
     "output_type": "execute_result"
    }
   ],
   "source": [
    "df.head()"
   ]
  },
  {
   "cell_type": "code",
   "execution_count": 51,
   "id": "c87d258b",
   "metadata": {},
   "outputs": [
    {
     "data": {
      "text/html": [
       "<div>\n",
       "<style scoped>\n",
       "    .dataframe tbody tr th:only-of-type {\n",
       "        vertical-align: middle;\n",
       "    }\n",
       "\n",
       "    .dataframe tbody tr th {\n",
       "        vertical-align: top;\n",
       "    }\n",
       "\n",
       "    .dataframe thead th {\n",
       "        text-align: right;\n",
       "    }\n",
       "</style>\n",
       "<table border=\"1\" class=\"dataframe\">\n",
       "  <thead>\n",
       "    <tr style=\"text-align: right;\">\n",
       "      <th></th>\n",
       "      <th>customer_id</th>\n",
       "      <th>first_name</th>\n",
       "      <th>last_name</th>\n",
       "      <th>gender</th>\n",
       "      <th>past_3_years_bike_related_purchases</th>\n",
       "      <th>dob</th>\n",
       "      <th>job_title</th>\n",
       "      <th>job_industry_category</th>\n",
       "      <th>wealth_segment</th>\n",
       "      <th>deceased_indicator</th>\n",
       "      <th>...</th>\n",
       "      <th>brand</th>\n",
       "      <th>product_line</th>\n",
       "      <th>product_class</th>\n",
       "      <th>product_size</th>\n",
       "      <th>list_price</th>\n",
       "      <th>standard_cost</th>\n",
       "      <th>product_first_sold_date</th>\n",
       "      <th>Age</th>\n",
       "      <th>transaction_month</th>\n",
       "      <th>Profit</th>\n",
       "    </tr>\n",
       "  </thead>\n",
       "  <tbody>\n",
       "    <tr>\n",
       "      <th>14887</th>\n",
       "      <td>3500</td>\n",
       "      <td>Josy</td>\n",
       "      <td>Fleeman</td>\n",
       "      <td>Female</td>\n",
       "      <td>71</td>\n",
       "      <td>1967-07-21</td>\n",
       "      <td>Geological Engineer</td>\n",
       "      <td>Entertainment</td>\n",
       "      <td>Affluent Customer</td>\n",
       "      <td>False</td>\n",
       "      <td>...</td>\n",
       "      <td>Solex</td>\n",
       "      <td>Standard</td>\n",
       "      <td>medium</td>\n",
       "      <td>medium</td>\n",
       "      <td>71.49</td>\n",
       "      <td>53.62</td>\n",
       "      <td>41245.0</td>\n",
       "      <td>55</td>\n",
       "      <td>4</td>\n",
       "      <td>17.87</td>\n",
       "    </tr>\n",
       "    <tr>\n",
       "      <th>14886</th>\n",
       "      <td>3500</td>\n",
       "      <td>Josy</td>\n",
       "      <td>Fleeman</td>\n",
       "      <td>Female</td>\n",
       "      <td>71</td>\n",
       "      <td>1967-07-21</td>\n",
       "      <td>Geological Engineer</td>\n",
       "      <td>Entertainment</td>\n",
       "      <td>Affluent Customer</td>\n",
       "      <td>False</td>\n",
       "      <td>...</td>\n",
       "      <td>OHM Cycles</td>\n",
       "      <td>Standard</td>\n",
       "      <td>high</td>\n",
       "      <td>medium</td>\n",
       "      <td>1458.17</td>\n",
       "      <td>874.90</td>\n",
       "      <td>38750.0</td>\n",
       "      <td>55</td>\n",
       "      <td>3</td>\n",
       "      <td>583.27</td>\n",
       "    </tr>\n",
       "    <tr>\n",
       "      <th>14885</th>\n",
       "      <td>3500</td>\n",
       "      <td>Josy</td>\n",
       "      <td>Fleeman</td>\n",
       "      <td>Female</td>\n",
       "      <td>71</td>\n",
       "      <td>1967-07-21</td>\n",
       "      <td>Geological Engineer</td>\n",
       "      <td>Entertainment</td>\n",
       "      <td>Affluent Customer</td>\n",
       "      <td>False</td>\n",
       "      <td>...</td>\n",
       "      <td>WeareA2B</td>\n",
       "      <td>Standard</td>\n",
       "      <td>medium</td>\n",
       "      <td>medium</td>\n",
       "      <td>1228.07</td>\n",
       "      <td>400.91</td>\n",
       "      <td>36668.0</td>\n",
       "      <td>55</td>\n",
       "      <td>2</td>\n",
       "      <td>827.16</td>\n",
       "    </tr>\n",
       "    <tr>\n",
       "      <th>14883</th>\n",
       "      <td>3500</td>\n",
       "      <td>Josy</td>\n",
       "      <td>Fleeman</td>\n",
       "      <td>Female</td>\n",
       "      <td>71</td>\n",
       "      <td>1967-07-21</td>\n",
       "      <td>Geological Engineer</td>\n",
       "      <td>Entertainment</td>\n",
       "      <td>Affluent Customer</td>\n",
       "      <td>False</td>\n",
       "      <td>...</td>\n",
       "      <td>Giant Bicycles</td>\n",
       "      <td>Road</td>\n",
       "      <td>medium</td>\n",
       "      <td>medium</td>\n",
       "      <td>792.90</td>\n",
       "      <td>594.68</td>\n",
       "      <td>33879.0</td>\n",
       "      <td>55</td>\n",
       "      <td>1</td>\n",
       "      <td>198.22</td>\n",
       "    </tr>\n",
       "    <tr>\n",
       "      <th>14884</th>\n",
       "      <td>3500</td>\n",
       "      <td>Josy</td>\n",
       "      <td>Fleeman</td>\n",
       "      <td>Female</td>\n",
       "      <td>71</td>\n",
       "      <td>1967-07-21</td>\n",
       "      <td>Geological Engineer</td>\n",
       "      <td>Entertainment</td>\n",
       "      <td>Affluent Customer</td>\n",
       "      <td>False</td>\n",
       "      <td>...</td>\n",
       "      <td>WeareA2B</td>\n",
       "      <td>Standard</td>\n",
       "      <td>medium</td>\n",
       "      <td>medium</td>\n",
       "      <td>60.34</td>\n",
       "      <td>45.26</td>\n",
       "      <td>34165.0</td>\n",
       "      <td>55</td>\n",
       "      <td>1</td>\n",
       "      <td>15.08</td>\n",
       "    </tr>\n",
       "  </tbody>\n",
       "</table>\n",
       "<p>5 rows × 32 columns</p>\n",
       "</div>"
      ],
      "text/plain": [
       "       customer_id first_name last_name  gender  \\\n",
       "14887         3500       Josy   Fleeman  Female   \n",
       "14886         3500       Josy   Fleeman  Female   \n",
       "14885         3500       Josy   Fleeman  Female   \n",
       "14883         3500       Josy   Fleeman  Female   \n",
       "14884         3500       Josy   Fleeman  Female   \n",
       "\n",
       "       past_3_years_bike_related_purchases        dob            job_title  \\\n",
       "14887                                   71 1967-07-21  Geological Engineer   \n",
       "14886                                   71 1967-07-21  Geological Engineer   \n",
       "14885                                   71 1967-07-21  Geological Engineer   \n",
       "14883                                   71 1967-07-21  Geological Engineer   \n",
       "14884                                   71 1967-07-21  Geological Engineer   \n",
       "\n",
       "      job_industry_category     wealth_segment  deceased_indicator  ...  \\\n",
       "14887         Entertainment  Affluent Customer               False  ...   \n",
       "14886         Entertainment  Affluent Customer               False  ...   \n",
       "14885         Entertainment  Affluent Customer               False  ...   \n",
       "14883         Entertainment  Affluent Customer               False  ...   \n",
       "14884         Entertainment  Affluent Customer               False  ...   \n",
       "\n",
       "                brand  product_line product_class  product_size list_price  \\\n",
       "14887           Solex      Standard        medium        medium      71.49   \n",
       "14886      OHM Cycles      Standard          high        medium    1458.17   \n",
       "14885        WeareA2B      Standard        medium        medium    1228.07   \n",
       "14883  Giant Bicycles          Road        medium        medium     792.90   \n",
       "14884        WeareA2B      Standard        medium        medium      60.34   \n",
       "\n",
       "      standard_cost  product_first_sold_date  Age  transaction_month  Profit  \n",
       "14887         53.62                  41245.0   55                  4   17.87  \n",
       "14886        874.90                  38750.0   55                  3  583.27  \n",
       "14885        400.91                  36668.0   55                  2  827.16  \n",
       "14883        594.68                  33879.0   55                  1  198.22  \n",
       "14884         45.26                  34165.0   55                  1   15.08  \n",
       "\n",
       "[5 rows x 32 columns]"
      ]
     },
     "execution_count": 51,
     "metadata": {},
     "output_type": "execute_result"
    }
   ],
   "source": [
    "df.tail()"
   ]
  },
  {
   "cell_type": "code",
   "execution_count": 52,
   "id": "9b95a2c0",
   "metadata": {},
   "outputs": [],
   "source": [
    "#DATA VISUALIZATION"
   ]
  },
  {
   "cell_type": "code",
   "execution_count": 53,
   "id": "6cd27937",
   "metadata": {},
   "outputs": [
    {
     "data": {
      "image/png": "[encoded data removed]",
      "text/plain": [
       "<Figure size 864x432 with 1 Axes>"
      ]
     },
     "metadata": {
      "needs_background": "light"
     },
     "output_type": "display_data"
    }
   ],
   "source": [
    "plt.figure(figsize=(12,6))\n",
    "\n",
    "#Age Distribution\n",
    "\n",
    "plt.hist(df['Age'], color = 'orange', edgecolor='white', bins=[0,25,45,65,100])\n",
    "plt.title('Age Distribution')\n",
    "plt.xlabel('Age')\n",
    "plt.ylabel('Frequecy')\n",
    "plt.savefig('age_dist_histogram')\n",
    "plt.show()"
   ]
  },
  {
   "cell_type": "code",
   "execution_count": 54,
   "id": "e3705231",
   "metadata": {},
   "outputs": [
    {
     "name": "stderr",
     "output_type": "stream",
     "text": [
      "C:\\Users\\ashwa\\Anaconda3\\lib\\site-packages\\seaborn\\_decorators.py:36: FutureWarning: Pass the following variable as a keyword arg: x. From version 0.12, the only valid positional argument will be `data`, and passing other arguments without an explicit keyword will result in an error or misinterpretation.\n",
      "  warnings.warn(\n"
     ]
    },
    {
     "data": {
      "image/png": "[encoded data removed]",
      "text/plain": [
       "<Figure size 864x432 with 1 Axes>"
      ]
     },
     "metadata": {
      "needs_background": "light"
     },
     "output_type": "display_data"
    }
   ],
   "source": [
    "#Gender \n",
    "\n",
    "plt.figure(figsize=(12,6))\n",
    "sns.countplot(df['gender'])\n",
    "plt.title('Gender Count Barchart')\n",
    "plt.savefig('gender_count_original.png')\n",
    "plt.show()"
   ]
  },
  {
   "cell_type": "code",
   "execution_count": 55,
   "id": "f21e2a64",
   "metadata": {},
   "outputs": [
    {
     "name": "stderr",
     "output_type": "stream",
     "text": [
      "C:\\Users\\ashwa\\Anaconda3\\lib\\site-packages\\seaborn\\_decorators.py:36: FutureWarning: Pass the following variable as a keyword arg: x. From version 0.12, the only valid positional argument will be `data`, and passing other arguments without an explicit keyword will result in an error or misinterpretation.\n",
      "  warnings.warn(\n"
     ]
    },
    {
     "data": {
      "image/png": "[encoded data removed]",
      "text/plain": [
       "<Figure size 1152x576 with 1 Axes>"
      ]
     },
     "metadata": {
      "needs_background": "light"
     },
     "output_type": "display_data"
    }
   ],
   "source": [
    "#Job Industry Category\n",
    "\n",
    "plt.figure(figsize=(16,8))\n",
    "sns.countplot(df['job_industry_category'])\n",
    "plt.title('Job Industry Category Barchart')\n",
    "plt.savefig('job_industry_original.png')\n",
    "plt.show()"
   ]
  },
  {
   "cell_type": "code",
   "execution_count": 56,
   "id": "d8540a56",
   "metadata": {},
   "outputs": [
    {
     "data": {
      "image/png": "[encoded data removed]",
      "text/plain": [
       "<Figure size 1152x576 with 1 Axes>"
      ]
     },
     "metadata": {
      "needs_background": "light"
     },
     "output_type": "display_data"
    }
   ],
   "source": [
    "plt.figure(figsize=(16,8))\n",
    "sns.countplot(x='job_industry_category', data = df, hue = 'gender')\n",
    "plt.legend(title='Gender', loc = 'upper right', fancybox = True)\n",
    "plt.title('Job Industry Category Across Gender')\n",
    "plt.savefig('job_industry_gender_original.png')\n",
    "plt.show()"
   ]
  },
  {
   "cell_type": "code",
   "execution_count": 57,
   "id": "c94d3dae",
   "metadata": {},
   "outputs": [
    {
     "data": {
      "image/png": "[encoded data removed]",
      "text/plain": [
       "<Figure size 864x432 with 1 Axes>"
      ]
     },
     "metadata": {
      "needs_background": "light"
     },
     "output_type": "display_data"
    }
   ],
   "source": [
    "#Wealth Segment\n",
    "\n",
    "plt.figure(figsize=(12,6))\n",
    "\n",
    "sns.countplot(x= 'wealth_segment', data = df)\n",
    "plt.title('Wealth Segment Distribution')\n",
    "plt.xlabel('Wealth Segment')\n",
    "plt.ylabel('Frequency')\n",
    "plt.savefig('wealth_segment_original.png')\n",
    "plt.show()"
   ]
  },
  {
   "cell_type": "code",
   "execution_count": 58,
   "id": "8c1591a6",
   "metadata": {},
   "outputs": [
    {
     "data": {
      "image/png": "[encoded data removed]",
      "text/plain": [
       "<Figure size 864x576 with 1 Axes>"
      ]
     },
     "metadata": {
      "needs_background": "light"
     },
     "output_type": "display_data"
    }
   ],
   "source": [
    "#Car Owned Across Gender\n",
    "\n",
    "plt.figure(figsize=(12,8))\n",
    "\n",
    "sns.countplot(x= 'gender', data = df, hue = 'owns_car')\n",
    "plt.legend(title='Owns Car', loc='upper right', fancybox = True)\n",
    "plt.title('Cars Owned Across Gender')\n",
    "plt.savefig('owns_car_original.png')\n",
    "plt.show()"
   ]
  },
  {
   "cell_type": "code",
   "execution_count": 59,
   "id": "3980b9a8",
   "metadata": {},
   "outputs": [
    {
     "data": {
      "text/plain": [
       "<Figure size 864x432 with 0 Axes>"
      ]
     },
     "metadata": {},
     "output_type": "display_data"
    },
    {
     "data": {
      "image/png": "[encoded data removed]",
      "text/plain": [
       "<Figure size 360x360 with 1 Axes>"
      ]
     },
     "metadata": {
      "needs_background": "light"
     },
     "output_type": "display_data"
    }
   ],
   "source": [
    "#Past 3 Years Bike Related Products\n",
    "\n",
    "plt.figure(figsize=(12,6))\n",
    "sns.catplot(x='gender',y = 'past_3_years_bike_related_purchases', data = df)\n",
    "plt.title('Number of bike purchased across gender')\n",
    "plt.savefig('bike_purchase_original.png')\n",
    "plt.show()"
   ]
  },
  {
   "cell_type": "code",
   "execution_count": 60,
   "id": "30e123d8",
   "metadata": {},
   "outputs": [
    {
     "data": {
      "image/png": "[encoded data removed]",
      "text/plain": [
       "<Figure size 864x432 with 1 Axes>"
      ]
     },
     "metadata": {
      "needs_background": "light"
     },
     "output_type": "display_data"
    }
   ],
   "source": [
    "#Wealth Segment Across Gender\n",
    "\n",
    "plt.figure(figsize=(12,6))\n",
    "sns.countplot(x='gender', data = df, hue='wealth_segment')\n",
    "plt.title('Wealth Segment Across Gender')\n",
    "plt.savefig('wealth_segment_gender_original.png')\n",
    "plt.show()"
   ]
  },
  {
   "cell_type": "code",
   "execution_count": 61,
   "id": "be3ba65c",
   "metadata": {},
   "outputs": [
    {
     "data": {
      "text/plain": [
       "<Figure size 864x432 with 0 Axes>"
      ]
     },
     "metadata": {},
     "output_type": "display_data"
    },
    {
     "data": {
      "image/png": "[encoded data removed]",
      "text/plain": [
       "<Figure size 486.75x360 with 1 Axes>"
      ]
     },
     "metadata": {
      "needs_background": "light"
     },
     "output_type": "display_data"
    }
   ],
   "source": [
    "#Wealth Segment Across Age Group\n",
    "\n",
    "plt.figure(figsize=(12,6))\n",
    "sns.displot(x='Age',binwidth = 10,  data = df, hue='wealth_segment')\n",
    "plt.title('Wealth Segment Across Age Group')\n",
    "plt.savefig('wealth_segment_age_original.png')\n",
    "plt.show()"
   ]
  },
  {
   "cell_type": "code",
   "execution_count": 62,
   "id": "effc037e",
   "metadata": {},
   "outputs": [
    {
     "data": {
      "image/png": "[encoded data removed]",
      "text/plain": [
       "<Figure size 864x432 with 1 Axes>"
      ]
     },
     "metadata": {
      "needs_background": "light"
     },
     "output_type": "display_data"
    }
   ],
   "source": [
    "#Wealth Segment Across State\n",
    "\n",
    "plt.figure(figsize=(12,6))\n",
    "sns.countplot(x='state', data = df, hue='wealth_segment')\n",
    "plt.title('Wealth Segment Across State')\n",
    "plt.savefig('wealth_segment_state_original.png')\n",
    "plt.show()"
   ]
  },
  {
   "cell_type": "code",
   "execution_count": 63,
   "id": "c3e3bbb0",
   "metadata": {},
   "outputs": [
    {
     "data": {
      "image/png": "[encoded data removed]",
      "text/plain": [
       "<Figure size 1152x576 with 1 Axes>"
      ]
     },
     "metadata": {
      "needs_background": "light"
     },
     "output_type": "display_data"
    }
   ],
   "source": [
    "#Job Industry Category Across Gender\n",
    "\n",
    "plt.figure(figsize=(16,8))\n",
    "sns.countplot(x='gender', data = df, hue='job_industry_category', order = df['gender'].value_counts().index)\n",
    "plt.legend(title='Job Industry Category', loc='upper right', fancybox= True)\n",
    "plt.title('Job Industry Category Across Gender')\n",
    "plt.savefig('job_industry_gender_original.png')\n",
    "plt.show()\n"
   ]
  },
  {
   "cell_type": "code",
   "execution_count": 64,
   "id": "2f98fada",
   "metadata": {},
   "outputs": [
    {
     "data": {
      "image/png": "[encoded data removed]",
      "text/plain": [
       "<Figure size 864x432 with 1 Axes>"
      ]
     },
     "metadata": {
      "needs_background": "light"
     },
     "output_type": "display_data"
    }
   ],
   "source": [
    "#No of People of different Gender across State\n",
    "\n",
    "plt.figure(figsize=(12,6))\n",
    "sns.countplot(x='gender', data = df, hue='state')\n",
    "plt.legend(title='State', loc='upper right', fancybox=True)\n",
    "plt.title('No of People of different gender across state')\n",
    "plt.savefig('state_gender.png')\n",
    "plt.show()"
   ]
  },
  {
   "cell_type": "code",
   "execution_count": 65,
   "id": "1a1dfa2f",
   "metadata": {},
   "outputs": [
    {
     "data": {
      "image/png": "[encoded data removed]",
      "text/plain": [
       "<Figure size 864x432 with 1 Axes>"
      ]
     },
     "metadata": {
      "needs_background": "light"
     },
     "output_type": "display_data"
    }
   ],
   "source": [
    "#No of People in different state\n",
    "\n",
    "plt.figure(figsize=(12,6))\n",
    "sns.countplot(x='state', data = df, hue='gender')\n",
    "plt.legend(title='Gender', loc='upper right', fancybox = True)\n",
    "plt.title('No of people in different state')\n",
    "plt.savefig('state_gender.png')\n",
    "plt.show()"
   ]
  },
  {
   "cell_type": "code",
   "execution_count": 66,
   "id": "f60886d9",
   "metadata": {},
   "outputs": [
    {
     "data": {
      "image/png": "[encoded data removed]",
      "text/plain": [
       "<Figure size 864x432 with 1 Axes>"
      ]
     },
     "metadata": {
      "needs_background": "light"
     },
     "output_type": "display_data"
    }
   ],
   "source": [
    "#People owning cars in different state\n",
    "\n",
    "plt.figure(figsize=(12,6))\n",
    "sns.countplot(x='state', data = df, hue='owns_car')\n",
    "plt.legend(title='Own Car', loc='upper right', fancybox = True)\n",
    "plt.title('People Owning Cars in different state')\n",
    "plt.savefig('owns_car_state.png')\n",
    "plt.show()"
   ]
  },
  {
   "cell_type": "code",
   "execution_count": 67,
   "id": "5fdbdd15",
   "metadata": {},
   "outputs": [
    {
     "data": {
      "image/png": "[encoded data removed]",
      "text/plain": [
       "<Figure size 864x432 with 1 Axes>"
      ]
     },
     "metadata": {
      "needs_background": "light"
     },
     "output_type": "display_data"
    }
   ],
   "source": [
    "#Age Range across Gender\n",
    "\n",
    "plt.figure(figsize=(12,6))\n",
    "sns.boxplot(y=df['Age'], x=df['gender'])\n",
    "plt.title('Age Range of Customers')\n",
    "plt.savefig('age_boxplot.png')\n",
    "plt.show()\n"
   ]
  },
  {
   "cell_type": "code",
   "execution_count": 68,
   "id": "edcbeaf3",
   "metadata": {},
   "outputs": [],
   "source": [
    "df.to_excel('./current_customers.xlsx', sheet_name='123', index= False)"
   ]
  },
  {
   "cell_type": "code",
   "execution_count": null,
   "id": "216bed58",
   "metadata": {},
   "outputs": [],
   "source": []
  },
  {
   "cell_type": "code",
   "execution_count": null,
   "id": "f0688b42",
   "metadata": {},
   "outputs": [],
   "source": []
  },
  {
   "cell_type": "code",
   "execution_count": null,
   "id": "0a2e1feb",
   "metadata": {},
   "outputs": [],
   "source": []
  }
 ],
 "metadata": {
  "kernelspec": {
   "display_name": "Python 3",
   "language": "python",
   "name": "python3"
  },
  "language_info": {
   "codemirror_mode": {
    "name": "ipython",
    "version": 3
   },
   "file_extension": ".py",
   "mimetype": "text/x-python",
   "name": "python",
   "nbconvert_exporter": "python",
   "pygments_lexer": "ipython3",
   "version": "3.8.8"
  }
 },
 "nbformat": 4,
 "nbformat_minor": 5
}
