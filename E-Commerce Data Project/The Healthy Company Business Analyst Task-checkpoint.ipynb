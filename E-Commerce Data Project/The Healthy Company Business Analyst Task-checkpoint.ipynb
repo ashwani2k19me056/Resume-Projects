{
 "cells": [
  {
   "cell_type": "code",
   "execution_count": 1,
   "id": "26fb17bc",
   "metadata": {},
   "outputs": [],
   "source": [
    "import numpy as np\n",
    "import pandas as pd\n",
    "import matplotlib.pyplot as plt\n",
    "import seaborn as sns\n",
    "\n",
    "%matplotlib inline"
   ]
  },
  {
   "cell_type": "code",
   "execution_count": 2,
   "id": "0b2d6c52",
   "metadata": {},
   "outputs": [],
   "source": [
    "import datetime as dt"
   ]
  },
  {
   "cell_type": "code",
   "execution_count": 3,
   "id": "07f2356c",
   "metadata": {},
   "outputs": [],
   "source": [
    "df = pd.read_csv('Sample Data Set(csv) - Task  - Copy.csv')"
   ]
  },
  {
   "cell_type": "code",
   "execution_count": 4,
   "id": "013de00c",
   "metadata": {},
   "outputs": [
    {
     "data": {
      "text/html": [
       "<div>\n",
       "<style scoped>\n",
       "    .dataframe tbody tr th:only-of-type {\n",
       "        vertical-align: middle;\n",
       "    }\n",
       "\n",
       "    .dataframe tbody tr th {\n",
       "        vertical-align: top;\n",
       "    }\n",
       "\n",
       "    .dataframe thead th {\n",
       "        text-align: right;\n",
       "    }\n",
       "</style>\n",
       "<table border=\"1\" class=\"dataframe\">\n",
       "  <thead>\n",
       "    <tr style=\"text-align: right;\">\n",
       "      <th></th>\n",
       "      <th>ID</th>\n",
       "      <th>Name</th>\n",
       "      <th>City</th>\n",
       "      <th>State</th>\n",
       "      <th>Address</th>\n",
       "      <th>isCOD</th>\n",
       "      <th>Date Placed</th>\n",
       "      <th>Status</th>\n",
       "      <th>IVR</th>\n",
       "      <th>Remarks</th>\n",
       "      <th>Cart</th>\n",
       "      <th>Total</th>\n",
       "      <th>Date Delivered</th>\n",
       "      <th>Date Returned</th>\n",
       "      <th>Days to Deliver</th>\n",
       "      <th>Days to Return</th>\n",
       "    </tr>\n",
       "  </thead>\n",
       "  <tbody>\n",
       "    <tr>\n",
       "      <th>0</th>\n",
       "      <td>30145</td>\n",
       "      <td>Man</td>\n",
       "      <td>Nayagarh</td>\n",
       "      <td>Odisha</td>\n",
       "      <td>Jagadish Prasad, Golapokhari-Bhapur Road, Fate...</td>\n",
       "      <td>True</td>\n",
       "      <td>2021-01-31</td>\n",
       "      <td>Delivered</td>\n",
       "      <td>Confirmed</td>\n",
       "      <td>pickrr</td>\n",
       "      <td>[{\"id\": 32, \"pname\": \"One Week Weight-Loss (Pe...</td>\n",
       "      <td>999</td>\n",
       "      <td>2021-02-14</td>\n",
       "      <td>NaN</td>\n",
       "      <td>14.0</td>\n",
       "      <td>NaN</td>\n",
       "    </tr>\n",
       "    <tr>\n",
       "      <th>1</th>\n",
       "      <td>30144</td>\n",
       "      <td>Dik</td>\n",
       "      <td>Thane</td>\n",
       "      <td>Maharashtra</td>\n",
       "      <td>Shanti Garden Sector 4 , flat 401, building 2,...</td>\n",
       "      <td>True</td>\n",
       "      <td>2021-01-31</td>\n",
       "      <td>Delivered</td>\n",
       "      <td>Confirmed</td>\n",
       "      <td>NaN</td>\n",
       "      <td>[{\"id\": 23, \"pname\": \"One Week Detox Trial\", \"...</td>\n",
       "      <td>599</td>\n",
       "      <td>2021-02-02</td>\n",
       "      <td>NaN</td>\n",
       "      <td>2.0</td>\n",
       "      <td>NaN</td>\n",
       "    </tr>\n",
       "    <tr>\n",
       "      <th>2</th>\n",
       "      <td>30143</td>\n",
       "      <td>Shi</td>\n",
       "      <td>Bangalore</td>\n",
       "      <td>Karnataka</td>\n",
       "      <td>#280 2nd main 2nd cross, vinobha nagar kg halli</td>\n",
       "      <td>True</td>\n",
       "      <td>2021-01-31</td>\n",
       "      <td>Delivered</td>\n",
       "      <td>Confirmed</td>\n",
       "      <td>On call</td>\n",
       "      <td>[{\"id\": 23, \"pname\": \"One Week Detox Trial\", \"...</td>\n",
       "      <td>599</td>\n",
       "      <td>2021-02-08</td>\n",
       "      <td>NaN</td>\n",
       "      <td>8.0</td>\n",
       "      <td>NaN</td>\n",
       "    </tr>\n",
       "    <tr>\n",
       "      <th>3</th>\n",
       "      <td>30142</td>\n",
       "      <td>Pre</td>\n",
       "      <td>Mumbai</td>\n",
       "      <td>Maharashtra</td>\n",
       "      <td>1404/ Accord Nidhi, above Bikaji, Link Road, M...</td>\n",
       "      <td>True</td>\n",
       "      <td>2021-01-31</td>\n",
       "      <td>Delivered</td>\n",
       "      <td>Confirmed</td>\n",
       "      <td>Script</td>\n",
       "      <td>[{\"id\": 34, \"pname\": \"One Month Weight-Loss (P...</td>\n",
       "      <td>3596</td>\n",
       "      <td>2021-02-09</td>\n",
       "      <td>NaN</td>\n",
       "      <td>9.0</td>\n",
       "      <td>NaN</td>\n",
       "    </tr>\n",
       "    <tr>\n",
       "      <th>4</th>\n",
       "      <td>30138</td>\n",
       "      <td>Dr.</td>\n",
       "      <td>Pauri Garhwal</td>\n",
       "      <td>Uttarakhand</td>\n",
       "      <td>10 am to 3 pm, Please call Before Coming, Room...</td>\n",
       "      <td>True</td>\n",
       "      <td>2021-01-31</td>\n",
       "      <td>Delivered</td>\n",
       "      <td>Confirmed</td>\n",
       "      <td>Script</td>\n",
       "      <td>[{\"id\": 31, \"pname\": \"One Week Weight-Loss (Mi...</td>\n",
       "      <td>999</td>\n",
       "      <td>2021-02-04</td>\n",
       "      <td>NaN</td>\n",
       "      <td>4.0</td>\n",
       "      <td>NaN</td>\n",
       "    </tr>\n",
       "  </tbody>\n",
       "</table>\n",
       "</div>"
      ],
      "text/plain": [
       "      ID Name           City        State  \\\n",
       "0  30145  Man       Nayagarh       Odisha   \n",
       "1  30144  Dik          Thane  Maharashtra   \n",
       "2  30143  Shi      Bangalore    Karnataka   \n",
       "3  30142  Pre         Mumbai  Maharashtra   \n",
       "4  30138  Dr.  Pauri Garhwal  Uttarakhand   \n",
       "\n",
       "                                             Address  isCOD Date Placed  \\\n",
       "0  Jagadish Prasad, Golapokhari-Bhapur Road, Fate...   True  2021-01-31   \n",
       "1  Shanti Garden Sector 4 , flat 401, building 2,...   True  2021-01-31   \n",
       "2    #280 2nd main 2nd cross, vinobha nagar kg halli   True  2021-01-31   \n",
       "3  1404/ Accord Nidhi, above Bikaji, Link Road, M...   True  2021-01-31   \n",
       "4  10 am to 3 pm, Please call Before Coming, Room...   True  2021-01-31   \n",
       "\n",
       "      Status        IVR  Remarks  \\\n",
       "0  Delivered  Confirmed   pickrr   \n",
       "1  Delivered  Confirmed      NaN   \n",
       "2  Delivered  Confirmed  On call   \n",
       "3  Delivered  Confirmed   Script   \n",
       "4  Delivered  Confirmed   Script   \n",
       "\n",
       "                                                Cart  Total Date Delivered  \\\n",
       "0  [{\"id\": 32, \"pname\": \"One Week Weight-Loss (Pe...    999     2021-02-14   \n",
       "1  [{\"id\": 23, \"pname\": \"One Week Detox Trial\", \"...    599     2021-02-02   \n",
       "2  [{\"id\": 23, \"pname\": \"One Week Detox Trial\", \"...    599     2021-02-08   \n",
       "3  [{\"id\": 34, \"pname\": \"One Month Weight-Loss (P...   3596     2021-02-09   \n",
       "4  [{\"id\": 31, \"pname\": \"One Week Weight-Loss (Mi...    999     2021-02-04   \n",
       "\n",
       "  Date Returned  Days to Deliver  Days to Return  \n",
       "0           NaN             14.0             NaN  \n",
       "1           NaN              2.0             NaN  \n",
       "2           NaN              8.0             NaN  \n",
       "3           NaN              9.0             NaN  \n",
       "4           NaN              4.0             NaN  "
      ]
     },
     "execution_count": 4,
     "metadata": {},
     "output_type": "execute_result"
    }
   ],
   "source": [
    "df.head()"
   ]
  },
  {
   "cell_type": "code",
   "execution_count": 5,
   "id": "cd5349ab",
   "metadata": {},
   "outputs": [
    {
     "name": "stdout",
     "output_type": "stream",
     "text": [
      "<class 'pandas.core.frame.DataFrame'>\n",
      "RangeIndex: 1590 entries, 0 to 1589\n",
      "Data columns (total 16 columns):\n",
      " #   Column           Non-Null Count  Dtype  \n",
      "---  ------           --------------  -----  \n",
      " 0   ID               1590 non-null   int64  \n",
      " 1   Name             1590 non-null   object \n",
      " 2   City             1586 non-null   object \n",
      " 3   State            1586 non-null   object \n",
      " 4   Address          1590 non-null   object \n",
      " 5   isCOD            1590 non-null   bool   \n",
      " 6   Date Placed      1590 non-null   object \n",
      " 7   Status           1590 non-null   object \n",
      " 8   IVR              1590 non-null   object \n",
      " 9   Remarks          919 non-null    object \n",
      " 10  Cart             1590 non-null   object \n",
      " 11  Total            1590 non-null   int64  \n",
      " 12  Date Delivered   1401 non-null   object \n",
      " 13  Date Returned    187 non-null    object \n",
      " 14  Days to Deliver  1401 non-null   float64\n",
      " 15  Days to Return   187 non-null    float64\n",
      "dtypes: bool(1), float64(2), int64(2), object(11)\n",
      "memory usage: 188.0+ KB\n"
     ]
    }
   ],
   "source": [
    "df.info()"
   ]
  },
  {
   "cell_type": "code",
   "execution_count": 6,
   "id": "dc4f43d7",
   "metadata": {},
   "outputs": [
    {
     "data": {
      "text/plain": [
       "ID                    0\n",
       "Name                  0\n",
       "City                  4\n",
       "State                 4\n",
       "Address               0\n",
       "isCOD                 0\n",
       "Date Placed           0\n",
       "Status                0\n",
       "IVR                   0\n",
       "Remarks             671\n",
       "Cart                  0\n",
       "Total                 0\n",
       "Date Delivered      189\n",
       "Date Returned      1403\n",
       "Days to Deliver     189\n",
       "Days to Return     1403\n",
       "dtype: int64"
      ]
     },
     "execution_count": 6,
     "metadata": {},
     "output_type": "execute_result"
    }
   ],
   "source": [
    "df.isnull().sum()"
   ]
  },
  {
   "cell_type": "code",
   "execution_count": 7,
   "id": "9391998c",
   "metadata": {},
   "outputs": [],
   "source": [
    "df1 = df.copy()"
   ]
  },
  {
   "cell_type": "code",
   "execution_count": 8,
   "id": "358e9625",
   "metadata": {},
   "outputs": [
    {
     "data": {
      "text/plain": [
       "ID                    0\n",
       "Name                  0\n",
       "City                  4\n",
       "State                 4\n",
       "Address               0\n",
       "isCOD                 0\n",
       "Date Placed           0\n",
       "Status                0\n",
       "IVR                   0\n",
       "Remarks             671\n",
       "Cart                  0\n",
       "Total                 0\n",
       "Date Delivered      189\n",
       "Date Returned      1403\n",
       "Days to Deliver     189\n",
       "Days to Return     1403\n",
       "dtype: int64"
      ]
     },
     "execution_count": 8,
     "metadata": {},
     "output_type": "execute_result"
    }
   ],
   "source": [
    "df1.isnull().sum()"
   ]
  },
  {
   "cell_type": "code",
   "execution_count": 9,
   "id": "2445abe5",
   "metadata": {},
   "outputs": [],
   "source": [
    "df1['Date Placed'] = df1['Date Placed'].astype('datetime64')"
   ]
  },
  {
   "cell_type": "code",
   "execution_count": 10,
   "id": "64ed4eae",
   "metadata": {},
   "outputs": [
    {
     "name": "stdout",
     "output_type": "stream",
     "text": [
      "<class 'pandas.core.frame.DataFrame'>\n",
      "RangeIndex: 1590 entries, 0 to 1589\n",
      "Data columns (total 16 columns):\n",
      " #   Column           Non-Null Count  Dtype         \n",
      "---  ------           --------------  -----         \n",
      " 0   ID               1590 non-null   int64         \n",
      " 1   Name             1590 non-null   object        \n",
      " 2   City             1586 non-null   object        \n",
      " 3   State            1586 non-null   object        \n",
      " 4   Address          1590 non-null   object        \n",
      " 5   isCOD            1590 non-null   bool          \n",
      " 6   Date Placed      1590 non-null   datetime64[ns]\n",
      " 7   Status           1590 non-null   object        \n",
      " 8   IVR              1590 non-null   object        \n",
      " 9   Remarks          919 non-null    object        \n",
      " 10  Cart             1590 non-null   object        \n",
      " 11  Total            1590 non-null   int64         \n",
      " 12  Date Delivered   1401 non-null   object        \n",
      " 13  Date Returned    187 non-null    object        \n",
      " 14  Days to Deliver  1401 non-null   float64       \n",
      " 15  Days to Return   187 non-null    float64       \n",
      "dtypes: bool(1), datetime64[ns](1), float64(2), int64(2), object(10)\n",
      "memory usage: 188.0+ KB\n"
     ]
    }
   ],
   "source": [
    "df1.info()"
   ]
  },
  {
   "cell_type": "code",
   "execution_count": 11,
   "id": "2fdc39b6",
   "metadata": {},
   "outputs": [],
   "source": [
    "df1['Date Delivered'] = df1['Date Delivered'].astype('datetime64')\n",
    "df1['Date Returned'] = df1['Date Returned'].astype('datetime64')"
   ]
  },
  {
   "cell_type": "code",
   "execution_count": 12,
   "id": "bde26559",
   "metadata": {},
   "outputs": [
    {
     "name": "stdout",
     "output_type": "stream",
     "text": [
      "<class 'pandas.core.frame.DataFrame'>\n",
      "RangeIndex: 1590 entries, 0 to 1589\n",
      "Data columns (total 16 columns):\n",
      " #   Column           Non-Null Count  Dtype         \n",
      "---  ------           --------------  -----         \n",
      " 0   ID               1590 non-null   int64         \n",
      " 1   Name             1590 non-null   object        \n",
      " 2   City             1586 non-null   object        \n",
      " 3   State            1586 non-null   object        \n",
      " 4   Address          1590 non-null   object        \n",
      " 5   isCOD            1590 non-null   bool          \n",
      " 6   Date Placed      1590 non-null   datetime64[ns]\n",
      " 7   Status           1590 non-null   object        \n",
      " 8   IVR              1590 non-null   object        \n",
      " 9   Remarks          919 non-null    object        \n",
      " 10  Cart             1590 non-null   object        \n",
      " 11  Total            1590 non-null   int64         \n",
      " 12  Date Delivered   1401 non-null   datetime64[ns]\n",
      " 13  Date Returned    187 non-null    datetime64[ns]\n",
      " 14  Days to Deliver  1401 non-null   float64       \n",
      " 15  Days to Return   187 non-null    float64       \n",
      "dtypes: bool(1), datetime64[ns](3), float64(2), int64(2), object(8)\n",
      "memory usage: 188.0+ KB\n"
     ]
    }
   ],
   "source": [
    "df1.info()"
   ]
  },
  {
   "cell_type": "code",
   "execution_count": 13,
   "id": "b665bb97",
   "metadata": {},
   "outputs": [],
   "source": [
    "df['Date Placed'] = df['Date Placed'].astype('datetime64')\n",
    "df['Date Delivered'] = df['Date Delivered'].astype('datetime64')\n",
    "df['Date Returned'] = df['Date Returned'].astype('datetime64')"
   ]
  },
  {
   "cell_type": "code",
   "execution_count": 14,
   "id": "f643f97c",
   "metadata": {},
   "outputs": [
    {
     "name": "stdout",
     "output_type": "stream",
     "text": [
      "<class 'pandas.core.frame.DataFrame'>\n",
      "RangeIndex: 1590 entries, 0 to 1589\n",
      "Data columns (total 16 columns):\n",
      " #   Column           Non-Null Count  Dtype         \n",
      "---  ------           --------------  -----         \n",
      " 0   ID               1590 non-null   int64         \n",
      " 1   Name             1590 non-null   object        \n",
      " 2   City             1586 non-null   object        \n",
      " 3   State            1586 non-null   object        \n",
      " 4   Address          1590 non-null   object        \n",
      " 5   isCOD            1590 non-null   bool          \n",
      " 6   Date Placed      1590 non-null   datetime64[ns]\n",
      " 7   Status           1590 non-null   object        \n",
      " 8   IVR              1590 non-null   object        \n",
      " 9   Remarks          919 non-null    object        \n",
      " 10  Cart             1590 non-null   object        \n",
      " 11  Total            1590 non-null   int64         \n",
      " 12  Date Delivered   1401 non-null   datetime64[ns]\n",
      " 13  Date Returned    187 non-null    datetime64[ns]\n",
      " 14  Days to Deliver  1401 non-null   float64       \n",
      " 15  Days to Return   187 non-null    float64       \n",
      "dtypes: bool(1), datetime64[ns](3), float64(2), int64(2), object(8)\n",
      "memory usage: 188.0+ KB\n"
     ]
    }
   ],
   "source": [
    "df.info()"
   ]
  },
  {
   "cell_type": "code",
   "execution_count": 20,
   "id": "4b754f3f",
   "metadata": {},
   "outputs": [],
   "source": [
    "df_return = df[(df['Status']=='Returned') | (df['Status']=='RTO')]"
   ]
  },
  {
   "cell_type": "code",
   "execution_count": 21,
   "id": "ea524d13",
   "metadata": {},
   "outputs": [],
   "source": [
    "df_delivered = df[df['Status']=='Delivered']"
   ]
  },
  {
   "cell_type": "code",
   "execution_count": 23,
   "id": "72c3aef8",
   "metadata": {},
   "outputs": [
    {
     "data": {
      "text/html": [
       "<div>\n",
       "<style scoped>\n",
       "    .dataframe tbody tr th:only-of-type {\n",
       "        vertical-align: middle;\n",
       "    }\n",
       "\n",
       "    .dataframe tbody tr th {\n",
       "        vertical-align: top;\n",
       "    }\n",
       "\n",
       "    .dataframe thead th {\n",
       "        text-align: right;\n",
       "    }\n",
       "</style>\n",
       "<table border=\"1\" class=\"dataframe\">\n",
       "  <thead>\n",
       "    <tr style=\"text-align: right;\">\n",
       "      <th></th>\n",
       "      <th>ID</th>\n",
       "      <th>Name</th>\n",
       "      <th>City</th>\n",
       "      <th>State</th>\n",
       "      <th>Address</th>\n",
       "      <th>isCOD</th>\n",
       "      <th>Date Placed</th>\n",
       "      <th>Status</th>\n",
       "      <th>IVR</th>\n",
       "      <th>Remarks</th>\n",
       "      <th>Cart</th>\n",
       "      <th>Total</th>\n",
       "      <th>Date Delivered</th>\n",
       "      <th>Date Returned</th>\n",
       "      <th>Days to Deliver</th>\n",
       "      <th>Days to Return</th>\n",
       "    </tr>\n",
       "  </thead>\n",
       "  <tbody>\n",
       "    <tr>\n",
       "      <th>9</th>\n",
       "      <td>30132</td>\n",
       "      <td>Mad</td>\n",
       "      <td>Thane</td>\n",
       "      <td>Maharashtra</td>\n",
       "      <td>C 204 shrikrishna sadan , mumbra Devi Colony R...</td>\n",
       "      <td>True</td>\n",
       "      <td>2021-01-31</td>\n",
       "      <td>Returned</td>\n",
       "      <td>Confirmed</td>\n",
       "      <td>Will order next month</td>\n",
       "      <td>[{\"id\": 24, \"pname\": \"One Month Detox\", \"categ...</td>\n",
       "      <td>2156</td>\n",
       "      <td>NaT</td>\n",
       "      <td>2021-02-13</td>\n",
       "      <td>NaN</td>\n",
       "      <td>13.0</td>\n",
       "    </tr>\n",
       "    <tr>\n",
       "      <th>10</th>\n",
       "      <td>30131</td>\n",
       "      <td>Hee</td>\n",
       "      <td>Rajsamand</td>\n",
       "      <td>Rajasthan</td>\n",
       "      <td>Reti mholaa kakaroli waad no 33</td>\n",
       "      <td>True</td>\n",
       "      <td>2021-01-31</td>\n",
       "      <td>Returned</td>\n",
       "      <td>Confirmed</td>\n",
       "      <td>DPU 2</td>\n",
       "      <td>[{\"id\": 32, \"pname\": \"One Week Weight-Loss (Pe...</td>\n",
       "      <td>999</td>\n",
       "      <td>NaT</td>\n",
       "      <td>2021-02-08</td>\n",
       "      <td>NaN</td>\n",
       "      <td>8.0</td>\n",
       "    </tr>\n",
       "    <tr>\n",
       "      <th>17</th>\n",
       "      <td>30123</td>\n",
       "      <td>Vic</td>\n",
       "      <td>Ludhiana</td>\n",
       "      <td>Punjab</td>\n",
       "      <td>Barewal Awana Near magnet road mahavir enclave</td>\n",
       "      <td>True</td>\n",
       "      <td>2021-01-31</td>\n",
       "      <td>Returned</td>\n",
       "      <td>Confirmed</td>\n",
       "      <td>DPU 4</td>\n",
       "      <td>[{\"id\": 34, \"pname\": \"One Month Weight-Loss (P...</td>\n",
       "      <td>3596</td>\n",
       "      <td>NaT</td>\n",
       "      <td>2021-02-13</td>\n",
       "      <td>NaN</td>\n",
       "      <td>13.0</td>\n",
       "    </tr>\n",
       "    <tr>\n",
       "      <th>35</th>\n",
       "      <td>30085</td>\n",
       "      <td>Bas</td>\n",
       "      <td>Visakhapatnam</td>\n",
       "      <td>Andhra Pradesh</td>\n",
       "      <td>24-71-1,mig-46,samatha nagar colony,pedagatyad...</td>\n",
       "      <td>True</td>\n",
       "      <td>2021-01-31</td>\n",
       "      <td>Returned</td>\n",
       "      <td>Confirmed</td>\n",
       "      <td>on call</td>\n",
       "      <td>[{\"id\": 31, \"pname\": \"One Week Weight-Loss (Mi...</td>\n",
       "      <td>999</td>\n",
       "      <td>NaT</td>\n",
       "      <td>2021-02-08</td>\n",
       "      <td>NaN</td>\n",
       "      <td>8.0</td>\n",
       "    </tr>\n",
       "    <tr>\n",
       "      <th>55</th>\n",
       "      <td>30047</td>\n",
       "      <td>Rin</td>\n",
       "      <td>Mandsaur</td>\n",
       "      <td>Madhya Pradesh</td>\n",
       "      <td>Bhatuni Shree Ram mandir</td>\n",
       "      <td>True</td>\n",
       "      <td>2021-01-30</td>\n",
       "      <td>Returned</td>\n",
       "      <td>Confirmed</td>\n",
       "      <td>Customer Refused</td>\n",
       "      <td>[{\"id\": 34, \"pname\": \"One Month Weight-Loss (P...</td>\n",
       "      <td>3596</td>\n",
       "      <td>NaT</td>\n",
       "      <td>2021-02-20</td>\n",
       "      <td>NaN</td>\n",
       "      <td>21.0</td>\n",
       "    </tr>\n",
       "  </tbody>\n",
       "</table>\n",
       "</div>"
      ],
      "text/plain": [
       "       ID Name           City           State  \\\n",
       "9   30132  Mad          Thane     Maharashtra   \n",
       "10  30131  Hee      Rajsamand       Rajasthan   \n",
       "17  30123  Vic       Ludhiana          Punjab   \n",
       "35  30085  Bas  Visakhapatnam  Andhra Pradesh   \n",
       "55  30047  Rin       Mandsaur  Madhya Pradesh   \n",
       "\n",
       "                                              Address  isCOD Date Placed  \\\n",
       "9   C 204 shrikrishna sadan , mumbra Devi Colony R...   True  2021-01-31   \n",
       "10                    Reti mholaa kakaroli waad no 33   True  2021-01-31   \n",
       "17     Barewal Awana Near magnet road mahavir enclave   True  2021-01-31   \n",
       "35  24-71-1,mig-46,samatha nagar colony,pedagatyad...   True  2021-01-31   \n",
       "55                           Bhatuni Shree Ram mandir   True  2021-01-30   \n",
       "\n",
       "      Status        IVR                Remarks  \\\n",
       "9   Returned  Confirmed  Will order next month   \n",
       "10  Returned  Confirmed                  DPU 2   \n",
       "17  Returned  Confirmed                  DPU 4   \n",
       "35  Returned  Confirmed                on call   \n",
       "55  Returned  Confirmed       Customer Refused   \n",
       "\n",
       "                                                 Cart  Total Date Delivered  \\\n",
       "9   [{\"id\": 24, \"pname\": \"One Month Detox\", \"categ...   2156            NaT   \n",
       "10  [{\"id\": 32, \"pname\": \"One Week Weight-Loss (Pe...    999            NaT   \n",
       "17  [{\"id\": 34, \"pname\": \"One Month Weight-Loss (P...   3596            NaT   \n",
       "35  [{\"id\": 31, \"pname\": \"One Week Weight-Loss (Mi...    999            NaT   \n",
       "55  [{\"id\": 34, \"pname\": \"One Month Weight-Loss (P...   3596            NaT   \n",
       "\n",
       "   Date Returned  Days to Deliver  Days to Return  \n",
       "9     2021-02-13              NaN            13.0  \n",
       "10    2021-02-08              NaN             8.0  \n",
       "17    2021-02-13              NaN            13.0  \n",
       "35    2021-02-08              NaN             8.0  \n",
       "55    2021-02-20              NaN            21.0  "
      ]
     },
     "execution_count": 23,
     "metadata": {},
     "output_type": "execute_result"
    }
   ],
   "source": [
    "df_return.head()"
   ]
  },
  {
   "cell_type": "code",
   "execution_count": 25,
   "id": "bd2a4926",
   "metadata": {},
   "outputs": [
    {
     "data": {
      "text/html": [
       "<div>\n",
       "<style scoped>\n",
       "    .dataframe tbody tr th:only-of-type {\n",
       "        vertical-align: middle;\n",
       "    }\n",
       "\n",
       "    .dataframe tbody tr th {\n",
       "        vertical-align: top;\n",
       "    }\n",
       "\n",
       "    .dataframe thead th {\n",
       "        text-align: right;\n",
       "    }\n",
       "</style>\n",
       "<table border=\"1\" class=\"dataframe\">\n",
       "  <thead>\n",
       "    <tr style=\"text-align: right;\">\n",
       "      <th></th>\n",
       "      <th>ID</th>\n",
       "      <th>Name</th>\n",
       "      <th>City</th>\n",
       "      <th>State</th>\n",
       "      <th>Address</th>\n",
       "      <th>isCOD</th>\n",
       "      <th>Date Placed</th>\n",
       "      <th>Status</th>\n",
       "      <th>IVR</th>\n",
       "      <th>Remarks</th>\n",
       "      <th>Cart</th>\n",
       "      <th>Total</th>\n",
       "      <th>Date Delivered</th>\n",
       "      <th>Date Returned</th>\n",
       "      <th>Days to Deliver</th>\n",
       "      <th>Days to Return</th>\n",
       "    </tr>\n",
       "  </thead>\n",
       "  <tbody>\n",
       "    <tr>\n",
       "      <th>0</th>\n",
       "      <td>30145</td>\n",
       "      <td>Man</td>\n",
       "      <td>Nayagarh</td>\n",
       "      <td>Odisha</td>\n",
       "      <td>Jagadish Prasad, Golapokhari-Bhapur Road, Fate...</td>\n",
       "      <td>True</td>\n",
       "      <td>2021-01-31</td>\n",
       "      <td>Delivered</td>\n",
       "      <td>Confirmed</td>\n",
       "      <td>pickrr</td>\n",
       "      <td>[{\"id\": 32, \"pname\": \"One Week Weight-Loss (Pe...</td>\n",
       "      <td>999</td>\n",
       "      <td>2021-02-14</td>\n",
       "      <td>NaT</td>\n",
       "      <td>14.0</td>\n",
       "      <td>NaN</td>\n",
       "    </tr>\n",
       "    <tr>\n",
       "      <th>1</th>\n",
       "      <td>30144</td>\n",
       "      <td>Dik</td>\n",
       "      <td>Thane</td>\n",
       "      <td>Maharashtra</td>\n",
       "      <td>Shanti Garden Sector 4 , flat 401, building 2,...</td>\n",
       "      <td>True</td>\n",
       "      <td>2021-01-31</td>\n",
       "      <td>Delivered</td>\n",
       "      <td>Confirmed</td>\n",
       "      <td>NaN</td>\n",
       "      <td>[{\"id\": 23, \"pname\": \"One Week Detox Trial\", \"...</td>\n",
       "      <td>599</td>\n",
       "      <td>2021-02-02</td>\n",
       "      <td>NaT</td>\n",
       "      <td>2.0</td>\n",
       "      <td>NaN</td>\n",
       "    </tr>\n",
       "    <tr>\n",
       "      <th>2</th>\n",
       "      <td>30143</td>\n",
       "      <td>Shi</td>\n",
       "      <td>Bangalore</td>\n",
       "      <td>Karnataka</td>\n",
       "      <td>#280 2nd main 2nd cross, vinobha nagar kg halli</td>\n",
       "      <td>True</td>\n",
       "      <td>2021-01-31</td>\n",
       "      <td>Delivered</td>\n",
       "      <td>Confirmed</td>\n",
       "      <td>On call</td>\n",
       "      <td>[{\"id\": 23, \"pname\": \"One Week Detox Trial\", \"...</td>\n",
       "      <td>599</td>\n",
       "      <td>2021-02-08</td>\n",
       "      <td>NaT</td>\n",
       "      <td>8.0</td>\n",
       "      <td>NaN</td>\n",
       "    </tr>\n",
       "    <tr>\n",
       "      <th>3</th>\n",
       "      <td>30142</td>\n",
       "      <td>Pre</td>\n",
       "      <td>Mumbai</td>\n",
       "      <td>Maharashtra</td>\n",
       "      <td>1404/ Accord Nidhi, above Bikaji, Link Road, M...</td>\n",
       "      <td>True</td>\n",
       "      <td>2021-01-31</td>\n",
       "      <td>Delivered</td>\n",
       "      <td>Confirmed</td>\n",
       "      <td>Script</td>\n",
       "      <td>[{\"id\": 34, \"pname\": \"One Month Weight-Loss (P...</td>\n",
       "      <td>3596</td>\n",
       "      <td>2021-02-09</td>\n",
       "      <td>NaT</td>\n",
       "      <td>9.0</td>\n",
       "      <td>NaN</td>\n",
       "    </tr>\n",
       "    <tr>\n",
       "      <th>4</th>\n",
       "      <td>30138</td>\n",
       "      <td>Dr.</td>\n",
       "      <td>Pauri Garhwal</td>\n",
       "      <td>Uttarakhand</td>\n",
       "      <td>10 am to 3 pm, Please call Before Coming, Room...</td>\n",
       "      <td>True</td>\n",
       "      <td>2021-01-31</td>\n",
       "      <td>Delivered</td>\n",
       "      <td>Confirmed</td>\n",
       "      <td>Script</td>\n",
       "      <td>[{\"id\": 31, \"pname\": \"One Week Weight-Loss (Mi...</td>\n",
       "      <td>999</td>\n",
       "      <td>2021-02-04</td>\n",
       "      <td>NaT</td>\n",
       "      <td>4.0</td>\n",
       "      <td>NaN</td>\n",
       "    </tr>\n",
       "  </tbody>\n",
       "</table>\n",
       "</div>"
      ],
      "text/plain": [
       "      ID Name           City        State  \\\n",
       "0  30145  Man       Nayagarh       Odisha   \n",
       "1  30144  Dik          Thane  Maharashtra   \n",
       "2  30143  Shi      Bangalore    Karnataka   \n",
       "3  30142  Pre         Mumbai  Maharashtra   \n",
       "4  30138  Dr.  Pauri Garhwal  Uttarakhand   \n",
       "\n",
       "                                             Address  isCOD Date Placed  \\\n",
       "0  Jagadish Prasad, Golapokhari-Bhapur Road, Fate...   True  2021-01-31   \n",
       "1  Shanti Garden Sector 4 , flat 401, building 2,...   True  2021-01-31   \n",
       "2    #280 2nd main 2nd cross, vinobha nagar kg halli   True  2021-01-31   \n",
       "3  1404/ Accord Nidhi, above Bikaji, Link Road, M...   True  2021-01-31   \n",
       "4  10 am to 3 pm, Please call Before Coming, Room...   True  2021-01-31   \n",
       "\n",
       "      Status        IVR  Remarks  \\\n",
       "0  Delivered  Confirmed   pickrr   \n",
       "1  Delivered  Confirmed      NaN   \n",
       "2  Delivered  Confirmed  On call   \n",
       "3  Delivered  Confirmed   Script   \n",
       "4  Delivered  Confirmed   Script   \n",
       "\n",
       "                                                Cart  Total Date Delivered  \\\n",
       "0  [{\"id\": 32, \"pname\": \"One Week Weight-Loss (Pe...    999     2021-02-14   \n",
       "1  [{\"id\": 23, \"pname\": \"One Week Detox Trial\", \"...    599     2021-02-02   \n",
       "2  [{\"id\": 23, \"pname\": \"One Week Detox Trial\", \"...    599     2021-02-08   \n",
       "3  [{\"id\": 34, \"pname\": \"One Month Weight-Loss (P...   3596     2021-02-09   \n",
       "4  [{\"id\": 31, \"pname\": \"One Week Weight-Loss (Mi...    999     2021-02-04   \n",
       "\n",
       "  Date Returned  Days to Deliver  Days to Return  \n",
       "0           NaT             14.0             NaN  \n",
       "1           NaT              2.0             NaN  \n",
       "2           NaT              8.0             NaN  \n",
       "3           NaT              9.0             NaN  \n",
       "4           NaT              4.0             NaN  "
      ]
     },
     "execution_count": 25,
     "metadata": {},
     "output_type": "execute_result"
    }
   ],
   "source": [
    "df_delivered.head()"
   ]
  },
  {
   "cell_type": "code",
   "execution_count": 26,
   "id": "a8ad7637",
   "metadata": {},
   "outputs": [],
   "source": [
    "#Returned dataframe analysis"
   ]
  },
  {
   "cell_type": "code",
   "execution_count": 27,
   "id": "172a9f64",
   "metadata": {},
   "outputs": [
    {
     "data": {
      "text/plain": [
       "ID                   0\n",
       "Name                 0\n",
       "City                 1\n",
       "State                1\n",
       "Address              0\n",
       "isCOD                0\n",
       "Date Placed          0\n",
       "Status               0\n",
       "IVR                  0\n",
       "Remarks             13\n",
       "Cart                 0\n",
       "Total                0\n",
       "Date Delivered     189\n",
       "Date Returned        2\n",
       "Days to Deliver    189\n",
       "Days to Return       2\n",
       "dtype: int64"
      ]
     },
     "execution_count": 27,
     "metadata": {},
     "output_type": "execute_result"
    }
   ],
   "source": [
    "df_return.isnull().sum()"
   ]
  },
  {
   "cell_type": "code",
   "execution_count": 31,
   "id": "3c3e444f",
   "metadata": {},
   "outputs": [
    {
     "name": "stderr",
     "output_type": "stream",
     "text": [
      "C:\\Users\\ashwa\\Anaconda3\\lib\\site-packages\\pandas\\core\\frame.py:4308: SettingWithCopyWarning: \n",
      "A value is trying to be set on a copy of a slice from a DataFrame\n",
      "\n",
      "See the caveats in the documentation: https://pandas.pydata.org/pandas-docs/stable/user_guide/indexing.html#returning-a-view-versus-a-copy\n",
      "  return super().drop(\n"
     ]
    }
   ],
   "source": [
    "df_return.drop(columns='Days to Deliver', axis=1, inplace = True)"
   ]
  },
  {
   "cell_type": "code",
   "execution_count": 32,
   "id": "4c51ca06",
   "metadata": {},
   "outputs": [
    {
     "data": {
      "text/html": [
       "<div>\n",
       "<style scoped>\n",
       "    .dataframe tbody tr th:only-of-type {\n",
       "        vertical-align: middle;\n",
       "    }\n",
       "\n",
       "    .dataframe tbody tr th {\n",
       "        vertical-align: top;\n",
       "    }\n",
       "\n",
       "    .dataframe thead th {\n",
       "        text-align: right;\n",
       "    }\n",
       "</style>\n",
       "<table border=\"1\" class=\"dataframe\">\n",
       "  <thead>\n",
       "    <tr style=\"text-align: right;\">\n",
       "      <th></th>\n",
       "      <th>ID</th>\n",
       "      <th>Name</th>\n",
       "      <th>City</th>\n",
       "      <th>State</th>\n",
       "      <th>Address</th>\n",
       "      <th>isCOD</th>\n",
       "      <th>Date Placed</th>\n",
       "      <th>Status</th>\n",
       "      <th>IVR</th>\n",
       "      <th>Remarks</th>\n",
       "      <th>Cart</th>\n",
       "      <th>Total</th>\n",
       "      <th>Date Returned</th>\n",
       "      <th>Days to Return</th>\n",
       "    </tr>\n",
       "  </thead>\n",
       "  <tbody>\n",
       "    <tr>\n",
       "      <th>9</th>\n",
       "      <td>30132</td>\n",
       "      <td>Mad</td>\n",
       "      <td>Thane</td>\n",
       "      <td>Maharashtra</td>\n",
       "      <td>C 204 shrikrishna sadan , mumbra Devi Colony R...</td>\n",
       "      <td>True</td>\n",
       "      <td>2021-01-31</td>\n",
       "      <td>Returned</td>\n",
       "      <td>Confirmed</td>\n",
       "      <td>Will order next month</td>\n",
       "      <td>[{\"id\": 24, \"pname\": \"One Month Detox\", \"categ...</td>\n",
       "      <td>2156</td>\n",
       "      <td>2021-02-13</td>\n",
       "      <td>13.0</td>\n",
       "    </tr>\n",
       "    <tr>\n",
       "      <th>10</th>\n",
       "      <td>30131</td>\n",
       "      <td>Hee</td>\n",
       "      <td>Rajsamand</td>\n",
       "      <td>Rajasthan</td>\n",
       "      <td>Reti mholaa kakaroli waad no 33</td>\n",
       "      <td>True</td>\n",
       "      <td>2021-01-31</td>\n",
       "      <td>Returned</td>\n",
       "      <td>Confirmed</td>\n",
       "      <td>DPU 2</td>\n",
       "      <td>[{\"id\": 32, \"pname\": \"One Week Weight-Loss (Pe...</td>\n",
       "      <td>999</td>\n",
       "      <td>2021-02-08</td>\n",
       "      <td>8.0</td>\n",
       "    </tr>\n",
       "    <tr>\n",
       "      <th>17</th>\n",
       "      <td>30123</td>\n",
       "      <td>Vic</td>\n",
       "      <td>Ludhiana</td>\n",
       "      <td>Punjab</td>\n",
       "      <td>Barewal Awana Near magnet road mahavir enclave</td>\n",
       "      <td>True</td>\n",
       "      <td>2021-01-31</td>\n",
       "      <td>Returned</td>\n",
       "      <td>Confirmed</td>\n",
       "      <td>DPU 4</td>\n",
       "      <td>[{\"id\": 34, \"pname\": \"One Month Weight-Loss (P...</td>\n",
       "      <td>3596</td>\n",
       "      <td>2021-02-13</td>\n",
       "      <td>13.0</td>\n",
       "    </tr>\n",
       "    <tr>\n",
       "      <th>35</th>\n",
       "      <td>30085</td>\n",
       "      <td>Bas</td>\n",
       "      <td>Visakhapatnam</td>\n",
       "      <td>Andhra Pradesh</td>\n",
       "      <td>24-71-1,mig-46,samatha nagar colony,pedagatyad...</td>\n",
       "      <td>True</td>\n",
       "      <td>2021-01-31</td>\n",
       "      <td>Returned</td>\n",
       "      <td>Confirmed</td>\n",
       "      <td>on call</td>\n",
       "      <td>[{\"id\": 31, \"pname\": \"One Week Weight-Loss (Mi...</td>\n",
       "      <td>999</td>\n",
       "      <td>2021-02-08</td>\n",
       "      <td>8.0</td>\n",
       "    </tr>\n",
       "    <tr>\n",
       "      <th>55</th>\n",
       "      <td>30047</td>\n",
       "      <td>Rin</td>\n",
       "      <td>Mandsaur</td>\n",
       "      <td>Madhya Pradesh</td>\n",
       "      <td>Bhatuni Shree Ram mandir</td>\n",
       "      <td>True</td>\n",
       "      <td>2021-01-30</td>\n",
       "      <td>Returned</td>\n",
       "      <td>Confirmed</td>\n",
       "      <td>Customer Refused</td>\n",
       "      <td>[{\"id\": 34, \"pname\": \"One Month Weight-Loss (P...</td>\n",
       "      <td>3596</td>\n",
       "      <td>2021-02-20</td>\n",
       "      <td>21.0</td>\n",
       "    </tr>\n",
       "  </tbody>\n",
       "</table>\n",
       "</div>"
      ],
      "text/plain": [
       "       ID Name           City           State  \\\n",
       "9   30132  Mad          Thane     Maharashtra   \n",
       "10  30131  Hee      Rajsamand       Rajasthan   \n",
       "17  30123  Vic       Ludhiana          Punjab   \n",
       "35  30085  Bas  Visakhapatnam  Andhra Pradesh   \n",
       "55  30047  Rin       Mandsaur  Madhya Pradesh   \n",
       "\n",
       "                                              Address  isCOD Date Placed  \\\n",
       "9   C 204 shrikrishna sadan , mumbra Devi Colony R...   True  2021-01-31   \n",
       "10                    Reti mholaa kakaroli waad no 33   True  2021-01-31   \n",
       "17     Barewal Awana Near magnet road mahavir enclave   True  2021-01-31   \n",
       "35  24-71-1,mig-46,samatha nagar colony,pedagatyad...   True  2021-01-31   \n",
       "55                           Bhatuni Shree Ram mandir   True  2021-01-30   \n",
       "\n",
       "      Status        IVR                Remarks  \\\n",
       "9   Returned  Confirmed  Will order next month   \n",
       "10  Returned  Confirmed                  DPU 2   \n",
       "17  Returned  Confirmed                  DPU 4   \n",
       "35  Returned  Confirmed                on call   \n",
       "55  Returned  Confirmed       Customer Refused   \n",
       "\n",
       "                                                 Cart  Total Date Returned  \\\n",
       "9   [{\"id\": 24, \"pname\": \"One Month Detox\", \"categ...   2156    2021-02-13   \n",
       "10  [{\"id\": 32, \"pname\": \"One Week Weight-Loss (Pe...    999    2021-02-08   \n",
       "17  [{\"id\": 34, \"pname\": \"One Month Weight-Loss (P...   3596    2021-02-13   \n",
       "35  [{\"id\": 31, \"pname\": \"One Week Weight-Loss (Mi...    999    2021-02-08   \n",
       "55  [{\"id\": 34, \"pname\": \"One Month Weight-Loss (P...   3596    2021-02-20   \n",
       "\n",
       "    Days to Return  \n",
       "9             13.0  \n",
       "10             8.0  \n",
       "17            13.0  \n",
       "35             8.0  \n",
       "55            21.0  "
      ]
     },
     "execution_count": 32,
     "metadata": {},
     "output_type": "execute_result"
    }
   ],
   "source": [
    "df_return.head()"
   ]
  },
  {
   "cell_type": "code",
   "execution_count": 33,
   "id": "c656c441",
   "metadata": {},
   "outputs": [
    {
     "data": {
      "text/plain": [
       "ID                 0\n",
       "Name               0\n",
       "City               1\n",
       "State              1\n",
       "Address            0\n",
       "isCOD              0\n",
       "Date Placed        0\n",
       "Status             0\n",
       "IVR                0\n",
       "Remarks           13\n",
       "Cart               0\n",
       "Total              0\n",
       "Date Returned      2\n",
       "Days to Return     2\n",
       "dtype: int64"
      ]
     },
     "execution_count": 33,
     "metadata": {},
     "output_type": "execute_result"
    }
   ],
   "source": [
    "df_return.isnull().sum()"
   ]
  },
  {
   "cell_type": "code",
   "execution_count": 34,
   "id": "b4f959f5",
   "metadata": {},
   "outputs": [
    {
     "name": "stdout",
     "output_type": "stream",
     "text": [
      "<class 'pandas.core.frame.DataFrame'>\n",
      "Int64Index: 189 entries, 9 to 1589\n",
      "Data columns (total 14 columns):\n",
      " #   Column          Non-Null Count  Dtype         \n",
      "---  ------          --------------  -----         \n",
      " 0   ID              189 non-null    int64         \n",
      " 1   Name            189 non-null    object        \n",
      " 2   City            188 non-null    object        \n",
      " 3   State           188 non-null    object        \n",
      " 4   Address         189 non-null    object        \n",
      " 5   isCOD           189 non-null    bool          \n",
      " 6   Date Placed     189 non-null    datetime64[ns]\n",
      " 7   Status          189 non-null    object        \n",
      " 8   IVR             189 non-null    object        \n",
      " 9   Remarks         176 non-null    object        \n",
      " 10  Cart            189 non-null    object        \n",
      " 11  Total           189 non-null    int64         \n",
      " 12  Date Returned   187 non-null    datetime64[ns]\n",
      " 13  Days to Return  187 non-null    float64       \n",
      "dtypes: bool(1), datetime64[ns](2), float64(1), int64(2), object(8)\n",
      "memory usage: 20.9+ KB\n"
     ]
    }
   ],
   "source": [
    "df_return.info()"
   ]
  },
  {
   "cell_type": "code",
   "execution_count": 36,
   "id": "6411453f",
   "metadata": {},
   "outputs": [
    {
     "data": {
      "text/plain": [
       "0"
      ]
     },
     "execution_count": 36,
     "metadata": {},
     "output_type": "execute_result"
    }
   ],
   "source": [
    "df_return.duplicated().sum()"
   ]
  },
  {
   "cell_type": "code",
   "execution_count": 37,
   "id": "7ee9f507",
   "metadata": {},
   "outputs": [
    {
     "data": {
      "text/plain": [
       "Bangalore        13\n",
       "Thane             6\n",
       "Mumbai            5\n",
       "Imphal West       4\n",
       "Visakhapatnam     4\n",
       "                 ..\n",
       "Lakhimpur         1\n",
       "Khammam           1\n",
       "Thrissur          1\n",
       "Karnataka         1\n",
       "Amritsar          1\n",
       "Name: City, Length: 117, dtype: int64"
      ]
     },
     "execution_count": 37,
     "metadata": {},
     "output_type": "execute_result"
    }
   ],
   "source": [
    "df_return['City'].value_counts()"
   ]
  },
  {
   "cell_type": "code",
   "execution_count": 38,
   "id": "8d901cd4",
   "metadata": {},
   "outputs": [
    {
     "data": {
      "text/plain": [
       "Maharashtra          25\n",
       "Karnataka            24\n",
       "Uttar Pradesh        15\n",
       "Tamil Nadu           12\n",
       "Andhra Pradesh       11\n",
       "Telangana            10\n",
       "Gujarat              10\n",
       "Assam                10\n",
       "Delhi                 9\n",
       "Madhya Pradesh        7\n",
       "Manipur               6\n",
       "Nagaland              6\n",
       "Haryana               5\n",
       "Punjab                5\n",
       "Jammu & Kashmir       4\n",
       "Rajasthan             4\n",
       "Odisha                4\n",
       "Bihar                 4\n",
       "Kerala                3\n",
       "West Bengal           3\n",
       "Arunachal Pradesh     2\n",
       "Tripura               2\n",
       "Uttarakhand           2\n",
       "Mizoram               2\n",
       "Himachal Pradesh      1\n",
       "Chandigarh            1\n",
       "Bengaluru             1\n",
       "Name: State, dtype: int64"
      ]
     },
     "execution_count": 38,
     "metadata": {},
     "output_type": "execute_result"
    }
   ],
   "source": [
    "df_return['State'].value_counts()"
   ]
  },
  {
   "cell_type": "code",
   "execution_count": 42,
   "id": "7c8b1eb9",
   "metadata": {},
   "outputs": [],
   "source": [
    "#df['State'].value_counts() "
   ]
  },
  {
   "cell_type": "code",
   "execution_count": 40,
   "id": "05fc201f",
   "metadata": {},
   "outputs": [],
   "source": [
    "df['State'].replace({'Jammu and Kashmir':'Jammu & Kashmir'}, inplace= True)"
   ]
  },
  {
   "cell_type": "code",
   "execution_count": 41,
   "id": "cbdb3592",
   "metadata": {},
   "outputs": [
    {
     "data": {
      "text/plain": [
       "Maharashtra          284\n",
       "Karnataka            186\n",
       "Delhi                134\n",
       "Tamil Nadu           116\n",
       "Uttar Pradesh        106\n",
       "Telangana             95\n",
       "West Bengal           84\n",
       "Gujarat               74\n",
       "Andhra Pradesh        66\n",
       "Haryana               64\n",
       "Punjab                39\n",
       "Kerala                38\n",
       "Madhya Pradesh        38\n",
       "Rajasthan             35\n",
       "Assam                 29\n",
       "Odisha                26\n",
       "Jammu & Kashmir       25\n",
       "Bihar                 21\n",
       "Nagaland              19\n",
       "Uttarakhand           15\n",
       "Goa                   13\n",
       "Arunachal Pradesh     11\n",
       "Manipur               10\n",
       "Himachal Pradesh      10\n",
       "Chattisgarh            9\n",
       "Chandigarh             8\n",
       "Mizoram                7\n",
       "Meghalaya              6\n",
       "Jharkhand              5\n",
       "Tripura                5\n",
       "Andaman & Nicobar      3\n",
       "Pondicherry            2\n",
       "Sikkim                 2\n",
       "Bengaluru              1\n",
       "Name: State, dtype: int64"
      ]
     },
     "execution_count": 41,
     "metadata": {},
     "output_type": "execute_result"
    }
   ],
   "source": [
    "df['State'].value_counts()"
   ]
  },
  {
   "cell_type": "code",
   "execution_count": 54,
   "id": "fad9f2af",
   "metadata": {},
   "outputs": [
    {
     "data": {
      "text/html": [
       "<div>\n",
       "<style scoped>\n",
       "    .dataframe tbody tr th:only-of-type {\n",
       "        vertical-align: middle;\n",
       "    }\n",
       "\n",
       "    .dataframe tbody tr th {\n",
       "        vertical-align: top;\n",
       "    }\n",
       "\n",
       "    .dataframe thead th {\n",
       "        text-align: right;\n",
       "    }\n",
       "</style>\n",
       "<table border=\"1\" class=\"dataframe\">\n",
       "  <thead>\n",
       "    <tr style=\"text-align: right;\">\n",
       "      <th></th>\n",
       "      <th>ID</th>\n",
       "      <th>Name</th>\n",
       "      <th>City</th>\n",
       "      <th>State</th>\n",
       "      <th>Address</th>\n",
       "      <th>isCOD</th>\n",
       "      <th>Date Placed</th>\n",
       "      <th>Status</th>\n",
       "      <th>IVR</th>\n",
       "      <th>Remarks</th>\n",
       "      <th>Cart</th>\n",
       "      <th>Total</th>\n",
       "      <th>Date Returned</th>\n",
       "      <th>Days to Return</th>\n",
       "    </tr>\n",
       "  </thead>\n",
       "  <tbody>\n",
       "    <tr>\n",
       "      <th>9</th>\n",
       "      <td>30132</td>\n",
       "      <td>Mad</td>\n",
       "      <td>Thane</td>\n",
       "      <td>Maharashtra</td>\n",
       "      <td>C 204 shrikrishna sadan , mumbra Devi Colony R...</td>\n",
       "      <td>True</td>\n",
       "      <td>2021-01-31</td>\n",
       "      <td>Returned</td>\n",
       "      <td>Confirmed</td>\n",
       "      <td>Will order next month</td>\n",
       "      <td>[{\"id\": 24, \"pname\": \"One Month Detox\", \"categ...</td>\n",
       "      <td>2156</td>\n",
       "      <td>2021-02-13</td>\n",
       "      <td>13.0</td>\n",
       "    </tr>\n",
       "    <tr>\n",
       "      <th>10</th>\n",
       "      <td>30131</td>\n",
       "      <td>Hee</td>\n",
       "      <td>Rajsamand</td>\n",
       "      <td>Rajasthan</td>\n",
       "      <td>Reti mholaa kakaroli waad no 33</td>\n",
       "      <td>True</td>\n",
       "      <td>2021-01-31</td>\n",
       "      <td>Returned</td>\n",
       "      <td>Confirmed</td>\n",
       "      <td>DPU 2</td>\n",
       "      <td>[{\"id\": 32, \"pname\": \"One Week Weight-Loss (Pe...</td>\n",
       "      <td>999</td>\n",
       "      <td>2021-02-08</td>\n",
       "      <td>8.0</td>\n",
       "    </tr>\n",
       "    <tr>\n",
       "      <th>17</th>\n",
       "      <td>30123</td>\n",
       "      <td>Vic</td>\n",
       "      <td>Ludhiana</td>\n",
       "      <td>Punjab</td>\n",
       "      <td>Barewal Awana Near magnet road mahavir enclave</td>\n",
       "      <td>True</td>\n",
       "      <td>2021-01-31</td>\n",
       "      <td>Returned</td>\n",
       "      <td>Confirmed</td>\n",
       "      <td>DPU 4</td>\n",
       "      <td>[{\"id\": 34, \"pname\": \"One Month Weight-Loss (P...</td>\n",
       "      <td>3596</td>\n",
       "      <td>2021-02-13</td>\n",
       "      <td>13.0</td>\n",
       "    </tr>\n",
       "    <tr>\n",
       "      <th>35</th>\n",
       "      <td>30085</td>\n",
       "      <td>Bas</td>\n",
       "      <td>Visakhapatnam</td>\n",
       "      <td>Andhra Pradesh</td>\n",
       "      <td>24-71-1,mig-46,samatha nagar colony,pedagatyad...</td>\n",
       "      <td>True</td>\n",
       "      <td>2021-01-31</td>\n",
       "      <td>Returned</td>\n",
       "      <td>Confirmed</td>\n",
       "      <td>on call</td>\n",
       "      <td>[{\"id\": 31, \"pname\": \"One Week Weight-Loss (Mi...</td>\n",
       "      <td>999</td>\n",
       "      <td>2021-02-08</td>\n",
       "      <td>8.0</td>\n",
       "    </tr>\n",
       "    <tr>\n",
       "      <th>55</th>\n",
       "      <td>30047</td>\n",
       "      <td>Rin</td>\n",
       "      <td>Mandsaur</td>\n",
       "      <td>Madhya Pradesh</td>\n",
       "      <td>Bhatuni Shree Ram mandir</td>\n",
       "      <td>True</td>\n",
       "      <td>2021-01-30</td>\n",
       "      <td>Returned</td>\n",
       "      <td>Confirmed</td>\n",
       "      <td>Customer Refused</td>\n",
       "      <td>[{\"id\": 34, \"pname\": \"One Month Weight-Loss (P...</td>\n",
       "      <td>3596</td>\n",
       "      <td>2021-02-20</td>\n",
       "      <td>21.0</td>\n",
       "    </tr>\n",
       "    <tr>\n",
       "      <th>59</th>\n",
       "      <td>30043</td>\n",
       "      <td>Aks</td>\n",
       "      <td>Bangalore</td>\n",
       "      <td>Karnataka</td>\n",
       "      <td>144, Shankarnagar</td>\n",
       "      <td>True</td>\n",
       "      <td>2021-01-30</td>\n",
       "      <td>Returned</td>\n",
       "      <td>Confirmed</td>\n",
       "      <td>DPU 4</td>\n",
       "      <td>[{\"id\": 31, \"pname\": \"One Week Weight-Loss (Mi...</td>\n",
       "      <td>999</td>\n",
       "      <td>2021-02-07</td>\n",
       "      <td>8.0</td>\n",
       "    </tr>\n",
       "    <tr>\n",
       "      <th>71</th>\n",
       "      <td>30028</td>\n",
       "      <td>Vin</td>\n",
       "      <td>Srinagar</td>\n",
       "      <td>Jammu &amp; Kashmir</td>\n",
       "      <td>Batwara gate</td>\n",
       "      <td>True</td>\n",
       "      <td>2021-01-30</td>\n",
       "      <td>Returned</td>\n",
       "      <td>Confirmed</td>\n",
       "      <td>Script</td>\n",
       "      <td>[{\"id\": 32, \"pname\": \"One Week Weight-Loss (Pe...</td>\n",
       "      <td>999</td>\n",
       "      <td>2021-02-09</td>\n",
       "      <td>10.0</td>\n",
       "    </tr>\n",
       "    <tr>\n",
       "      <th>73</th>\n",
       "      <td>30025</td>\n",
       "      <td>Raj</td>\n",
       "      <td>Jammu</td>\n",
       "      <td>Jammu &amp; Kashmir</td>\n",
       "      <td>121, Dhounchak, Jourian , akhnoor</td>\n",
       "      <td>True</td>\n",
       "      <td>2021-01-30</td>\n",
       "      <td>RTO</td>\n",
       "      <td>Confirmed</td>\n",
       "      <td>Script</td>\n",
       "      <td>[{\"id\": 34, \"pname\": \"One Month Weight-Loss (P...</td>\n",
       "      <td>3596</td>\n",
       "      <td>NaT</td>\n",
       "      <td>NaN</td>\n",
       "    </tr>\n",
       "    <tr>\n",
       "      <th>75</th>\n",
       "      <td>30022</td>\n",
       "      <td>Vin</td>\n",
       "      <td>Krishna</td>\n",
       "      <td>Andhra Pradesh</td>\n",
       "      <td>G1,nagasiva residency,Rama nagar,nidamanuru</td>\n",
       "      <td>True</td>\n",
       "      <td>2021-01-30</td>\n",
       "      <td>Returned</td>\n",
       "      <td>Confirmed</td>\n",
       "      <td>DPU order</td>\n",
       "      <td>[{\"id\": 23, \"pname\": \"One Week Detox Trial\", \"...</td>\n",
       "      <td>599</td>\n",
       "      <td>2021-02-11</td>\n",
       "      <td>12.0</td>\n",
       "    </tr>\n",
       "    <tr>\n",
       "      <th>84</th>\n",
       "      <td>30011</td>\n",
       "      <td>Bha</td>\n",
       "      <td>Bangalore</td>\n",
       "      <td>Karnataka</td>\n",
       "      <td>#320,11th cross sapthagiri layout hesaraghatta...</td>\n",
       "      <td>True</td>\n",
       "      <td>2021-01-30</td>\n",
       "      <td>Returned</td>\n",
       "      <td>Confirmed</td>\n",
       "      <td>NaN</td>\n",
       "      <td>[{\"id\": 31, \"pname\": \"One Week Weight-Loss (Mi...</td>\n",
       "      <td>999</td>\n",
       "      <td>2021-02-09</td>\n",
       "      <td>10.0</td>\n",
       "    </tr>\n",
       "  </tbody>\n",
       "</table>\n",
       "</div>"
      ],
      "text/plain": [
       "       ID Name           City            State  \\\n",
       "9   30132  Mad          Thane      Maharashtra   \n",
       "10  30131  Hee      Rajsamand        Rajasthan   \n",
       "17  30123  Vic       Ludhiana           Punjab   \n",
       "35  30085  Bas  Visakhapatnam   Andhra Pradesh   \n",
       "55  30047  Rin       Mandsaur   Madhya Pradesh   \n",
       "59  30043  Aks      Bangalore        Karnataka   \n",
       "71  30028  Vin       Srinagar  Jammu & Kashmir   \n",
       "73  30025  Raj          Jammu  Jammu & Kashmir   \n",
       "75  30022  Vin        Krishna   Andhra Pradesh   \n",
       "84  30011  Bha      Bangalore        Karnataka   \n",
       "\n",
       "                                              Address  isCOD Date Placed  \\\n",
       "9   C 204 shrikrishna sadan , mumbra Devi Colony R...   True  2021-01-31   \n",
       "10                    Reti mholaa kakaroli waad no 33   True  2021-01-31   \n",
       "17     Barewal Awana Near magnet road mahavir enclave   True  2021-01-31   \n",
       "35  24-71-1,mig-46,samatha nagar colony,pedagatyad...   True  2021-01-31   \n",
       "55                           Bhatuni Shree Ram mandir   True  2021-01-30   \n",
       "59                                  144, Shankarnagar   True  2021-01-30   \n",
       "71                                       Batwara gate   True  2021-01-30   \n",
       "73                  121, Dhounchak, Jourian , akhnoor   True  2021-01-30   \n",
       "75        G1,nagasiva residency,Rama nagar,nidamanuru   True  2021-01-30   \n",
       "84  #320,11th cross sapthagiri layout hesaraghatta...   True  2021-01-30   \n",
       "\n",
       "      Status        IVR                Remarks  \\\n",
       "9   Returned  Confirmed  Will order next month   \n",
       "10  Returned  Confirmed                  DPU 2   \n",
       "17  Returned  Confirmed                  DPU 4   \n",
       "35  Returned  Confirmed                on call   \n",
       "55  Returned  Confirmed       Customer Refused   \n",
       "59  Returned  Confirmed                  DPU 4   \n",
       "71  Returned  Confirmed                 Script   \n",
       "73       RTO  Confirmed                 Script   \n",
       "75  Returned  Confirmed              DPU order   \n",
       "84  Returned  Confirmed                    NaN   \n",
       "\n",
       "                                                 Cart  Total Date Returned  \\\n",
       "9   [{\"id\": 24, \"pname\": \"One Month Detox\", \"categ...   2156    2021-02-13   \n",
       "10  [{\"id\": 32, \"pname\": \"One Week Weight-Loss (Pe...    999    2021-02-08   \n",
       "17  [{\"id\": 34, \"pname\": \"One Month Weight-Loss (P...   3596    2021-02-13   \n",
       "35  [{\"id\": 31, \"pname\": \"One Week Weight-Loss (Mi...    999    2021-02-08   \n",
       "55  [{\"id\": 34, \"pname\": \"One Month Weight-Loss (P...   3596    2021-02-20   \n",
       "59  [{\"id\": 31, \"pname\": \"One Week Weight-Loss (Mi...    999    2021-02-07   \n",
       "71  [{\"id\": 32, \"pname\": \"One Week Weight-Loss (Pe...    999    2021-02-09   \n",
       "73  [{\"id\": 34, \"pname\": \"One Month Weight-Loss (P...   3596           NaT   \n",
       "75  [{\"id\": 23, \"pname\": \"One Week Detox Trial\", \"...    599    2021-02-11   \n",
       "84  [{\"id\": 31, \"pname\": \"One Week Weight-Loss (Mi...    999    2021-02-09   \n",
       "\n",
       "    Days to Return  \n",
       "9             13.0  \n",
       "10             8.0  \n",
       "17            13.0  \n",
       "35             8.0  \n",
       "55            21.0  \n",
       "59             8.0  \n",
       "71            10.0  \n",
       "73             NaN  \n",
       "75            12.0  \n",
       "84            10.0  "
      ]
     },
     "execution_count": 54,
     "metadata": {},
     "output_type": "execute_result"
    }
   ],
   "source": [
    "df_return.head(10)"
   ]
  },
  {
   "cell_type": "code",
   "execution_count": 64,
   "id": "55d84d65",
   "metadata": {},
   "outputs": [],
   "source": [
    "df['Remarks'].fillna(value='Remarks Not Available', inplace= True)"
   ]
  },
  {
   "cell_type": "code",
   "execution_count": 65,
   "id": "b9905fe0",
   "metadata": {},
   "outputs": [
    {
     "name": "stderr",
     "output_type": "stream",
     "text": [
      "C:\\Users\\ashwa\\Anaconda3\\lib\\site-packages\\pandas\\core\\series.py:4463: SettingWithCopyWarning: \n",
      "A value is trying to be set on a copy of a slice from a DataFrame\n",
      "\n",
      "See the caveats in the documentation: https://pandas.pydata.org/pandas-docs/stable/user_guide/indexing.html#returning-a-view-versus-a-copy\n",
      "  return super().fillna(\n"
     ]
    }
   ],
   "source": [
    "df_return['Remarks'].fillna(value='Remarks Not Available', inplace= True)"
   ]
  },
  {
   "cell_type": "code",
   "execution_count": 142,
   "id": "7b465da6",
   "metadata": {},
   "outputs": [
    {
     "data": {
      "text/plain": [
       "array(['Odisha', 'Maharashtra', 'Karnataka', 'Uttarakhand',\n",
       "       'Madhya Pradesh', 'Tamil Nadu', 'Nagaland', 'Rajasthan', 'Bihar',\n",
       "       'Telangana', 'West Bengal', 'Gujarat', 'Punjab', 'Delhi',\n",
       "       'Andhra Pradesh', 'Haryana', 'Jammu & Kashmir', 'Uttar Pradesh',\n",
       "       'Assam', 'Chattisgarh', 'Meghalaya', 'Himachal Pradesh', 'Kerala',\n",
       "       'Tripura', 'Arunachal Pradesh', 'Mizoram', 'Goa', 'Manipur',\n",
       "       'Sikkim', 'Jharkhand', nan, 'Chandigarh', 'Pondicherry',\n",
       "       'Andaman & Nicobar', 'Bengaluru'], dtype=object)"
      ]
     },
     "execution_count": 142,
     "metadata": {},
     "output_type": "execute_result"
    }
   ],
   "source": [
    "df['State'].unique()"
   ]
  },
  {
   "cell_type": "code",
   "execution_count": 143,
   "id": "26acc596",
   "metadata": {},
   "outputs": [],
   "source": [
    "df['State'].replace({'Bengaluru': 'Karnataka'}, inplace= True)"
   ]
  },
  {
   "cell_type": "code",
   "execution_count": null,
   "id": "4fc67b75",
   "metadata": {},
   "outputs": [],
   "source": []
  },
  {
   "cell_type": "code",
   "execution_count": 144,
   "id": "be68471d",
   "metadata": {},
   "outputs": [
    {
     "data": {
      "text/plain": [
       "ID                0\n",
       "Name              0\n",
       "City              0\n",
       "State             0\n",
       "Address           0\n",
       "isCOD             0\n",
       "Date Placed       0\n",
       "Status            0\n",
       "IVR               0\n",
       "Remarks           0\n",
       "Cart              0\n",
       "Total             0\n",
       "Date Returned     2\n",
       "Days to Return    2\n",
       "dtype: int64"
      ]
     },
     "execution_count": 144,
     "metadata": {},
     "output_type": "execute_result"
    }
   ],
   "source": [
    "df_return.isnull().sum()"
   ]
  },
  {
   "cell_type": "code",
   "execution_count": 145,
   "id": "d85abd42",
   "metadata": {},
   "outputs": [
    {
     "data": {
      "text/plain": [
       "ID                    0\n",
       "Name                  0\n",
       "City                  4\n",
       "State                 4\n",
       "Address               0\n",
       "isCOD                 0\n",
       "Date Placed           0\n",
       "Status                0\n",
       "IVR                   0\n",
       "Remarks               0\n",
       "Cart                  0\n",
       "Total                 0\n",
       "Date Delivered      189\n",
       "Date Returned      1403\n",
       "Days to Deliver     189\n",
       "Days to Return     1403\n",
       "dtype: int64"
      ]
     },
     "execution_count": 145,
     "metadata": {},
     "output_type": "execute_result"
    }
   ],
   "source": [
    "df.isnull().sum()"
   ]
  },
  {
   "cell_type": "code",
   "execution_count": 72,
   "id": "0efb4104",
   "metadata": {},
   "outputs": [
    {
     "data": {
      "text/html": [
       "<div>\n",
       "<style scoped>\n",
       "    .dataframe tbody tr th:only-of-type {\n",
       "        vertical-align: middle;\n",
       "    }\n",
       "\n",
       "    .dataframe tbody tr th {\n",
       "        vertical-align: top;\n",
       "    }\n",
       "\n",
       "    .dataframe thead th {\n",
       "        text-align: right;\n",
       "    }\n",
       "</style>\n",
       "<table border=\"1\" class=\"dataframe\">\n",
       "  <thead>\n",
       "    <tr style=\"text-align: right;\">\n",
       "      <th></th>\n",
       "      <th>ID</th>\n",
       "      <th>Name</th>\n",
       "      <th>City</th>\n",
       "      <th>State</th>\n",
       "      <th>Address</th>\n",
       "      <th>isCOD</th>\n",
       "      <th>Date Placed</th>\n",
       "      <th>Status</th>\n",
       "      <th>IVR</th>\n",
       "      <th>Remarks</th>\n",
       "      <th>Cart</th>\n",
       "      <th>Total</th>\n",
       "      <th>Date Delivered</th>\n",
       "      <th>Date Returned</th>\n",
       "      <th>Days to Deliver</th>\n",
       "      <th>Days to Return</th>\n",
       "    </tr>\n",
       "  </thead>\n",
       "  <tbody>\n",
       "    <tr>\n",
       "      <th>393</th>\n",
       "      <td>29545</td>\n",
       "      <td>Ama</td>\n",
       "      <td>NaN</td>\n",
       "      <td>NaN</td>\n",
       "      <td>#549 sector 8b</td>\n",
       "      <td>False</td>\n",
       "      <td>2021-01-25</td>\n",
       "      <td>Delivered</td>\n",
       "      <td>Confirmed</td>\n",
       "      <td>NaN</td>\n",
       "      <td>[{\"id\":\"23\",\"category\":\"D\",\"pname\":\"One Week D...</td>\n",
       "      <td>569</td>\n",
       "      <td>2021-01-29</td>\n",
       "      <td>NaT</td>\n",
       "      <td>4.0</td>\n",
       "      <td>NaN</td>\n",
       "    </tr>\n",
       "    <tr>\n",
       "      <th>522</th>\n",
       "      <td>29342</td>\n",
       "      <td>Kru</td>\n",
       "      <td>NaN</td>\n",
       "      <td>NaN</td>\n",
       "      <td>8, vedant bunglow1,near bright day school, vas...</td>\n",
       "      <td>True</td>\n",
       "      <td>2021-01-22</td>\n",
       "      <td>Delivered</td>\n",
       "      <td>Confirmed</td>\n",
       "      <td>DPU order</td>\n",
       "      <td>[{\"id\": 33, \"pname\": \"One Month Weight-Loss (M...</td>\n",
       "      <td>3596</td>\n",
       "      <td>2021-01-26</td>\n",
       "      <td>NaT</td>\n",
       "      <td>4.0</td>\n",
       "      <td>NaN</td>\n",
       "    </tr>\n",
       "    <tr>\n",
       "      <th>883</th>\n",
       "      <td>28774</td>\n",
       "      <td>Neh</td>\n",
       "      <td>NaN</td>\n",
       "      <td>NaN</td>\n",
       "      <td>Flat no.  4U-104, Awho township</td>\n",
       "      <td>False</td>\n",
       "      <td>2021-01-16</td>\n",
       "      <td>Delivered</td>\n",
       "      <td>Confirmed</td>\n",
       "      <td>NaN</td>\n",
       "      <td>[{\"id\": 33, \"pname\": \"One Month Weight-Loss (M...</td>\n",
       "      <td>3417</td>\n",
       "      <td>2021-01-19</td>\n",
       "      <td>NaT</td>\n",
       "      <td>3.0</td>\n",
       "      <td>NaN</td>\n",
       "    </tr>\n",
       "    <tr>\n",
       "      <th>960</th>\n",
       "      <td>28659</td>\n",
       "      <td>Ahm</td>\n",
       "      <td>NaN</td>\n",
       "      <td>NaN</td>\n",
       "      <td>Ardee mall sector 52 second floor Skechers shop</td>\n",
       "      <td>True</td>\n",
       "      <td>2021-01-15</td>\n",
       "      <td>Returned</td>\n",
       "      <td>Confirmed</td>\n",
       "      <td>Call Declined</td>\n",
       "      <td>[{\"id\": 34, \"pname\": \"One Month Weight-Loss (P...</td>\n",
       "      <td>3596</td>\n",
       "      <td>NaT</td>\n",
       "      <td>2021-01-25</td>\n",
       "      <td>NaN</td>\n",
       "      <td>10.0</td>\n",
       "    </tr>\n",
       "  </tbody>\n",
       "</table>\n",
       "</div>"
      ],
      "text/plain": [
       "        ID Name City State                                            Address  \\\n",
       "393  29545  Ama  NaN   NaN                                     #549 sector 8b   \n",
       "522  29342  Kru  NaN   NaN  8, vedant bunglow1,near bright day school, vas...   \n",
       "883  28774  Neh  NaN   NaN                    Flat no.  4U-104, Awho township   \n",
       "960  28659  Ahm  NaN   NaN    Ardee mall sector 52 second floor Skechers shop   \n",
       "\n",
       "     isCOD Date Placed     Status        IVR        Remarks  \\\n",
       "393  False  2021-01-25  Delivered  Confirmed            NaN   \n",
       "522   True  2021-01-22  Delivered  Confirmed      DPU order   \n",
       "883  False  2021-01-16  Delivered  Confirmed            NaN   \n",
       "960   True  2021-01-15   Returned  Confirmed  Call Declined   \n",
       "\n",
       "                                                  Cart  Total Date Delivered  \\\n",
       "393  [{\"id\":\"23\",\"category\":\"D\",\"pname\":\"One Week D...    569     2021-01-29   \n",
       "522  [{\"id\": 33, \"pname\": \"One Month Weight-Loss (M...   3596     2021-01-26   \n",
       "883  [{\"id\": 33, \"pname\": \"One Month Weight-Loss (M...   3417     2021-01-19   \n",
       "960  [{\"id\": 34, \"pname\": \"One Month Weight-Loss (P...   3596            NaT   \n",
       "\n",
       "    Date Returned  Days to Deliver  Days to Return  \n",
       "393           NaT              4.0             NaN  \n",
       "522           NaT              4.0             NaN  \n",
       "883           NaT              3.0             NaN  \n",
       "960    2021-01-25              NaN            10.0  "
      ]
     },
     "execution_count": 72,
     "metadata": {},
     "output_type": "execute_result"
    }
   ],
   "source": [
    "df1[df1['City'].isnull()]"
   ]
  },
  {
   "cell_type": "code",
   "execution_count": null,
   "id": "200587cd",
   "metadata": {},
   "outputs": [],
   "source": []
  },
  {
   "cell_type": "code",
   "execution_count": null,
   "id": "f3445135",
   "metadata": {},
   "outputs": [],
   "source": []
  },
  {
   "cell_type": "code",
   "execution_count": 99,
   "id": "d7ff50d7",
   "metadata": {},
   "outputs": [],
   "source": [
    "df1= df.copy()"
   ]
  },
  {
   "cell_type": "code",
   "execution_count": 100,
   "id": "73a48a7d",
   "metadata": {},
   "outputs": [],
   "source": [
    "#df1.head()\n",
    "#df.head()\n"
   ]
  },
  {
   "cell_type": "code",
   "execution_count": null,
   "id": "bad865cf",
   "metadata": {},
   "outputs": [],
   "source": []
  },
  {
   "cell_type": "code",
   "execution_count": 73,
   "id": "2d3f01af",
   "metadata": {},
   "outputs": [
    {
     "name": "stderr",
     "output_type": "stream",
     "text": [
      "C:\\Users\\ashwa\\Anaconda3\\lib\\site-packages\\pandas\\core\\series.py:4463: SettingWithCopyWarning: \n",
      "A value is trying to be set on a copy of a slice from a DataFrame\n",
      "\n",
      "See the caveats in the documentation: https://pandas.pydata.org/pandas-docs/stable/user_guide/indexing.html#returning-a-view-versus-a-copy\n",
      "  return super().fillna(\n"
     ]
    }
   ],
   "source": [
    "df_return['State'].fillna(value='Uttar Pradesh', inplace= True)"
   ]
  },
  {
   "cell_type": "code",
   "execution_count": 74,
   "id": "9fcbcfb5",
   "metadata": {},
   "outputs": [],
   "source": [
    "df_return['City'].fillna(value='Greater Noida', inplace= True)"
   ]
  },
  {
   "cell_type": "code",
   "execution_count": 75,
   "id": "c2be3d0a",
   "metadata": {},
   "outputs": [
    {
     "data": {
      "text/plain": [
       "ID                0\n",
       "Name              0\n",
       "City              0\n",
       "State             0\n",
       "Address           0\n",
       "isCOD             0\n",
       "Date Placed       0\n",
       "Status            0\n",
       "IVR               0\n",
       "Remarks           0\n",
       "Cart              0\n",
       "Total             0\n",
       "Date Returned     2\n",
       "Days to Return    2\n",
       "dtype: int64"
      ]
     },
     "execution_count": 75,
     "metadata": {},
     "output_type": "execute_result"
    }
   ],
   "source": [
    "df_return.isnull().sum()"
   ]
  },
  {
   "cell_type": "code",
   "execution_count": null,
   "id": "f6e47c9d",
   "metadata": {},
   "outputs": [],
   "source": []
  },
  {
   "cell_type": "code",
   "execution_count": 86,
   "id": "c334c3e0",
   "metadata": {},
   "outputs": [],
   "source": [
    "#Data Visualization"
   ]
  },
  {
   "cell_type": "code",
   "execution_count": 146,
   "id": "3a891685",
   "metadata": {},
   "outputs": [
    {
     "data": {
      "text/html": [
       "<div>\n",
       "<style scoped>\n",
       "    .dataframe tbody tr th:only-of-type {\n",
       "        vertical-align: middle;\n",
       "    }\n",
       "\n",
       "    .dataframe tbody tr th {\n",
       "        vertical-align: top;\n",
       "    }\n",
       "\n",
       "    .dataframe thead th {\n",
       "        text-align: right;\n",
       "    }\n",
       "</style>\n",
       "<table border=\"1\" class=\"dataframe\">\n",
       "  <thead>\n",
       "    <tr style=\"text-align: right;\">\n",
       "      <th></th>\n",
       "      <th>ID</th>\n",
       "      <th>Name</th>\n",
       "      <th>City</th>\n",
       "      <th>State</th>\n",
       "      <th>Address</th>\n",
       "      <th>isCOD</th>\n",
       "      <th>Date Placed</th>\n",
       "      <th>Status</th>\n",
       "      <th>IVR</th>\n",
       "      <th>Remarks</th>\n",
       "      <th>Cart</th>\n",
       "      <th>Total</th>\n",
       "      <th>Date Returned</th>\n",
       "      <th>Days to Return</th>\n",
       "    </tr>\n",
       "  </thead>\n",
       "  <tbody>\n",
       "    <tr>\n",
       "      <th>9</th>\n",
       "      <td>30132</td>\n",
       "      <td>Mad</td>\n",
       "      <td>Thane</td>\n",
       "      <td>Maharashtra</td>\n",
       "      <td>C 204 shrikrishna sadan , mumbra Devi Colony R...</td>\n",
       "      <td>True</td>\n",
       "      <td>2021-01-31</td>\n",
       "      <td>Returned</td>\n",
       "      <td>Confirmed</td>\n",
       "      <td>Will order next month</td>\n",
       "      <td>[{\"id\": 24, \"pname\": \"One Month Detox\", \"categ...</td>\n",
       "      <td>2156</td>\n",
       "      <td>2021-02-13</td>\n",
       "      <td>13.0</td>\n",
       "    </tr>\n",
       "    <tr>\n",
       "      <th>10</th>\n",
       "      <td>30131</td>\n",
       "      <td>Hee</td>\n",
       "      <td>Rajsamand</td>\n",
       "      <td>Rajasthan</td>\n",
       "      <td>Reti mholaa kakaroli waad no 33</td>\n",
       "      <td>True</td>\n",
       "      <td>2021-01-31</td>\n",
       "      <td>Returned</td>\n",
       "      <td>Confirmed</td>\n",
       "      <td>DPU 2</td>\n",
       "      <td>[{\"id\": 32, \"pname\": \"One Week Weight-Loss (Pe...</td>\n",
       "      <td>999</td>\n",
       "      <td>2021-02-08</td>\n",
       "      <td>8.0</td>\n",
       "    </tr>\n",
       "    <tr>\n",
       "      <th>17</th>\n",
       "      <td>30123</td>\n",
       "      <td>Vic</td>\n",
       "      <td>Ludhiana</td>\n",
       "      <td>Punjab</td>\n",
       "      <td>Barewal Awana Near magnet road mahavir enclave</td>\n",
       "      <td>True</td>\n",
       "      <td>2021-01-31</td>\n",
       "      <td>Returned</td>\n",
       "      <td>Confirmed</td>\n",
       "      <td>DPU 4</td>\n",
       "      <td>[{\"id\": 34, \"pname\": \"One Month Weight-Loss (P...</td>\n",
       "      <td>3596</td>\n",
       "      <td>2021-02-13</td>\n",
       "      <td>13.0</td>\n",
       "    </tr>\n",
       "    <tr>\n",
       "      <th>35</th>\n",
       "      <td>30085</td>\n",
       "      <td>Bas</td>\n",
       "      <td>Visakhapatnam</td>\n",
       "      <td>Andhra Pradesh</td>\n",
       "      <td>24-71-1,mig-46,samatha nagar colony,pedagatyad...</td>\n",
       "      <td>True</td>\n",
       "      <td>2021-01-31</td>\n",
       "      <td>Returned</td>\n",
       "      <td>Confirmed</td>\n",
       "      <td>on call</td>\n",
       "      <td>[{\"id\": 31, \"pname\": \"One Week Weight-Loss (Mi...</td>\n",
       "      <td>999</td>\n",
       "      <td>2021-02-08</td>\n",
       "      <td>8.0</td>\n",
       "    </tr>\n",
       "    <tr>\n",
       "      <th>55</th>\n",
       "      <td>30047</td>\n",
       "      <td>Rin</td>\n",
       "      <td>Mandsaur</td>\n",
       "      <td>Madhya Pradesh</td>\n",
       "      <td>Bhatuni Shree Ram mandir</td>\n",
       "      <td>True</td>\n",
       "      <td>2021-01-30</td>\n",
       "      <td>Returned</td>\n",
       "      <td>Confirmed</td>\n",
       "      <td>Customer Refused</td>\n",
       "      <td>[{\"id\": 34, \"pname\": \"One Month Weight-Loss (P...</td>\n",
       "      <td>3596</td>\n",
       "      <td>2021-02-20</td>\n",
       "      <td>21.0</td>\n",
       "    </tr>\n",
       "  </tbody>\n",
       "</table>\n",
       "</div>"
      ],
      "text/plain": [
       "       ID Name           City           State  \\\n",
       "9   30132  Mad          Thane     Maharashtra   \n",
       "10  30131  Hee      Rajsamand       Rajasthan   \n",
       "17  30123  Vic       Ludhiana          Punjab   \n",
       "35  30085  Bas  Visakhapatnam  Andhra Pradesh   \n",
       "55  30047  Rin       Mandsaur  Madhya Pradesh   \n",
       "\n",
       "                                              Address  isCOD Date Placed  \\\n",
       "9   C 204 shrikrishna sadan , mumbra Devi Colony R...   True  2021-01-31   \n",
       "10                    Reti mholaa kakaroli waad no 33   True  2021-01-31   \n",
       "17     Barewal Awana Near magnet road mahavir enclave   True  2021-01-31   \n",
       "35  24-71-1,mig-46,samatha nagar colony,pedagatyad...   True  2021-01-31   \n",
       "55                           Bhatuni Shree Ram mandir   True  2021-01-30   \n",
       "\n",
       "      Status        IVR                Remarks  \\\n",
       "9   Returned  Confirmed  Will order next month   \n",
       "10  Returned  Confirmed                  DPU 2   \n",
       "17  Returned  Confirmed                  DPU 4   \n",
       "35  Returned  Confirmed                on call   \n",
       "55  Returned  Confirmed       Customer Refused   \n",
       "\n",
       "                                                 Cart  Total Date Returned  \\\n",
       "9   [{\"id\": 24, \"pname\": \"One Month Detox\", \"categ...   2156    2021-02-13   \n",
       "10  [{\"id\": 32, \"pname\": \"One Week Weight-Loss (Pe...    999    2021-02-08   \n",
       "17  [{\"id\": 34, \"pname\": \"One Month Weight-Loss (P...   3596    2021-02-13   \n",
       "35  [{\"id\": 31, \"pname\": \"One Week Weight-Loss (Mi...    999    2021-02-08   \n",
       "55  [{\"id\": 34, \"pname\": \"One Month Weight-Loss (P...   3596    2021-02-20   \n",
       "\n",
       "    Days to Return  \n",
       "9             13.0  \n",
       "10             8.0  \n",
       "17            13.0  \n",
       "35             8.0  \n",
       "55            21.0  "
      ]
     },
     "execution_count": 146,
     "metadata": {},
     "output_type": "execute_result"
    }
   ],
   "source": [
    "df_return.head()"
   ]
  },
  {
   "cell_type": "code",
   "execution_count": null,
   "id": "7ca29f6c",
   "metadata": {},
   "outputs": [],
   "source": []
  },
  {
   "cell_type": "code",
   "execution_count": null,
   "id": "eefdb438",
   "metadata": {},
   "outputs": [],
   "source": []
  },
  {
   "cell_type": "code",
   "execution_count": 114,
   "id": "3a3a612e",
   "metadata": {},
   "outputs": [
    {
     "data": {
      "text/plain": [
       "Delivered    1401\n",
       "Returned      187\n",
       "RTO             2\n",
       "Name: Status, dtype: int64"
      ]
     },
     "execution_count": 114,
     "metadata": {},
     "output_type": "execute_result"
    }
   ],
   "source": [
    "df['Status'].value_counts()"
   ]
  },
  {
   "cell_type": "code",
   "execution_count": 193,
   "id": "5e77fa53",
   "metadata": {},
   "outputs": [
    {
     "name": "stderr",
     "output_type": "stream",
     "text": [
      "C:\\Users\\ashwa\\Anaconda3\\lib\\site-packages\\seaborn\\_decorators.py:36: FutureWarning: Pass the following variable as a keyword arg: x. From version 0.12, the only valid positional argument will be `data`, and passing other arguments without an explicit keyword will result in an error or misinterpretation.\n",
      "  warnings.warn(\n"
     ]
    },
    {
     "data": {
      "text/plain": [
       "<AxesSubplot:xlabel='Status', ylabel='count'>"
      ]
     },
     "execution_count": 193,
     "metadata": {},
     "output_type": "execute_result"
    },
    {
     "data": {
      "image/png": "[encoded data removed]",
      "text/plain": [
       "<Figure size 864x432 with 1 Axes>"
      ]
     },
     "metadata": {
      "needs_background": "light"
     },
     "output_type": "display_data"
    }
   ],
   "source": [
    "plt.figure(figsize=(12,6))\n",
    "sns.countplot(df['Status'], hue= df['isCOD'])"
   ]
  },
  {
   "cell_type": "code",
   "execution_count": null,
   "id": "fb5c84f2",
   "metadata": {},
   "outputs": [],
   "source": []
  },
  {
   "cell_type": "code",
   "execution_count": null,
   "id": "37c66fbc",
   "metadata": {},
   "outputs": [],
   "source": []
  },
  {
   "cell_type": "code",
   "execution_count": 147,
   "id": "fd3455e0",
   "metadata": {},
   "outputs": [
    {
     "name": "stderr",
     "output_type": "stream",
     "text": [
      "C:\\Users\\ashwa\\Anaconda3\\lib\\site-packages\\seaborn\\_decorators.py:36: FutureWarning: Pass the following variable as a keyword arg: x. From version 0.12, the only valid positional argument will be `data`, and passing other arguments without an explicit keyword will result in an error or misinterpretation.\n",
      "  warnings.warn(\n"
     ]
    },
    {
     "data": {
      "text/plain": [
       "[Text(0, 0, 'Maharashtra'),\n",
       " Text(1, 0, 'Rajasthan'),\n",
       " Text(2, 0, 'Punjab'),\n",
       " Text(3, 0, 'Andhra Pradesh'),\n",
       " Text(4, 0, 'Madhya Pradesh'),\n",
       " Text(5, 0, 'Karnataka'),\n",
       " Text(6, 0, 'Jammu & Kashmir'),\n",
       " Text(7, 0, 'Telangana'),\n",
       " Text(8, 0, 'Assam'),\n",
       " Text(9, 0, 'Nagaland'),\n",
       " Text(10, 0, 'Uttar Pradesh'),\n",
       " Text(11, 0, 'Gujarat'),\n",
       " Text(12, 0, 'Tamil Nadu'),\n",
       " Text(13, 0, 'Tripura'),\n",
       " Text(14, 0, 'Delhi'),\n",
       " Text(15, 0, 'Manipur'),\n",
       " Text(16, 0, 'Bihar'),\n",
       " Text(17, 0, 'Himachal Pradesh'),\n",
       " Text(18, 0, 'Odisha'),\n",
       " Text(19, 0, 'Arunachal Pradesh'),\n",
       " Text(20, 0, 'Kerala'),\n",
       " Text(21, 0, 'Haryana'),\n",
       " Text(22, 0, 'Chandigarh'),\n",
       " Text(23, 0, 'West Bengal'),\n",
       " Text(24, 0, 'Uttarakhand'),\n",
       " Text(25, 0, 'Mizoram'),\n",
       " Text(26, 0, 'Bengaluru')]"
      ]
     },
     "execution_count": 147,
     "metadata": {},
     "output_type": "execute_result"
    },
    {
     "data": {
      "image/png": "[encoded data removed]",
      "text/plain": [
       "<Figure size 864x432 with 1 Axes>"
      ]
     },
     "metadata": {
      "needs_background": "light"
     },
     "output_type": "display_data"
    }
   ],
   "source": [
    "plt.figure(figsize=(12,6))\n",
    "g = sns.countplot(df_return['State'])\n",
    "g.set_xticklabels(labels =df_return['State'].unique() , rotation= 'vertical')"
   ]
  },
  {
   "cell_type": "code",
   "execution_count": 186,
   "id": "b3150c97",
   "metadata": {},
   "outputs": [
    {
     "name": "stderr",
     "output_type": "stream",
     "text": [
      "C:\\Users\\ashwa\\Anaconda3\\lib\\site-packages\\seaborn\\_decorators.py:36: FutureWarning: Pass the following variable as a keyword arg: x. From version 0.12, the only valid positional argument will be `data`, and passing other arguments without an explicit keyword will result in an error or misinterpretation.\n",
      "  warnings.warn(\n"
     ]
    },
    {
     "data": {
      "text/plain": [
       "[Text(0, 0, 'Odisha'),\n",
       " Text(1, 0, 'Maharashtra'),\n",
       " Text(2, 0, 'Karnataka'),\n",
       " Text(3, 0, 'Uttarakhand'),\n",
       " Text(4, 0, 'Madhya Pradesh'),\n",
       " Text(5, 0, 'Tamil Nadu'),\n",
       " Text(6, 0, 'Nagaland'),\n",
       " Text(7, 0, 'Rajasthan'),\n",
       " Text(8, 0, 'Bihar'),\n",
       " Text(9, 0, 'Telangana'),\n",
       " Text(10, 0, 'West Bengal'),\n",
       " Text(11, 0, 'Gujarat'),\n",
       " Text(12, 0, 'Punjab'),\n",
       " Text(13, 0, 'Delhi'),\n",
       " Text(14, 0, 'Andhra Pradesh'),\n",
       " Text(15, 0, 'Haryana'),\n",
       " Text(16, 0, 'Jammu & Kashmir'),\n",
       " Text(17, 0, 'Uttar Pradesh'),\n",
       " Text(18, 0, 'Assam'),\n",
       " Text(19, 0, 'Chattisgarh'),\n",
       " Text(20, 0, 'Meghalaya'),\n",
       " Text(21, 0, 'Himachal Pradesh'),\n",
       " Text(22, 0, 'Kerala'),\n",
       " Text(23, 0, 'Tripura'),\n",
       " Text(24, 0, 'Arunachal Pradesh'),\n",
       " Text(25, 0, 'Mizoram'),\n",
       " Text(26, 0, 'Goa'),\n",
       " Text(27, 0, 'Manipur'),\n",
       " Text(28, 0, 'Sikkim'),\n",
       " Text(29, 0, 'Jharkhand'),\n",
       " Text(30, 0, 'Chandigarh'),\n",
       " Text(31, 0, 'Pondicherry'),\n",
       " Text(32, 0, 'Andaman & Nicobar'),\n",
       " Text(33, 0, 'Bengaluru')]"
      ]
     },
     "execution_count": 186,
     "metadata": {},
     "output_type": "execute_result"
    },
    {
     "data": {
      "image/png": "[encoded data removed]",
      "text/plain": [
       "<Figure size 1152x576 with 1 Axes>"
      ]
     },
     "metadata": {
      "needs_background": "light"
     },
     "output_type": "display_data"
    }
   ],
   "source": [
    "plt.figure(figsize=(16,8))\n",
    "g = sns.countplot(df1['State'],hue= df1['Status'])\n",
    "g.set_xticklabels(labels =df1['State'].unique() , rotation= 'vertical')"
   ]
  },
  {
   "cell_type": "code",
   "execution_count": 153,
   "id": "55540fb8",
   "metadata": {},
   "outputs": [],
   "source": [
    "df1['State'].fillna(method='bfill', inplace= True)"
   ]
  },
  {
   "cell_type": "code",
   "execution_count": 154,
   "id": "b73a8dcf",
   "metadata": {},
   "outputs": [
    {
     "data": {
      "text/plain": [
       "ID                    0\n",
       "Name                  0\n",
       "City                  4\n",
       "State                 0\n",
       "Address               0\n",
       "isCOD                 0\n",
       "Date Placed           0\n",
       "Status                0\n",
       "IVR                   0\n",
       "Remarks               0\n",
       "Cart                  0\n",
       "Total                 0\n",
       "Date Delivered      189\n",
       "Date Returned      1403\n",
       "Days to Deliver     189\n",
       "Days to Return     1403\n",
       "dtype: int64"
      ]
     },
     "execution_count": 154,
     "metadata": {},
     "output_type": "execute_result"
    }
   ],
   "source": [
    "df1.isnull().sum()"
   ]
  },
  {
   "cell_type": "code",
   "execution_count": 156,
   "id": "7abf4264",
   "metadata": {},
   "outputs": [
    {
     "data": {
      "text/plain": [
       "'Uttar Pradesh'"
      ]
     },
     "execution_count": 156,
     "metadata": {},
     "output_type": "execute_result"
    }
   ],
   "source": [
    "df1['State'].iloc[522]"
   ]
  },
  {
   "cell_type": "code",
   "execution_count": 167,
   "id": "f0f59ea1",
   "metadata": {},
   "outputs": [],
   "source": [
    "df_states_10 = pd.DataFrame(df1['State'].value_counts().sort_values(ascending= False).head(10))"
   ]
  },
  {
   "cell_type": "code",
   "execution_count": 183,
   "id": "9251a065",
   "metadata": {},
   "outputs": [
    {
     "data": {
      "text/plain": [
       "<AxesSubplot:>"
      ]
     },
     "execution_count": 183,
     "metadata": {},
     "output_type": "execute_result"
    },
    {
     "data": {
      "text/plain": [
       "<Figure size 1152x576 with 0 Axes>"
      ]
     },
     "metadata": {},
     "output_type": "display_data"
    },
    {
     "data": {
      "image/png": "[encoded data removed]",
      "text/plain": [
       "<Figure size 432x288 with 1 Axes>"
      ]
     },
     "metadata": {
      "needs_background": "light"
     },
     "output_type": "display_data"
    }
   ],
   "source": [
    "plt.figure(figsize=(16,8))\n",
    "df_states_10.plot(kind='bar')\n"
   ]
  },
  {
   "cell_type": "code",
   "execution_count": 190,
   "id": "46980260",
   "metadata": {},
   "outputs": [
    {
     "data": {
      "text/html": [
       "<div>\n",
       "<style scoped>\n",
       "    .dataframe tbody tr th:only-of-type {\n",
       "        vertical-align: middle;\n",
       "    }\n",
       "\n",
       "    .dataframe tbody tr th {\n",
       "        vertical-align: top;\n",
       "    }\n",
       "\n",
       "    .dataframe thead th {\n",
       "        text-align: right;\n",
       "    }\n",
       "</style>\n",
       "<table border=\"1\" class=\"dataframe\">\n",
       "  <thead>\n",
       "    <tr style=\"text-align: right;\">\n",
       "      <th></th>\n",
       "      <th>ID</th>\n",
       "      <th>Name</th>\n",
       "      <th>City</th>\n",
       "      <th>State</th>\n",
       "      <th>Address</th>\n",
       "      <th>isCOD</th>\n",
       "      <th>Date Placed</th>\n",
       "      <th>Status</th>\n",
       "      <th>IVR</th>\n",
       "      <th>Remarks</th>\n",
       "      <th>Cart</th>\n",
       "      <th>Total</th>\n",
       "      <th>Date Delivered</th>\n",
       "      <th>Date Returned</th>\n",
       "      <th>Days to Deliver</th>\n",
       "      <th>Days to Return</th>\n",
       "    </tr>\n",
       "  </thead>\n",
       "  <tbody>\n",
       "    <tr>\n",
       "      <th>0</th>\n",
       "      <td>30145</td>\n",
       "      <td>Man</td>\n",
       "      <td>Nayagarh</td>\n",
       "      <td>Odisha</td>\n",
       "      <td>Jagadish Prasad, Golapokhari-Bhapur Road, Fate...</td>\n",
       "      <td>True</td>\n",
       "      <td>2021-01-31</td>\n",
       "      <td>Delivered</td>\n",
       "      <td>Confirmed</td>\n",
       "      <td>pickrr</td>\n",
       "      <td>[{\"id\": 32, \"pname\": \"One Week Weight-Loss (Pe...</td>\n",
       "      <td>999</td>\n",
       "      <td>2021-02-14</td>\n",
       "      <td>NaT</td>\n",
       "      <td>14.0</td>\n",
       "      <td>NaN</td>\n",
       "    </tr>\n",
       "    <tr>\n",
       "      <th>1</th>\n",
       "      <td>30144</td>\n",
       "      <td>Dik</td>\n",
       "      <td>Thane</td>\n",
       "      <td>Maharashtra</td>\n",
       "      <td>Shanti Garden Sector 4 , flat 401, building 2,...</td>\n",
       "      <td>True</td>\n",
       "      <td>2021-01-31</td>\n",
       "      <td>Delivered</td>\n",
       "      <td>Confirmed</td>\n",
       "      <td>Remarks Not Available</td>\n",
       "      <td>[{\"id\": 23, \"pname\": \"One Week Detox Trial\", \"...</td>\n",
       "      <td>599</td>\n",
       "      <td>2021-02-02</td>\n",
       "      <td>NaT</td>\n",
       "      <td>2.0</td>\n",
       "      <td>NaN</td>\n",
       "    </tr>\n",
       "    <tr>\n",
       "      <th>2</th>\n",
       "      <td>30143</td>\n",
       "      <td>Shi</td>\n",
       "      <td>Bangalore</td>\n",
       "      <td>Karnataka</td>\n",
       "      <td>#280 2nd main 2nd cross, vinobha nagar kg halli</td>\n",
       "      <td>True</td>\n",
       "      <td>2021-01-31</td>\n",
       "      <td>Delivered</td>\n",
       "      <td>Confirmed</td>\n",
       "      <td>On call</td>\n",
       "      <td>[{\"id\": 23, \"pname\": \"One Week Detox Trial\", \"...</td>\n",
       "      <td>599</td>\n",
       "      <td>2021-02-08</td>\n",
       "      <td>NaT</td>\n",
       "      <td>8.0</td>\n",
       "      <td>NaN</td>\n",
       "    </tr>\n",
       "    <tr>\n",
       "      <th>3</th>\n",
       "      <td>30142</td>\n",
       "      <td>Pre</td>\n",
       "      <td>Mumbai</td>\n",
       "      <td>Maharashtra</td>\n",
       "      <td>1404/ Accord Nidhi, above Bikaji, Link Road, M...</td>\n",
       "      <td>True</td>\n",
       "      <td>2021-01-31</td>\n",
       "      <td>Delivered</td>\n",
       "      <td>Confirmed</td>\n",
       "      <td>Script</td>\n",
       "      <td>[{\"id\": 34, \"pname\": \"One Month Weight-Loss (P...</td>\n",
       "      <td>3596</td>\n",
       "      <td>2021-02-09</td>\n",
       "      <td>NaT</td>\n",
       "      <td>9.0</td>\n",
       "      <td>NaN</td>\n",
       "    </tr>\n",
       "    <tr>\n",
       "      <th>4</th>\n",
       "      <td>30138</td>\n",
       "      <td>Dr.</td>\n",
       "      <td>Pauri Garhwal</td>\n",
       "      <td>Uttarakhand</td>\n",
       "      <td>10 am to 3 pm, Please call Before Coming, Room...</td>\n",
       "      <td>True</td>\n",
       "      <td>2021-01-31</td>\n",
       "      <td>Delivered</td>\n",
       "      <td>Confirmed</td>\n",
       "      <td>Script</td>\n",
       "      <td>[{\"id\": 31, \"pname\": \"One Week Weight-Loss (Mi...</td>\n",
       "      <td>999</td>\n",
       "      <td>2021-02-04</td>\n",
       "      <td>NaT</td>\n",
       "      <td>4.0</td>\n",
       "      <td>NaN</td>\n",
       "    </tr>\n",
       "  </tbody>\n",
       "</table>\n",
       "</div>"
      ],
      "text/plain": [
       "      ID Name           City        State  \\\n",
       "0  30145  Man       Nayagarh       Odisha   \n",
       "1  30144  Dik          Thane  Maharashtra   \n",
       "2  30143  Shi      Bangalore    Karnataka   \n",
       "3  30142  Pre         Mumbai  Maharashtra   \n",
       "4  30138  Dr.  Pauri Garhwal  Uttarakhand   \n",
       "\n",
       "                                             Address  isCOD Date Placed  \\\n",
       "0  Jagadish Prasad, Golapokhari-Bhapur Road, Fate...   True  2021-01-31   \n",
       "1  Shanti Garden Sector 4 , flat 401, building 2,...   True  2021-01-31   \n",
       "2    #280 2nd main 2nd cross, vinobha nagar kg halli   True  2021-01-31   \n",
       "3  1404/ Accord Nidhi, above Bikaji, Link Road, M...   True  2021-01-31   \n",
       "4  10 am to 3 pm, Please call Before Coming, Room...   True  2021-01-31   \n",
       "\n",
       "      Status        IVR                Remarks  \\\n",
       "0  Delivered  Confirmed                 pickrr   \n",
       "1  Delivered  Confirmed  Remarks Not Available   \n",
       "2  Delivered  Confirmed                On call   \n",
       "3  Delivered  Confirmed                 Script   \n",
       "4  Delivered  Confirmed                 Script   \n",
       "\n",
       "                                                Cart  Total Date Delivered  \\\n",
       "0  [{\"id\": 32, \"pname\": \"One Week Weight-Loss (Pe...    999     2021-02-14   \n",
       "1  [{\"id\": 23, \"pname\": \"One Week Detox Trial\", \"...    599     2021-02-02   \n",
       "2  [{\"id\": 23, \"pname\": \"One Week Detox Trial\", \"...    599     2021-02-08   \n",
       "3  [{\"id\": 34, \"pname\": \"One Month Weight-Loss (P...   3596     2021-02-09   \n",
       "4  [{\"id\": 31, \"pname\": \"One Week Weight-Loss (Mi...    999     2021-02-04   \n",
       "\n",
       "  Date Returned  Days to Deliver  Days to Return  \n",
       "0           NaT             14.0             NaN  \n",
       "1           NaT              2.0             NaN  \n",
       "2           NaT              8.0             NaN  \n",
       "3           NaT              9.0             NaN  \n",
       "4           NaT              4.0             NaN  "
      ]
     },
     "execution_count": 190,
     "metadata": {},
     "output_type": "execute_result"
    }
   ],
   "source": [
    "df.head()"
   ]
  },
  {
   "cell_type": "code",
   "execution_count": 192,
   "id": "cacb2650",
   "metadata": {},
   "outputs": [
    {
     "data": {
      "text/plain": [
       "<AxesSubplot:xlabel='isCOD', ylabel='Status'>"
      ]
     },
     "execution_count": 192,
     "metadata": {},
     "output_type": "execute_result"
    },
    {
     "data": {
      "image/png": "[encoded data removed]",
      "text/plain": [
       "<Figure size 432x288 with 1 Axes>"
      ]
     },
     "metadata": {
      "needs_background": "light"
     },
     "output_type": "display_data"
    }
   ],
   "source": [
    "sns.scatterplot(x='isCOD', y='Status', data=df)"
   ]
  },
  {
   "cell_type": "code",
   "execution_count": 196,
   "id": "f2bd6a45",
   "metadata": {},
   "outputs": [
    {
     "name": "stderr",
     "output_type": "stream",
     "text": [
      "C:\\Users\\ashwa\\Anaconda3\\lib\\site-packages\\seaborn\\_decorators.py:36: FutureWarning: Pass the following variable as a keyword arg: x. From version 0.12, the only valid positional argument will be `data`, and passing other arguments without an explicit keyword will result in an error or misinterpretation.\n",
      "  warnings.warn(\n"
     ]
    },
    {
     "data": {
      "text/plain": [
       "<AxesSubplot:xlabel='isCOD', ylabel='count'>"
      ]
     },
     "execution_count": 196,
     "metadata": {},
     "output_type": "execute_result"
    },
    {
     "data": {
      "image/png": "[encoded data removed]",
      "text/plain": [
       "<Figure size 864x432 with 1 Axes>"
      ]
     },
     "metadata": {
      "needs_background": "light"
     },
     "output_type": "display_data"
    }
   ],
   "source": [
    "plt.figure(figsize=(12,6))\n",
    "sns.countplot(df['isCOD'], hue=df['Status'])"
   ]
  },
  {
   "cell_type": "code",
   "execution_count": 197,
   "id": "6ee533bd",
   "metadata": {},
   "outputs": [
    {
     "name": "stderr",
     "output_type": "stream",
     "text": [
      "C:\\Users\\ashwa\\Anaconda3\\lib\\site-packages\\seaborn\\_decorators.py:36: FutureWarning: Pass the following variable as a keyword arg: x. From version 0.12, the only valid positional argument will be `data`, and passing other arguments without an explicit keyword will result in an error or misinterpretation.\n",
      "  warnings.warn(\n"
     ]
    },
    {
     "data": {
      "text/plain": [
       "[Text(0, 0, 'Odisha'),\n",
       " Text(1, 0, 'Maharashtra'),\n",
       " Text(2, 0, 'Karnataka'),\n",
       " Text(3, 0, 'Uttarakhand'),\n",
       " Text(4, 0, 'Madhya Pradesh'),\n",
       " Text(5, 0, 'Tamil Nadu'),\n",
       " Text(6, 0, 'Nagaland'),\n",
       " Text(7, 0, 'Rajasthan'),\n",
       " Text(8, 0, 'Bihar'),\n",
       " Text(9, 0, 'Telangana'),\n",
       " Text(10, 0, 'West Bengal'),\n",
       " Text(11, 0, 'Gujarat'),\n",
       " Text(12, 0, 'Punjab'),\n",
       " Text(13, 0, 'Delhi'),\n",
       " Text(14, 0, 'Andhra Pradesh'),\n",
       " Text(15, 0, 'Haryana'),\n",
       " Text(16, 0, 'Jammu & Kashmir'),\n",
       " Text(17, 0, 'Uttar Pradesh'),\n",
       " Text(18, 0, 'Assam'),\n",
       " Text(19, 0, 'Chattisgarh'),\n",
       " Text(20, 0, 'Meghalaya'),\n",
       " Text(21, 0, 'Himachal Pradesh'),\n",
       " Text(22, 0, 'Kerala'),\n",
       " Text(23, 0, 'Tripura'),\n",
       " Text(24, 0, 'Arunachal Pradesh'),\n",
       " Text(25, 0, 'Mizoram'),\n",
       " Text(26, 0, 'Goa'),\n",
       " Text(27, 0, 'Manipur'),\n",
       " Text(28, 0, 'Sikkim'),\n",
       " Text(29, 0, 'Jharkhand'),\n",
       " Text(30, 0, 'Chandigarh'),\n",
       " Text(31, 0, 'Pondicherry'),\n",
       " Text(32, 0, 'Andaman & Nicobar'),\n",
       " Text(33, 0, 'Bengaluru')]"
      ]
     },
     "execution_count": 197,
     "metadata": {},
     "output_type": "execute_result"
    },
    {
     "data": {
      "image/png": "[encoded data removed]",
      "text/plain": [
       "<Figure size 1152x576 with 1 Axes>"
      ]
     },
     "metadata": {
      "needs_background": "light"
     },
     "output_type": "display_data"
    }
   ],
   "source": [
    "plt.figure(figsize=(16,8))\n",
    "g = sns.countplot(df1['State'],hue= df1['isCOD'])\n",
    "g.set_xticklabels(labels =df1['State'].unique() , rotation= 'vertical')"
   ]
  },
  {
   "cell_type": "code",
   "execution_count": 198,
   "id": "fd496bbe",
   "metadata": {},
   "outputs": [
    {
     "data": {
      "text/html": [
       "<div>\n",
       "<style scoped>\n",
       "    .dataframe tbody tr th:only-of-type {\n",
       "        vertical-align: middle;\n",
       "    }\n",
       "\n",
       "    .dataframe tbody tr th {\n",
       "        vertical-align: top;\n",
       "    }\n",
       "\n",
       "    .dataframe thead th {\n",
       "        text-align: right;\n",
       "    }\n",
       "</style>\n",
       "<table border=\"1\" class=\"dataframe\">\n",
       "  <thead>\n",
       "    <tr style=\"text-align: right;\">\n",
       "      <th></th>\n",
       "      <th>ID</th>\n",
       "      <th>Name</th>\n",
       "      <th>City</th>\n",
       "      <th>State</th>\n",
       "      <th>Address</th>\n",
       "      <th>isCOD</th>\n",
       "      <th>Date Placed</th>\n",
       "      <th>Status</th>\n",
       "      <th>IVR</th>\n",
       "      <th>Remarks</th>\n",
       "      <th>Cart</th>\n",
       "      <th>Total</th>\n",
       "      <th>Date Delivered</th>\n",
       "      <th>Date Returned</th>\n",
       "      <th>Days to Deliver</th>\n",
       "      <th>Days to Return</th>\n",
       "    </tr>\n",
       "  </thead>\n",
       "  <tbody>\n",
       "    <tr>\n",
       "      <th>0</th>\n",
       "      <td>30145</td>\n",
       "      <td>Man</td>\n",
       "      <td>Nayagarh</td>\n",
       "      <td>Odisha</td>\n",
       "      <td>Jagadish Prasad, Golapokhari-Bhapur Road, Fate...</td>\n",
       "      <td>True</td>\n",
       "      <td>2021-01-31</td>\n",
       "      <td>Delivered</td>\n",
       "      <td>Confirmed</td>\n",
       "      <td>pickrr</td>\n",
       "      <td>[{\"id\": 32, \"pname\": \"One Week Weight-Loss (Pe...</td>\n",
       "      <td>999</td>\n",
       "      <td>2021-02-14</td>\n",
       "      <td>NaT</td>\n",
       "      <td>14.0</td>\n",
       "      <td>NaN</td>\n",
       "    </tr>\n",
       "    <tr>\n",
       "      <th>1</th>\n",
       "      <td>30144</td>\n",
       "      <td>Dik</td>\n",
       "      <td>Thane</td>\n",
       "      <td>Maharashtra</td>\n",
       "      <td>Shanti Garden Sector 4 , flat 401, building 2,...</td>\n",
       "      <td>True</td>\n",
       "      <td>2021-01-31</td>\n",
       "      <td>Delivered</td>\n",
       "      <td>Confirmed</td>\n",
       "      <td>Remarks Not Available</td>\n",
       "      <td>[{\"id\": 23, \"pname\": \"One Week Detox Trial\", \"...</td>\n",
       "      <td>599</td>\n",
       "      <td>2021-02-02</td>\n",
       "      <td>NaT</td>\n",
       "      <td>2.0</td>\n",
       "      <td>NaN</td>\n",
       "    </tr>\n",
       "    <tr>\n",
       "      <th>2</th>\n",
       "      <td>30143</td>\n",
       "      <td>Shi</td>\n",
       "      <td>Bangalore</td>\n",
       "      <td>Karnataka</td>\n",
       "      <td>#280 2nd main 2nd cross, vinobha nagar kg halli</td>\n",
       "      <td>True</td>\n",
       "      <td>2021-01-31</td>\n",
       "      <td>Delivered</td>\n",
       "      <td>Confirmed</td>\n",
       "      <td>On call</td>\n",
       "      <td>[{\"id\": 23, \"pname\": \"One Week Detox Trial\", \"...</td>\n",
       "      <td>599</td>\n",
       "      <td>2021-02-08</td>\n",
       "      <td>NaT</td>\n",
       "      <td>8.0</td>\n",
       "      <td>NaN</td>\n",
       "    </tr>\n",
       "    <tr>\n",
       "      <th>3</th>\n",
       "      <td>30142</td>\n",
       "      <td>Pre</td>\n",
       "      <td>Mumbai</td>\n",
       "      <td>Maharashtra</td>\n",
       "      <td>1404/ Accord Nidhi, above Bikaji, Link Road, M...</td>\n",
       "      <td>True</td>\n",
       "      <td>2021-01-31</td>\n",
       "      <td>Delivered</td>\n",
       "      <td>Confirmed</td>\n",
       "      <td>Script</td>\n",
       "      <td>[{\"id\": 34, \"pname\": \"One Month Weight-Loss (P...</td>\n",
       "      <td>3596</td>\n",
       "      <td>2021-02-09</td>\n",
       "      <td>NaT</td>\n",
       "      <td>9.0</td>\n",
       "      <td>NaN</td>\n",
       "    </tr>\n",
       "    <tr>\n",
       "      <th>4</th>\n",
       "      <td>30138</td>\n",
       "      <td>Dr.</td>\n",
       "      <td>Pauri Garhwal</td>\n",
       "      <td>Uttarakhand</td>\n",
       "      <td>10 am to 3 pm, Please call Before Coming, Room...</td>\n",
       "      <td>True</td>\n",
       "      <td>2021-01-31</td>\n",
       "      <td>Delivered</td>\n",
       "      <td>Confirmed</td>\n",
       "      <td>Script</td>\n",
       "      <td>[{\"id\": 31, \"pname\": \"One Week Weight-Loss (Mi...</td>\n",
       "      <td>999</td>\n",
       "      <td>2021-02-04</td>\n",
       "      <td>NaT</td>\n",
       "      <td>4.0</td>\n",
       "      <td>NaN</td>\n",
       "    </tr>\n",
       "  </tbody>\n",
       "</table>\n",
       "</div>"
      ],
      "text/plain": [
       "      ID Name           City        State  \\\n",
       "0  30145  Man       Nayagarh       Odisha   \n",
       "1  30144  Dik          Thane  Maharashtra   \n",
       "2  30143  Shi      Bangalore    Karnataka   \n",
       "3  30142  Pre         Mumbai  Maharashtra   \n",
       "4  30138  Dr.  Pauri Garhwal  Uttarakhand   \n",
       "\n",
       "                                             Address  isCOD Date Placed  \\\n",
       "0  Jagadish Prasad, Golapokhari-Bhapur Road, Fate...   True  2021-01-31   \n",
       "1  Shanti Garden Sector 4 , flat 401, building 2,...   True  2021-01-31   \n",
       "2    #280 2nd main 2nd cross, vinobha nagar kg halli   True  2021-01-31   \n",
       "3  1404/ Accord Nidhi, above Bikaji, Link Road, M...   True  2021-01-31   \n",
       "4  10 am to 3 pm, Please call Before Coming, Room...   True  2021-01-31   \n",
       "\n",
       "      Status        IVR                Remarks  \\\n",
       "0  Delivered  Confirmed                 pickrr   \n",
       "1  Delivered  Confirmed  Remarks Not Available   \n",
       "2  Delivered  Confirmed                On call   \n",
       "3  Delivered  Confirmed                 Script   \n",
       "4  Delivered  Confirmed                 Script   \n",
       "\n",
       "                                                Cart  Total Date Delivered  \\\n",
       "0  [{\"id\": 32, \"pname\": \"One Week Weight-Loss (Pe...    999     2021-02-14   \n",
       "1  [{\"id\": 23, \"pname\": \"One Week Detox Trial\", \"...    599     2021-02-02   \n",
       "2  [{\"id\": 23, \"pname\": \"One Week Detox Trial\", \"...    599     2021-02-08   \n",
       "3  [{\"id\": 34, \"pname\": \"One Month Weight-Loss (P...   3596     2021-02-09   \n",
       "4  [{\"id\": 31, \"pname\": \"One Week Weight-Loss (Mi...    999     2021-02-04   \n",
       "\n",
       "  Date Returned  Days to Deliver  Days to Return  \n",
       "0           NaT             14.0             NaN  \n",
       "1           NaT              2.0             NaN  \n",
       "2           NaT              8.0             NaN  \n",
       "3           NaT              9.0             NaN  \n",
       "4           NaT              4.0             NaN  "
      ]
     },
     "execution_count": 198,
     "metadata": {},
     "output_type": "execute_result"
    }
   ],
   "source": [
    "df.head()"
   ]
  },
  {
   "cell_type": "code",
   "execution_count": 310,
   "id": "3db3a935",
   "metadata": {},
   "outputs": [
    {
     "data": {
      "text/plain": [
       "<AxesSubplot:>"
      ]
     },
     "execution_count": 310,
     "metadata": {},
     "output_type": "execute_result"
    },
    {
     "data": {
      "image/png": "[encoded data removed]",
      "text/plain": [
       "<Figure size 432x288 with 1 Axes>"
      ]
     },
     "metadata": {},
     "output_type": "display_data"
    }
   ],
   "source": [
    "#Remarks for returned order\n",
    "\n",
    "df_return['Remarks'].value_counts().head(15).plot(kind='bar')"
   ]
  },
  {
   "cell_type": "code",
   "execution_count": 309,
   "id": "6187cab8",
   "metadata": {},
   "outputs": [
    {
     "data": {
      "text/plain": [
       "<AxesSubplot:>"
      ]
     },
     "execution_count": 309,
     "metadata": {},
     "output_type": "execute_result"
    },
    {
     "data": {
      "image/png": "[encoded data removed]",
      "text/plain": [
       "<Figure size 432x288 with 1 Axes>"
      ]
     },
     "metadata": {},
     "output_type": "display_data"
    }
   ],
   "source": [
    "#Remarks for Delivered order\n",
    "\n",
    "df_delivered['Remarks'].value_counts().head(15).plot(kind='bar')"
   ]
  },
  {
   "cell_type": "code",
   "execution_count": 237,
   "id": "0c1a89cc",
   "metadata": {},
   "outputs": [
    {
     "data": {
      "text/plain": [
       "<AxesSubplot:xlabel='Days to Return', ylabel='Count'>"
      ]
     },
     "execution_count": 237,
     "metadata": {},
     "output_type": "execute_result"
    },
    {
     "data": {
      "image/png": "[encoded data removed]",
      "text/plain": [
       "<Figure size 864x432 with 1 Axes>"
      ]
     },
     "metadata": {},
     "output_type": "display_data"
    }
   ],
   "source": [
    "#Days To Return\n",
    "\n",
    "sns.set_style('whitegrid')\n",
    "\n",
    "plt.figure(figsize=(12,6))\n",
    "\n",
    "sns.histplot(df_return['Days to Return'], bins=40)"
   ]
  },
  {
   "cell_type": "code",
   "execution_count": 238,
   "id": "0e36cdc5",
   "metadata": {},
   "outputs": [
    {
     "data": {
      "text/plain": [
       "<AxesSubplot:xlabel='Days to Deliver', ylabel='Count'>"
      ]
     },
     "execution_count": 238,
     "metadata": {},
     "output_type": "execute_result"
    },
    {
     "data": {
      "image/png": "[encoded data removed]",
      "text/plain": [
       "<Figure size 864x432 with 1 Axes>"
      ]
     },
     "metadata": {},
     "output_type": "display_data"
    }
   ],
   "source": [
    "#Days To Deliver\n",
    "\n",
    "plt.figure(figsize=(12,6))\n",
    "\n",
    "sns.histplot(df_delivered['Days to Deliver'], bins=40)"
   ]
  },
  {
   "cell_type": "code",
   "execution_count": 239,
   "id": "218ebd8e",
   "metadata": {},
   "outputs": [
    {
     "data": {
      "text/html": [
       "<div>\n",
       "<style scoped>\n",
       "    .dataframe tbody tr th:only-of-type {\n",
       "        vertical-align: middle;\n",
       "    }\n",
       "\n",
       "    .dataframe tbody tr th {\n",
       "        vertical-align: top;\n",
       "    }\n",
       "\n",
       "    .dataframe thead th {\n",
       "        text-align: right;\n",
       "    }\n",
       "</style>\n",
       "<table border=\"1\" class=\"dataframe\">\n",
       "  <thead>\n",
       "    <tr style=\"text-align: right;\">\n",
       "      <th></th>\n",
       "      <th>ID</th>\n",
       "      <th>Name</th>\n",
       "      <th>City</th>\n",
       "      <th>State</th>\n",
       "      <th>Address</th>\n",
       "      <th>isCOD</th>\n",
       "      <th>Date Placed</th>\n",
       "      <th>Status</th>\n",
       "      <th>IVR</th>\n",
       "      <th>Remarks</th>\n",
       "      <th>Cart</th>\n",
       "      <th>Total</th>\n",
       "      <th>Date Delivered</th>\n",
       "      <th>Date Returned</th>\n",
       "      <th>Days to Deliver</th>\n",
       "      <th>Days to Return</th>\n",
       "    </tr>\n",
       "  </thead>\n",
       "  <tbody>\n",
       "    <tr>\n",
       "      <th>0</th>\n",
       "      <td>30145</td>\n",
       "      <td>Man</td>\n",
       "      <td>Nayagarh</td>\n",
       "      <td>Odisha</td>\n",
       "      <td>Jagadish Prasad, Golapokhari-Bhapur Road, Fate...</td>\n",
       "      <td>True</td>\n",
       "      <td>2021-01-31</td>\n",
       "      <td>Delivered</td>\n",
       "      <td>Confirmed</td>\n",
       "      <td>pickrr</td>\n",
       "      <td>[{\"id\": 32, \"pname\": \"One Week Weight-Loss (Pe...</td>\n",
       "      <td>999</td>\n",
       "      <td>2021-02-14</td>\n",
       "      <td>NaT</td>\n",
       "      <td>14.0</td>\n",
       "      <td>NaN</td>\n",
       "    </tr>\n",
       "    <tr>\n",
       "      <th>1</th>\n",
       "      <td>30144</td>\n",
       "      <td>Dik</td>\n",
       "      <td>Thane</td>\n",
       "      <td>Maharashtra</td>\n",
       "      <td>Shanti Garden Sector 4 , flat 401, building 2,...</td>\n",
       "      <td>True</td>\n",
       "      <td>2021-01-31</td>\n",
       "      <td>Delivered</td>\n",
       "      <td>Confirmed</td>\n",
       "      <td>Remarks Not Available</td>\n",
       "      <td>[{\"id\": 23, \"pname\": \"One Week Detox Trial\", \"...</td>\n",
       "      <td>599</td>\n",
       "      <td>2021-02-02</td>\n",
       "      <td>NaT</td>\n",
       "      <td>2.0</td>\n",
       "      <td>NaN</td>\n",
       "    </tr>\n",
       "    <tr>\n",
       "      <th>2</th>\n",
       "      <td>30143</td>\n",
       "      <td>Shi</td>\n",
       "      <td>Bangalore</td>\n",
       "      <td>Karnataka</td>\n",
       "      <td>#280 2nd main 2nd cross, vinobha nagar kg halli</td>\n",
       "      <td>True</td>\n",
       "      <td>2021-01-31</td>\n",
       "      <td>Delivered</td>\n",
       "      <td>Confirmed</td>\n",
       "      <td>On call</td>\n",
       "      <td>[{\"id\": 23, \"pname\": \"One Week Detox Trial\", \"...</td>\n",
       "      <td>599</td>\n",
       "      <td>2021-02-08</td>\n",
       "      <td>NaT</td>\n",
       "      <td>8.0</td>\n",
       "      <td>NaN</td>\n",
       "    </tr>\n",
       "    <tr>\n",
       "      <th>3</th>\n",
       "      <td>30142</td>\n",
       "      <td>Pre</td>\n",
       "      <td>Mumbai</td>\n",
       "      <td>Maharashtra</td>\n",
       "      <td>1404/ Accord Nidhi, above Bikaji, Link Road, M...</td>\n",
       "      <td>True</td>\n",
       "      <td>2021-01-31</td>\n",
       "      <td>Delivered</td>\n",
       "      <td>Confirmed</td>\n",
       "      <td>Script</td>\n",
       "      <td>[{\"id\": 34, \"pname\": \"One Month Weight-Loss (P...</td>\n",
       "      <td>3596</td>\n",
       "      <td>2021-02-09</td>\n",
       "      <td>NaT</td>\n",
       "      <td>9.0</td>\n",
       "      <td>NaN</td>\n",
       "    </tr>\n",
       "    <tr>\n",
       "      <th>4</th>\n",
       "      <td>30138</td>\n",
       "      <td>Dr.</td>\n",
       "      <td>Pauri Garhwal</td>\n",
       "      <td>Uttarakhand</td>\n",
       "      <td>10 am to 3 pm, Please call Before Coming, Room...</td>\n",
       "      <td>True</td>\n",
       "      <td>2021-01-31</td>\n",
       "      <td>Delivered</td>\n",
       "      <td>Confirmed</td>\n",
       "      <td>Script</td>\n",
       "      <td>[{\"id\": 31, \"pname\": \"One Week Weight-Loss (Mi...</td>\n",
       "      <td>999</td>\n",
       "      <td>2021-02-04</td>\n",
       "      <td>NaT</td>\n",
       "      <td>4.0</td>\n",
       "      <td>NaN</td>\n",
       "    </tr>\n",
       "  </tbody>\n",
       "</table>\n",
       "</div>"
      ],
      "text/plain": [
       "      ID Name           City        State  \\\n",
       "0  30145  Man       Nayagarh       Odisha   \n",
       "1  30144  Dik          Thane  Maharashtra   \n",
       "2  30143  Shi      Bangalore    Karnataka   \n",
       "3  30142  Pre         Mumbai  Maharashtra   \n",
       "4  30138  Dr.  Pauri Garhwal  Uttarakhand   \n",
       "\n",
       "                                             Address  isCOD Date Placed  \\\n",
       "0  Jagadish Prasad, Golapokhari-Bhapur Road, Fate...   True  2021-01-31   \n",
       "1  Shanti Garden Sector 4 , flat 401, building 2,...   True  2021-01-31   \n",
       "2    #280 2nd main 2nd cross, vinobha nagar kg halli   True  2021-01-31   \n",
       "3  1404/ Accord Nidhi, above Bikaji, Link Road, M...   True  2021-01-31   \n",
       "4  10 am to 3 pm, Please call Before Coming, Room...   True  2021-01-31   \n",
       "\n",
       "      Status        IVR                Remarks  \\\n",
       "0  Delivered  Confirmed                 pickrr   \n",
       "1  Delivered  Confirmed  Remarks Not Available   \n",
       "2  Delivered  Confirmed                On call   \n",
       "3  Delivered  Confirmed                 Script   \n",
       "4  Delivered  Confirmed                 Script   \n",
       "\n",
       "                                                Cart  Total Date Delivered  \\\n",
       "0  [{\"id\": 32, \"pname\": \"One Week Weight-Loss (Pe...    999     2021-02-14   \n",
       "1  [{\"id\": 23, \"pname\": \"One Week Detox Trial\", \"...    599     2021-02-02   \n",
       "2  [{\"id\": 23, \"pname\": \"One Week Detox Trial\", \"...    599     2021-02-08   \n",
       "3  [{\"id\": 34, \"pname\": \"One Month Weight-Loss (P...   3596     2021-02-09   \n",
       "4  [{\"id\": 31, \"pname\": \"One Week Weight-Loss (Mi...    999     2021-02-04   \n",
       "\n",
       "  Date Returned  Days to Deliver  Days to Return  \n",
       "0           NaT             14.0             NaN  \n",
       "1           NaT              2.0             NaN  \n",
       "2           NaT              8.0             NaN  \n",
       "3           NaT              9.0             NaN  \n",
       "4           NaT              4.0             NaN  "
      ]
     },
     "execution_count": 239,
     "metadata": {},
     "output_type": "execute_result"
    }
   ],
   "source": [
    "df.head()"
   ]
  },
  {
   "cell_type": "code",
   "execution_count": 249,
   "id": "a229c7bf",
   "metadata": {},
   "outputs": [
    {
     "data": {
      "text/plain": [
       "<AxesSubplot:xlabel='Total', ylabel='Count'>"
      ]
     },
     "execution_count": 249,
     "metadata": {},
     "output_type": "execute_result"
    },
    {
     "data": {
      "image/png": "[encoded data removed]",
      "text/plain": [
       "<Figure size 432x288 with 1 Axes>"
      ]
     },
     "metadata": {},
     "output_type": "display_data"
    }
   ],
   "source": [
    "sns.histplot(df['Total'])"
   ]
  },
  {
   "cell_type": "code",
   "execution_count": 252,
   "id": "b986023f",
   "metadata": {},
   "outputs": [
    {
     "data": {
      "text/plain": [
       "<AxesSubplot:xlabel='Status'>"
      ]
     },
     "execution_count": 252,
     "metadata": {},
     "output_type": "execute_result"
    },
    {
     "data": {
      "image/png": "[encoded data removed]",
      "text/plain": [
       "<Figure size 432x288 with 1 Axes>"
      ]
     },
     "metadata": {},
     "output_type": "display_data"
    }
   ],
   "source": [
    "df1.groupby('Status')['Total'].mean().plot(kind='bar')"
   ]
  },
  {
   "cell_type": "code",
   "execution_count": 256,
   "id": "61df52ab",
   "metadata": {},
   "outputs": [
    {
     "data": {
      "text/html": [
       "<div>\n",
       "<style scoped>\n",
       "    .dataframe tbody tr th:only-of-type {\n",
       "        vertical-align: middle;\n",
       "    }\n",
       "\n",
       "    .dataframe tbody tr th {\n",
       "        vertical-align: top;\n",
       "    }\n",
       "\n",
       "    .dataframe thead th {\n",
       "        text-align: right;\n",
       "    }\n",
       "</style>\n",
       "<table border=\"1\" class=\"dataframe\">\n",
       "  <thead>\n",
       "    <tr style=\"text-align: right;\">\n",
       "      <th></th>\n",
       "      <th>ID</th>\n",
       "      <th>Name</th>\n",
       "      <th>City</th>\n",
       "      <th>State</th>\n",
       "      <th>Address</th>\n",
       "      <th>isCOD</th>\n",
       "      <th>Date Placed</th>\n",
       "      <th>Status</th>\n",
       "      <th>IVR</th>\n",
       "      <th>Remarks</th>\n",
       "      <th>Cart</th>\n",
       "      <th>Total</th>\n",
       "      <th>Date Delivered</th>\n",
       "      <th>Date Returned</th>\n",
       "      <th>Days to Deliver</th>\n",
       "      <th>Days to Return</th>\n",
       "    </tr>\n",
       "  </thead>\n",
       "  <tbody>\n",
       "    <tr>\n",
       "      <th>0</th>\n",
       "      <td>30145</td>\n",
       "      <td>Man</td>\n",
       "      <td>Nayagarh</td>\n",
       "      <td>Odisha</td>\n",
       "      <td>Jagadish Prasad, Golapokhari-Bhapur Road, Fate...</td>\n",
       "      <td>True</td>\n",
       "      <td>2021-01-31</td>\n",
       "      <td>Delivered</td>\n",
       "      <td>Confirmed</td>\n",
       "      <td>pickrr</td>\n",
       "      <td>[{\"id\": 32, \"pname\": \"One Week Weight-Loss (Pe...</td>\n",
       "      <td>999</td>\n",
       "      <td>2021-02-14</td>\n",
       "      <td>NaT</td>\n",
       "      <td>14.0</td>\n",
       "      <td>NaN</td>\n",
       "    </tr>\n",
       "    <tr>\n",
       "      <th>1</th>\n",
       "      <td>30144</td>\n",
       "      <td>Dik</td>\n",
       "      <td>Thane</td>\n",
       "      <td>Maharashtra</td>\n",
       "      <td>Shanti Garden Sector 4 , flat 401, building 2,...</td>\n",
       "      <td>True</td>\n",
       "      <td>2021-01-31</td>\n",
       "      <td>Delivered</td>\n",
       "      <td>Confirmed</td>\n",
       "      <td>Remarks Not Available</td>\n",
       "      <td>[{\"id\": 23, \"pname\": \"One Week Detox Trial\", \"...</td>\n",
       "      <td>599</td>\n",
       "      <td>2021-02-02</td>\n",
       "      <td>NaT</td>\n",
       "      <td>2.0</td>\n",
       "      <td>NaN</td>\n",
       "    </tr>\n",
       "    <tr>\n",
       "      <th>2</th>\n",
       "      <td>30143</td>\n",
       "      <td>Shi</td>\n",
       "      <td>Bangalore</td>\n",
       "      <td>Karnataka</td>\n",
       "      <td>#280 2nd main 2nd cross, vinobha nagar kg halli</td>\n",
       "      <td>True</td>\n",
       "      <td>2021-01-31</td>\n",
       "      <td>Delivered</td>\n",
       "      <td>Confirmed</td>\n",
       "      <td>On call</td>\n",
       "      <td>[{\"id\": 23, \"pname\": \"One Week Detox Trial\", \"...</td>\n",
       "      <td>599</td>\n",
       "      <td>2021-02-08</td>\n",
       "      <td>NaT</td>\n",
       "      <td>8.0</td>\n",
       "      <td>NaN</td>\n",
       "    </tr>\n",
       "    <tr>\n",
       "      <th>3</th>\n",
       "      <td>30142</td>\n",
       "      <td>Pre</td>\n",
       "      <td>Mumbai</td>\n",
       "      <td>Maharashtra</td>\n",
       "      <td>1404/ Accord Nidhi, above Bikaji, Link Road, M...</td>\n",
       "      <td>True</td>\n",
       "      <td>2021-01-31</td>\n",
       "      <td>Delivered</td>\n",
       "      <td>Confirmed</td>\n",
       "      <td>Script</td>\n",
       "      <td>[{\"id\": 34, \"pname\": \"One Month Weight-Loss (P...</td>\n",
       "      <td>3596</td>\n",
       "      <td>2021-02-09</td>\n",
       "      <td>NaT</td>\n",
       "      <td>9.0</td>\n",
       "      <td>NaN</td>\n",
       "    </tr>\n",
       "    <tr>\n",
       "      <th>4</th>\n",
       "      <td>30138</td>\n",
       "      <td>Dr.</td>\n",
       "      <td>Pauri Garhwal</td>\n",
       "      <td>Uttarakhand</td>\n",
       "      <td>10 am to 3 pm, Please call Before Coming, Room...</td>\n",
       "      <td>True</td>\n",
       "      <td>2021-01-31</td>\n",
       "      <td>Delivered</td>\n",
       "      <td>Confirmed</td>\n",
       "      <td>Script</td>\n",
       "      <td>[{\"id\": 31, \"pname\": \"One Week Weight-Loss (Mi...</td>\n",
       "      <td>999</td>\n",
       "      <td>2021-02-04</td>\n",
       "      <td>NaT</td>\n",
       "      <td>4.0</td>\n",
       "      <td>NaN</td>\n",
       "    </tr>\n",
       "  </tbody>\n",
       "</table>\n",
       "</div>"
      ],
      "text/plain": [
       "      ID Name           City        State  \\\n",
       "0  30145  Man       Nayagarh       Odisha   \n",
       "1  30144  Dik          Thane  Maharashtra   \n",
       "2  30143  Shi      Bangalore    Karnataka   \n",
       "3  30142  Pre         Mumbai  Maharashtra   \n",
       "4  30138  Dr.  Pauri Garhwal  Uttarakhand   \n",
       "\n",
       "                                             Address  isCOD Date Placed  \\\n",
       "0  Jagadish Prasad, Golapokhari-Bhapur Road, Fate...   True  2021-01-31   \n",
       "1  Shanti Garden Sector 4 , flat 401, building 2,...   True  2021-01-31   \n",
       "2    #280 2nd main 2nd cross, vinobha nagar kg halli   True  2021-01-31   \n",
       "3  1404/ Accord Nidhi, above Bikaji, Link Road, M...   True  2021-01-31   \n",
       "4  10 am to 3 pm, Please call Before Coming, Room...   True  2021-01-31   \n",
       "\n",
       "      Status        IVR                Remarks  \\\n",
       "0  Delivered  Confirmed                 pickrr   \n",
       "1  Delivered  Confirmed  Remarks Not Available   \n",
       "2  Delivered  Confirmed                On call   \n",
       "3  Delivered  Confirmed                 Script   \n",
       "4  Delivered  Confirmed                 Script   \n",
       "\n",
       "                                                Cart  Total Date Delivered  \\\n",
       "0  [{\"id\": 32, \"pname\": \"One Week Weight-Loss (Pe...    999     2021-02-14   \n",
       "1  [{\"id\": 23, \"pname\": \"One Week Detox Trial\", \"...    599     2021-02-02   \n",
       "2  [{\"id\": 23, \"pname\": \"One Week Detox Trial\", \"...    599     2021-02-08   \n",
       "3  [{\"id\": 34, \"pname\": \"One Month Weight-Loss (P...   3596     2021-02-09   \n",
       "4  [{\"id\": 31, \"pname\": \"One Week Weight-Loss (Mi...    999     2021-02-04   \n",
       "\n",
       "  Date Returned  Days to Deliver  Days to Return  \n",
       "0           NaT             14.0             NaN  \n",
       "1           NaT              2.0             NaN  \n",
       "2           NaT              8.0             NaN  \n",
       "3           NaT              9.0             NaN  \n",
       "4           NaT              4.0             NaN  "
      ]
     },
     "execution_count": 256,
     "metadata": {},
     "output_type": "execute_result"
    }
   ],
   "source": [
    "df.head()"
   ]
  },
  {
   "cell_type": "code",
   "execution_count": 271,
   "id": "8fab5acf",
   "metadata": {},
   "outputs": [
    {
     "data": {
      "text/plain": [
       "Text(0.5, 0, 'Total Price for Returned Products')"
      ]
     },
     "execution_count": 271,
     "metadata": {},
     "output_type": "execute_result"
    },
    {
     "data": {
      "image/png": "[encoded data removed]",
      "text/plain": [
       "<Figure size 864x432 with 1 Axes>"
      ]
     },
     "metadata": {},
     "output_type": "display_data"
    }
   ],
   "source": [
    "#Total Price distribution for the Returns\n",
    "\n",
    "plt.figure(figsize=(12,6))\n",
    "sns.histplot(df_return['Total'],bins=35)\n",
    "plt.xlabel('Total Price for Returned Products')"
   ]
  },
  {
   "cell_type": "code",
   "execution_count": 273,
   "id": "b2f965c8",
   "metadata": {},
   "outputs": [
    {
     "data": {
      "text/plain": [
       "Text(0.5, 0, 'Total Price for Delivered Products')"
      ]
     },
     "execution_count": 273,
     "metadata": {},
     "output_type": "execute_result"
    },
    {
     "data": {
      "image/png": "[encoded data removed]",
      "text/plain": [
       "<Figure size 864x432 with 1 Axes>"
      ]
     },
     "metadata": {},
     "output_type": "display_data"
    }
   ],
   "source": [
    "#Total Price distribution for the Delivered\n",
    "\n",
    "plt.figure(figsize=(12,6))\n",
    "\n",
    "sns.histplot(df_delivered['Total'],bins=35)\n",
    "plt.xlabel('Total Price for Delivered Products')"
   ]
  },
  {
   "cell_type": "code",
   "execution_count": 300,
   "id": "92f886ea",
   "metadata": {},
   "outputs": [
    {
     "data": {
      "text/html": [
       "<div>\n",
       "<style scoped>\n",
       "    .dataframe tbody tr th:only-of-type {\n",
       "        vertical-align: middle;\n",
       "    }\n",
       "\n",
       "    .dataframe tbody tr th {\n",
       "        vertical-align: top;\n",
       "    }\n",
       "\n",
       "    .dataframe thead th {\n",
       "        text-align: right;\n",
       "    }\n",
       "</style>\n",
       "<table border=\"1\" class=\"dataframe\">\n",
       "  <thead>\n",
       "    <tr style=\"text-align: right;\">\n",
       "      <th></th>\n",
       "      <th>Total</th>\n",
       "      <th>Count</th>\n",
       "    </tr>\n",
       "  </thead>\n",
       "  <tbody>\n",
       "    <tr>\n",
       "      <th>0</th>\n",
       "      <td>999</td>\n",
       "      <td>310</td>\n",
       "    </tr>\n",
       "    <tr>\n",
       "      <th>1</th>\n",
       "      <td>3596</td>\n",
       "      <td>195</td>\n",
       "    </tr>\n",
       "    <tr>\n",
       "      <th>2</th>\n",
       "      <td>599</td>\n",
       "      <td>140</td>\n",
       "    </tr>\n",
       "    <tr>\n",
       "      <th>3</th>\n",
       "      <td>3417</td>\n",
       "      <td>124</td>\n",
       "    </tr>\n",
       "    <tr>\n",
       "      <th>4</th>\n",
       "      <td>950</td>\n",
       "      <td>111</td>\n",
       "    </tr>\n",
       "    <tr>\n",
       "      <th>5</th>\n",
       "      <td>570</td>\n",
       "      <td>52</td>\n",
       "    </tr>\n",
       "    <tr>\n",
       "      <th>6</th>\n",
       "      <td>759</td>\n",
       "      <td>51</td>\n",
       "    </tr>\n",
       "    <tr>\n",
       "      <th>7</th>\n",
       "      <td>2156</td>\n",
       "      <td>50</td>\n",
       "    </tr>\n",
       "    <tr>\n",
       "      <th>8</th>\n",
       "      <td>2876</td>\n",
       "      <td>45</td>\n",
       "    </tr>\n",
       "    <tr>\n",
       "      <th>9</th>\n",
       "      <td>2733</td>\n",
       "      <td>44</td>\n",
       "    </tr>\n",
       "  </tbody>\n",
       "</table>\n",
       "</div>"
      ],
      "text/plain": [
       "   Total  Count\n",
       "0    999    310\n",
       "1   3596    195\n",
       "2    599    140\n",
       "3   3417    124\n",
       "4    950    111\n",
       "5    570     52\n",
       "6    759     51\n",
       "7   2156     50\n",
       "8   2876     45\n",
       "9   2733     44"
      ]
     },
     "execution_count": 300,
     "metadata": {},
     "output_type": "execute_result"
    }
   ],
   "source": [
    "\n",
    "#plt.figure(figsize=(12,6)\n",
    "\n",
    "df_price = pd.DataFrame(df['Total'].value_counts().head(10)).reset_index()\n",
    "df_price.columns={'Total','Count'}\n",
    "df_price\n",
    "\n",
    "#sns.countplot(df_price['Total'])"
   ]
  },
  {
   "cell_type": "code",
   "execution_count": 296,
   "id": "2ff7daf6",
   "metadata": {},
   "outputs": [
    {
     "data": {
      "text/plain": [
       "RangeIndex(start=0, stop=10, step=1)"
      ]
     },
     "execution_count": 296,
     "metadata": {},
     "output_type": "execute_result"
    }
   ],
   "source": [
    "df_price.index"
   ]
  },
  {
   "cell_type": "code",
   "execution_count": null,
   "id": "808f59c0",
   "metadata": {},
   "outputs": [],
   "source": []
  },
  {
   "cell_type": "code",
   "execution_count": 304,
   "id": "60e55f59",
   "metadata": {},
   "outputs": [
    {
     "data": {
      "text/plain": [
       "Confirmed    1499\n",
       "Converted      91\n",
       "Name: IVR, dtype: int64"
      ]
     },
     "execution_count": 304,
     "metadata": {},
     "output_type": "execute_result"
    }
   ],
   "source": [
    "df['IVR'].value_counts()"
   ]
  },
  {
   "cell_type": "code",
   "execution_count": 306,
   "id": "96b9a48e",
   "metadata": {},
   "outputs": [
    {
     "name": "stderr",
     "output_type": "stream",
     "text": [
      "C:\\Users\\ashwa\\Anaconda3\\lib\\site-packages\\seaborn\\_decorators.py:36: FutureWarning: Pass the following variable as a keyword arg: x. From version 0.12, the only valid positional argument will be `data`, and passing other arguments without an explicit keyword will result in an error or misinterpretation.\n",
      "  warnings.warn(\n"
     ]
    },
    {
     "data": {
      "text/plain": [
       "<AxesSubplot:xlabel='isCOD', ylabel='count'>"
      ]
     },
     "execution_count": 306,
     "metadata": {},
     "output_type": "execute_result"
    },
    {
     "data": {
      "image/png": "[encoded data removed]",
      "text/plain": [
       "<Figure size 432x288 with 1 Axes>"
      ]
     },
     "metadata": {},
     "output_type": "display_data"
    }
   ],
   "source": [
    "sns.countplot(df['isCOD'], hue= df['IVR'])"
   ]
  },
  {
   "cell_type": "code",
   "execution_count": 307,
   "id": "7df55861",
   "metadata": {},
   "outputs": [
    {
     "name": "stderr",
     "output_type": "stream",
     "text": [
      "C:\\Users\\ashwa\\Anaconda3\\lib\\site-packages\\seaborn\\_decorators.py:36: FutureWarning: Pass the following variable as a keyword arg: x. From version 0.12, the only valid positional argument will be `data`, and passing other arguments without an explicit keyword will result in an error or misinterpretation.\n",
      "  warnings.warn(\n"
     ]
    },
    {
     "data": {
      "text/plain": [
       "<AxesSubplot:xlabel='Status', ylabel='count'>"
      ]
     },
     "execution_count": 307,
     "metadata": {},
     "output_type": "execute_result"
    },
    {
     "data": {
      "image/png": "[encoded data removed]",
      "text/plain": [
       "<Figure size 432x288 with 1 Axes>"
      ]
     },
     "metadata": {},
     "output_type": "display_data"
    }
   ],
   "source": [
    "sns.countplot(df['Status'], hue= df['IVR'])"
   ]
  },
  {
   "cell_type": "code",
   "execution_count": 311,
   "id": "4208803d",
   "metadata": {},
   "outputs": [
    {
     "name": "stderr",
     "output_type": "stream",
     "text": [
      "C:\\Users\\ashwa\\Anaconda3\\lib\\site-packages\\seaborn\\_decorators.py:36: FutureWarning: Pass the following variable as a keyword arg: x. From version 0.12, the only valid positional argument will be `data`, and passing other arguments without an explicit keyword will result in an error or misinterpretation.\n",
      "  warnings.warn(\n"
     ]
    },
    {
     "data": {
      "text/plain": [
       "<AxesSubplot:xlabel='IVR', ylabel='count'>"
      ]
     },
     "execution_count": 311,
     "metadata": {},
     "output_type": "execute_result"
    },
    {
     "data": {
      "image/png": "[encoded data removed]",
      "text/plain": [
       "<Figure size 432x288 with 1 Axes>"
      ]
     },
     "metadata": {},
     "output_type": "display_data"
    }
   ],
   "source": [
    "sns.countplot(df['IVR'], hue= df['Status'])"
   ]
  },
  {
   "cell_type": "code",
   "execution_count": 312,
   "id": "3dc0b025",
   "metadata": {},
   "outputs": [],
   "source": [
    "#Total And Cart thing needs to be analyzed"
   ]
  },
  {
   "cell_type": "code",
   "execution_count": 313,
   "id": "97c8e7b0",
   "metadata": {},
   "outputs": [
    {
     "name": "stdout",
     "output_type": "stream",
     "text": [
      "Collecting dill\n",
      "  Downloading dill-0.3.4-py2.py3-none-any.whl (86 kB)\n",
      "Installing collected packages: dill\n",
      "Successfully installed dill-0.3.4\n",
      "Note: you may need to restart the kernel to use updated packages.\n"
     ]
    }
   ],
   "source": [
    "pip install dill"
   ]
  },
  {
   "cell_type": "code",
   "execution_count": 314,
   "id": "f7350c89",
   "metadata": {},
   "outputs": [],
   "source": [
    "import dill\n",
    "dill.dump_session('notebook_env.db')"
   ]
  },
  {
   "cell_type": "code",
   "execution_count": 2,
   "id": "37d58ba4",
   "metadata": {},
   "outputs": [],
   "source": [
    "import dill\n",
    "dill.load_session('notebook_env.db')"
   ]
  },
  {
   "cell_type": "code",
   "execution_count": 3,
   "id": "52ede398",
   "metadata": {},
   "outputs": [
    {
     "data": {
      "text/html": [
       "<div>\n",
       "<style scoped>\n",
       "    .dataframe tbody tr th:only-of-type {\n",
       "        vertical-align: middle;\n",
       "    }\n",
       "\n",
       "    .dataframe tbody tr th {\n",
       "        vertical-align: top;\n",
       "    }\n",
       "\n",
       "    .dataframe thead th {\n",
       "        text-align: right;\n",
       "    }\n",
       "</style>\n",
       "<table border=\"1\" class=\"dataframe\">\n",
       "  <thead>\n",
       "    <tr style=\"text-align: right;\">\n",
       "      <th></th>\n",
       "      <th>ID</th>\n",
       "      <th>Name</th>\n",
       "      <th>City</th>\n",
       "      <th>State</th>\n",
       "      <th>Address</th>\n",
       "      <th>isCOD</th>\n",
       "      <th>Date Placed</th>\n",
       "      <th>Status</th>\n",
       "      <th>IVR</th>\n",
       "      <th>Remarks</th>\n",
       "      <th>Cart</th>\n",
       "      <th>Total</th>\n",
       "      <th>Date Delivered</th>\n",
       "      <th>Date Returned</th>\n",
       "      <th>Days to Deliver</th>\n",
       "      <th>Days to Return</th>\n",
       "    </tr>\n",
       "  </thead>\n",
       "  <tbody>\n",
       "    <tr>\n",
       "      <th>0</th>\n",
       "      <td>30145</td>\n",
       "      <td>Man</td>\n",
       "      <td>Nayagarh</td>\n",
       "      <td>Odisha</td>\n",
       "      <td>Jagadish Prasad, Golapokhari-Bhapur Road, Fate...</td>\n",
       "      <td>True</td>\n",
       "      <td>2021-01-31</td>\n",
       "      <td>Delivered</td>\n",
       "      <td>Confirmed</td>\n",
       "      <td>pickrr</td>\n",
       "      <td>[{\"id\": 32, \"pname\": \"One Week Weight-Loss (Pe...</td>\n",
       "      <td>999</td>\n",
       "      <td>2021-02-14</td>\n",
       "      <td>NaT</td>\n",
       "      <td>14.0</td>\n",
       "      <td>NaN</td>\n",
       "    </tr>\n",
       "    <tr>\n",
       "      <th>1</th>\n",
       "      <td>30144</td>\n",
       "      <td>Dik</td>\n",
       "      <td>Thane</td>\n",
       "      <td>Maharashtra</td>\n",
       "      <td>Shanti Garden Sector 4 , flat 401, building 2,...</td>\n",
       "      <td>True</td>\n",
       "      <td>2021-01-31</td>\n",
       "      <td>Delivered</td>\n",
       "      <td>Confirmed</td>\n",
       "      <td>Remarks Not Available</td>\n",
       "      <td>[{\"id\": 23, \"pname\": \"One Week Detox Trial\", \"...</td>\n",
       "      <td>599</td>\n",
       "      <td>2021-02-02</td>\n",
       "      <td>NaT</td>\n",
       "      <td>2.0</td>\n",
       "      <td>NaN</td>\n",
       "    </tr>\n",
       "    <tr>\n",
       "      <th>2</th>\n",
       "      <td>30143</td>\n",
       "      <td>Shi</td>\n",
       "      <td>Bangalore</td>\n",
       "      <td>Karnataka</td>\n",
       "      <td>#280 2nd main 2nd cross, vinobha nagar kg halli</td>\n",
       "      <td>True</td>\n",
       "      <td>2021-01-31</td>\n",
       "      <td>Delivered</td>\n",
       "      <td>Confirmed</td>\n",
       "      <td>On call</td>\n",
       "      <td>[{\"id\": 23, \"pname\": \"One Week Detox Trial\", \"...</td>\n",
       "      <td>599</td>\n",
       "      <td>2021-02-08</td>\n",
       "      <td>NaT</td>\n",
       "      <td>8.0</td>\n",
       "      <td>NaN</td>\n",
       "    </tr>\n",
       "    <tr>\n",
       "      <th>3</th>\n",
       "      <td>30142</td>\n",
       "      <td>Pre</td>\n",
       "      <td>Mumbai</td>\n",
       "      <td>Maharashtra</td>\n",
       "      <td>1404/ Accord Nidhi, above Bikaji, Link Road, M...</td>\n",
       "      <td>True</td>\n",
       "      <td>2021-01-31</td>\n",
       "      <td>Delivered</td>\n",
       "      <td>Confirmed</td>\n",
       "      <td>Script</td>\n",
       "      <td>[{\"id\": 34, \"pname\": \"One Month Weight-Loss (P...</td>\n",
       "      <td>3596</td>\n",
       "      <td>2021-02-09</td>\n",
       "      <td>NaT</td>\n",
       "      <td>9.0</td>\n",
       "      <td>NaN</td>\n",
       "    </tr>\n",
       "    <tr>\n",
       "      <th>4</th>\n",
       "      <td>30138</td>\n",
       "      <td>Dr.</td>\n",
       "      <td>Pauri Garhwal</td>\n",
       "      <td>Uttarakhand</td>\n",
       "      <td>10 am to 3 pm, Please call Before Coming, Room...</td>\n",
       "      <td>True</td>\n",
       "      <td>2021-01-31</td>\n",
       "      <td>Delivered</td>\n",
       "      <td>Confirmed</td>\n",
       "      <td>Script</td>\n",
       "      <td>[{\"id\": 31, \"pname\": \"One Week Weight-Loss (Mi...</td>\n",
       "      <td>999</td>\n",
       "      <td>2021-02-04</td>\n",
       "      <td>NaT</td>\n",
       "      <td>4.0</td>\n",
       "      <td>NaN</td>\n",
       "    </tr>\n",
       "  </tbody>\n",
       "</table>\n",
       "</div>"
      ],
      "text/plain": [
       "      ID Name           City        State  \\\n",
       "0  30145  Man       Nayagarh       Odisha   \n",
       "1  30144  Dik          Thane  Maharashtra   \n",
       "2  30143  Shi      Bangalore    Karnataka   \n",
       "3  30142  Pre         Mumbai  Maharashtra   \n",
       "4  30138  Dr.  Pauri Garhwal  Uttarakhand   \n",
       "\n",
       "                                             Address  isCOD Date Placed  \\\n",
       "0  Jagadish Prasad, Golapokhari-Bhapur Road, Fate...   True  2021-01-31   \n",
       "1  Shanti Garden Sector 4 , flat 401, building 2,...   True  2021-01-31   \n",
       "2    #280 2nd main 2nd cross, vinobha nagar kg halli   True  2021-01-31   \n",
       "3  1404/ Accord Nidhi, above Bikaji, Link Road, M...   True  2021-01-31   \n",
       "4  10 am to 3 pm, Please call Before Coming, Room...   True  2021-01-31   \n",
       "\n",
       "      Status        IVR                Remarks  \\\n",
       "0  Delivered  Confirmed                 pickrr   \n",
       "1  Delivered  Confirmed  Remarks Not Available   \n",
       "2  Delivered  Confirmed                On call   \n",
       "3  Delivered  Confirmed                 Script   \n",
       "4  Delivered  Confirmed                 Script   \n",
       "\n",
       "                                                Cart  Total Date Delivered  \\\n",
       "0  [{\"id\": 32, \"pname\": \"One Week Weight-Loss (Pe...    999     2021-02-14   \n",
       "1  [{\"id\": 23, \"pname\": \"One Week Detox Trial\", \"...    599     2021-02-02   \n",
       "2  [{\"id\": 23, \"pname\": \"One Week Detox Trial\", \"...    599     2021-02-08   \n",
       "3  [{\"id\": 34, \"pname\": \"One Month Weight-Loss (P...   3596     2021-02-09   \n",
       "4  [{\"id\": 31, \"pname\": \"One Week Weight-Loss (Mi...    999     2021-02-04   \n",
       "\n",
       "  Date Returned  Days to Deliver  Days to Return  \n",
       "0           NaT             14.0             NaN  \n",
       "1           NaT              2.0             NaN  \n",
       "2           NaT              8.0             NaN  \n",
       "3           NaT              9.0             NaN  \n",
       "4           NaT              4.0             NaN  "
      ]
     },
     "execution_count": 3,
     "metadata": {},
     "output_type": "execute_result"
    }
   ],
   "source": [
    "df.head()"
   ]
  },
  {
   "cell_type": "code",
   "execution_count": 4,
   "id": "dd71e0e9",
   "metadata": {},
   "outputs": [
    {
     "data": {
      "text/plain": [
       "ID                    0\n",
       "Name                  0\n",
       "City                  4\n",
       "State                 4\n",
       "Address               0\n",
       "isCOD                 0\n",
       "Date Placed           0\n",
       "Status                0\n",
       "IVR                   0\n",
       "Remarks               0\n",
       "Cart                  0\n",
       "Total                 0\n",
       "Date Delivered      189\n",
       "Date Returned      1403\n",
       "Days to Deliver     189\n",
       "Days to Return     1403\n",
       "dtype: int64"
      ]
     },
     "execution_count": 4,
     "metadata": {},
     "output_type": "execute_result"
    }
   ],
   "source": [
    "df.isnull().sum()"
   ]
  },
  {
   "cell_type": "code",
   "execution_count": 5,
   "id": "921f93a1",
   "metadata": {},
   "outputs": [
    {
     "data": {
      "text/plain": [
       "ID                0\n",
       "Name              0\n",
       "City              0\n",
       "State             0\n",
       "Address           0\n",
       "isCOD             0\n",
       "Date Placed       0\n",
       "Status            0\n",
       "IVR               0\n",
       "Remarks           0\n",
       "Cart              0\n",
       "Total             0\n",
       "Date Returned     2\n",
       "Days to Return    2\n",
       "dtype: int64"
      ]
     },
     "execution_count": 5,
     "metadata": {},
     "output_type": "execute_result"
    }
   ],
   "source": [
    "df_return.isnull().sum()"
   ]
  },
  {
   "cell_type": "code",
   "execution_count": 6,
   "id": "b4dc5917",
   "metadata": {},
   "outputs": [
    {
     "data": {
      "text/html": [
       "<div>\n",
       "<style scoped>\n",
       "    .dataframe tbody tr th:only-of-type {\n",
       "        vertical-align: middle;\n",
       "    }\n",
       "\n",
       "    .dataframe tbody tr th {\n",
       "        vertical-align: top;\n",
       "    }\n",
       "\n",
       "    .dataframe thead th {\n",
       "        text-align: right;\n",
       "    }\n",
       "</style>\n",
       "<table border=\"1\" class=\"dataframe\">\n",
       "  <thead>\n",
       "    <tr style=\"text-align: right;\">\n",
       "      <th></th>\n",
       "      <th>ID</th>\n",
       "      <th>Name</th>\n",
       "      <th>City</th>\n",
       "      <th>State</th>\n",
       "      <th>Address</th>\n",
       "      <th>isCOD</th>\n",
       "      <th>Date Placed</th>\n",
       "      <th>Status</th>\n",
       "      <th>IVR</th>\n",
       "      <th>Remarks</th>\n",
       "      <th>Cart</th>\n",
       "      <th>Total</th>\n",
       "      <th>Date Delivered</th>\n",
       "      <th>Date Returned</th>\n",
       "      <th>Days to Deliver</th>\n",
       "      <th>Days to Return</th>\n",
       "    </tr>\n",
       "  </thead>\n",
       "  <tbody>\n",
       "    <tr>\n",
       "      <th>0</th>\n",
       "      <td>30145</td>\n",
       "      <td>Man</td>\n",
       "      <td>Nayagarh</td>\n",
       "      <td>Odisha</td>\n",
       "      <td>Jagadish Prasad, Golapokhari-Bhapur Road, Fate...</td>\n",
       "      <td>True</td>\n",
       "      <td>2021-01-31</td>\n",
       "      <td>Delivered</td>\n",
       "      <td>Confirmed</td>\n",
       "      <td>pickrr</td>\n",
       "      <td>[{\"id\": 32, \"pname\": \"One Week Weight-Loss (Pe...</td>\n",
       "      <td>999</td>\n",
       "      <td>2021-02-14</td>\n",
       "      <td>NaT</td>\n",
       "      <td>14.0</td>\n",
       "      <td>NaN</td>\n",
       "    </tr>\n",
       "    <tr>\n",
       "      <th>1</th>\n",
       "      <td>30144</td>\n",
       "      <td>Dik</td>\n",
       "      <td>Thane</td>\n",
       "      <td>Maharashtra</td>\n",
       "      <td>Shanti Garden Sector 4 , flat 401, building 2,...</td>\n",
       "      <td>True</td>\n",
       "      <td>2021-01-31</td>\n",
       "      <td>Delivered</td>\n",
       "      <td>Confirmed</td>\n",
       "      <td>Remarks Not Available</td>\n",
       "      <td>[{\"id\": 23, \"pname\": \"One Week Detox Trial\", \"...</td>\n",
       "      <td>599</td>\n",
       "      <td>2021-02-02</td>\n",
       "      <td>NaT</td>\n",
       "      <td>2.0</td>\n",
       "      <td>NaN</td>\n",
       "    </tr>\n",
       "    <tr>\n",
       "      <th>2</th>\n",
       "      <td>30143</td>\n",
       "      <td>Shi</td>\n",
       "      <td>Bangalore</td>\n",
       "      <td>Karnataka</td>\n",
       "      <td>#280 2nd main 2nd cross, vinobha nagar kg halli</td>\n",
       "      <td>True</td>\n",
       "      <td>2021-01-31</td>\n",
       "      <td>Delivered</td>\n",
       "      <td>Confirmed</td>\n",
       "      <td>On call</td>\n",
       "      <td>[{\"id\": 23, \"pname\": \"One Week Detox Trial\", \"...</td>\n",
       "      <td>599</td>\n",
       "      <td>2021-02-08</td>\n",
       "      <td>NaT</td>\n",
       "      <td>8.0</td>\n",
       "      <td>NaN</td>\n",
       "    </tr>\n",
       "    <tr>\n",
       "      <th>3</th>\n",
       "      <td>30142</td>\n",
       "      <td>Pre</td>\n",
       "      <td>Mumbai</td>\n",
       "      <td>Maharashtra</td>\n",
       "      <td>1404/ Accord Nidhi, above Bikaji, Link Road, M...</td>\n",
       "      <td>True</td>\n",
       "      <td>2021-01-31</td>\n",
       "      <td>Delivered</td>\n",
       "      <td>Confirmed</td>\n",
       "      <td>Script</td>\n",
       "      <td>[{\"id\": 34, \"pname\": \"One Month Weight-Loss (P...</td>\n",
       "      <td>3596</td>\n",
       "      <td>2021-02-09</td>\n",
       "      <td>NaT</td>\n",
       "      <td>9.0</td>\n",
       "      <td>NaN</td>\n",
       "    </tr>\n",
       "    <tr>\n",
       "      <th>4</th>\n",
       "      <td>30138</td>\n",
       "      <td>Dr.</td>\n",
       "      <td>Pauri Garhwal</td>\n",
       "      <td>Uttarakhand</td>\n",
       "      <td>10 am to 3 pm, Please call Before Coming, Room...</td>\n",
       "      <td>True</td>\n",
       "      <td>2021-01-31</td>\n",
       "      <td>Delivered</td>\n",
       "      <td>Confirmed</td>\n",
       "      <td>Script</td>\n",
       "      <td>[{\"id\": 31, \"pname\": \"One Week Weight-Loss (Mi...</td>\n",
       "      <td>999</td>\n",
       "      <td>2021-02-04</td>\n",
       "      <td>NaT</td>\n",
       "      <td>4.0</td>\n",
       "      <td>NaN</td>\n",
       "    </tr>\n",
       "  </tbody>\n",
       "</table>\n",
       "</div>"
      ],
      "text/plain": [
       "      ID Name           City        State  \\\n",
       "0  30145  Man       Nayagarh       Odisha   \n",
       "1  30144  Dik          Thane  Maharashtra   \n",
       "2  30143  Shi      Bangalore    Karnataka   \n",
       "3  30142  Pre         Mumbai  Maharashtra   \n",
       "4  30138  Dr.  Pauri Garhwal  Uttarakhand   \n",
       "\n",
       "                                             Address  isCOD Date Placed  \\\n",
       "0  Jagadish Prasad, Golapokhari-Bhapur Road, Fate...   True  2021-01-31   \n",
       "1  Shanti Garden Sector 4 , flat 401, building 2,...   True  2021-01-31   \n",
       "2    #280 2nd main 2nd cross, vinobha nagar kg halli   True  2021-01-31   \n",
       "3  1404/ Accord Nidhi, above Bikaji, Link Road, M...   True  2021-01-31   \n",
       "4  10 am to 3 pm, Please call Before Coming, Room...   True  2021-01-31   \n",
       "\n",
       "      Status        IVR                Remarks  \\\n",
       "0  Delivered  Confirmed                 pickrr   \n",
       "1  Delivered  Confirmed  Remarks Not Available   \n",
       "2  Delivered  Confirmed                On call   \n",
       "3  Delivered  Confirmed                 Script   \n",
       "4  Delivered  Confirmed                 Script   \n",
       "\n",
       "                                                Cart  Total Date Delivered  \\\n",
       "0  [{\"id\": 32, \"pname\": \"One Week Weight-Loss (Pe...    999     2021-02-14   \n",
       "1  [{\"id\": 23, \"pname\": \"One Week Detox Trial\", \"...    599     2021-02-02   \n",
       "2  [{\"id\": 23, \"pname\": \"One Week Detox Trial\", \"...    599     2021-02-08   \n",
       "3  [{\"id\": 34, \"pname\": \"One Month Weight-Loss (P...   3596     2021-02-09   \n",
       "4  [{\"id\": 31, \"pname\": \"One Week Weight-Loss (Mi...    999     2021-02-04   \n",
       "\n",
       "  Date Returned  Days to Deliver  Days to Return  \n",
       "0           NaT             14.0             NaN  \n",
       "1           NaT              2.0             NaN  \n",
       "2           NaT              8.0             NaN  \n",
       "3           NaT              9.0             NaN  \n",
       "4           NaT              4.0             NaN  "
      ]
     },
     "execution_count": 6,
     "metadata": {},
     "output_type": "execute_result"
    }
   ],
   "source": [
    "df.head()"
   ]
  },
  {
   "cell_type": "code",
   "execution_count": 8,
   "id": "ae87f4e4",
   "metadata": {},
   "outputs": [
    {
     "data": {
      "text/plain": [
       "101"
      ]
     },
     "execution_count": 8,
     "metadata": {},
     "output_type": "execute_result"
    }
   ],
   "source": [
    "df['Cart'].nunique()"
   ]
  },
  {
   "cell_type": "code",
   "execution_count": 14,
   "id": "8a54b00b",
   "metadata": {},
   "outputs": [
    {
     "data": {
      "text/plain": [
       "[{\"id\": 34, \"pname\": \"One Month Weight-Loss (Peach)\", \"category\": \"WL\", \"price\": 3596, \"quantity\": 2}]    189\n",
       "[{\"id\": 31, \"pname\": \"One Week Weight-Loss (Mint)\", \"category\": \"WL\", \"price\": 999, \"quantity\": 2}]       184\n",
       "[{\"id\": 32, \"pname\": \"One Week Weight-Loss (Peach)\", \"category\": \"WL\", \"price\": 999, \"quantity\": 2}]      184\n",
       "[{\"id\": 23, \"pname\": \"One Week Detox Trial\", \"category\": \"D\", \"price\": 599, \"quantity\": 2}]               165\n",
       "[{\"id\": 33, \"pname\": \"One Month Weight-Loss (Mint)\", \"category\": \"WL\", \"price\": 3596, \"quantity\": 2}]     114\n",
       "[{\"id\": 24, \"pname\": \"One Month Detox\", \"category\": \"D\", \"price\": 2156, \"quantity\": 2}]                    85\n",
       "[{\"id\": 23, \"pname\": \"One Week Detox Trial\", \"category\": \"D\", \"price\": 599, \"quantity\": 1}]                61\n",
       "[{\"id\": 32, \"pname\": \"One Week Weight-Loss (Peach)\", \"category\": \"WL\", \"price\": 999, \"quantity\": 1}]       60\n",
       "[{\"id\": 34, \"pname\": \"One Month Weight-Loss (Peach)\", \"category\": \"WL\", \"price\": 3596, \"quantity\": 1}]     59\n",
       "[{\"id\": 51, \"pname\": \"One Week Keto Booster\", \"category\": \"K\", \"price\": 759, \"quantity\": 2}]               54\n",
       "[{\"id\": 33, \"pname\": \"One Month Weight-Loss (Mint)\", \"category\": \"WL\", \"price\": 3596, \"quantity\": 1}]      52\n",
       "[{\"id\": 31, \"pname\": \"One Week Weight-Loss (Mint)\", \"category\": \"WL\", \"price\": 999, \"quantity\": 1}]        43\n",
       "[{\"id\": 51, \"pname\": \"One Week Keto Booster\", \"category\": \"K\", \"price\": 759, \"quantity\": 1}]               33\n",
       "[{\"id\": 24, \"pname\": \"One Month Detox\", \"category\": \"D\", \"price\": 2156, \"quantity\": 1}]                    33\n",
       "[{\"id\": 52, \"pname\": \"One Month Keto Booster\", \"category\": \"K\", \"price\": 2716, \"quantity\": 2}]             20\n",
       "Name: Cart, dtype: int64"
      ]
     },
     "execution_count": 14,
     "metadata": {},
     "output_type": "execute_result"
    }
   ],
   "source": [
    "df['Cart'].value_counts().head(15)"
   ]
  },
  {
   "cell_type": "code",
   "execution_count": 11,
   "id": "52aa2c41",
   "metadata": {},
   "outputs": [
    {
     "data": {
      "text/plain": [
       "28"
      ]
     },
     "execution_count": 11,
     "metadata": {},
     "output_type": "execute_result"
    }
   ],
   "source": [
    "df_return['Cart'].nunique()"
   ]
  },
  {
   "cell_type": "code",
   "execution_count": 13,
   "id": "370d3aad",
   "metadata": {},
   "outputs": [
    {
     "data": {
      "text/plain": [
       "[{\"id\": 31, \"pname\": \"One Week Weight-Loss (Mint)\", \"category\": \"WL\", \"price\": 999, \"quantity\": 2}]       34\n",
       "[{\"id\": 32, \"pname\": \"One Week Weight-Loss (Peach)\", \"category\": \"WL\", \"price\": 999, \"quantity\": 2}]      28\n",
       "[{\"id\": 34, \"pname\": \"One Month Weight-Loss (Peach)\", \"category\": \"WL\", \"price\": 3596, \"quantity\": 2}]    23\n",
       "[{\"id\": 23, \"pname\": \"One Week Detox Trial\", \"category\": \"D\", \"price\": 599, \"quantity\": 2}]               23\n",
       "[{\"id\": 32, \"pname\": \"One Week Weight-Loss (Peach)\", \"category\": \"WL\", \"price\": 999, \"quantity\": 1}]      11\n",
       "[{\"id\": 34, \"pname\": \"One Month Weight-Loss (Peach)\", \"category\": \"WL\", \"price\": 3596, \"quantity\": 1}]     9\n",
       "[{\"id\": 33, \"pname\": \"One Month Weight-Loss (Mint)\", \"category\": \"WL\", \"price\": 3596, \"quantity\": 2}]      9\n",
       "[{\"id\": 23, \"pname\": \"One Week Detox Trial\", \"category\": \"D\", \"price\": 599, \"quantity\": 1}]                7\n",
       "[{\"id\": 51, \"pname\": \"One Week Keto Booster\", \"category\": \"K\", \"price\": 759, \"quantity\": 2}]               7\n",
       "[{\"id\": 31, \"pname\": \"One Week Weight-Loss (Mint)\", \"category\": \"WL\", \"price\": 999, \"quantity\": 1}]        6\n",
       "Name: Cart, dtype: int64"
      ]
     },
     "execution_count": 13,
     "metadata": {},
     "output_type": "execute_result"
    }
   ],
   "source": [
    "df_return['Cart'].value_counts().head(10)"
   ]
  },
  {
   "cell_type": "code",
   "execution_count": 15,
   "id": "ddd4a88a",
   "metadata": {},
   "outputs": [],
   "source": [
    "st = '[{\"id\": 34, \"pname\": \"One Month Weight-Loss (Peach)\", \"category\": \"WL\", \"price\": 3596, \"quantity\": 2}]'"
   ]
  },
  {
   "cell_type": "code",
   "execution_count": 23,
   "id": "37f98379",
   "metadata": {},
   "outputs": [],
   "source": [
    "def split(x):\n",
    "    x = x.split(',')[0].split(':')[1].strip()\n",
    "    return x"
   ]
  },
  {
   "cell_type": "code",
   "execution_count": 25,
   "id": "cd5eeb5c",
   "metadata": {},
   "outputs": [],
   "source": [
    "df1['PId'] = df1['Cart'].apply(split)"
   ]
  },
  {
   "cell_type": "code",
   "execution_count": 28,
   "id": "09ebcd60",
   "metadata": {},
   "outputs": [
    {
     "data": {
      "text/plain": [
       "dtype('O')"
      ]
     },
     "execution_count": 28,
     "metadata": {},
     "output_type": "execute_result"
    }
   ],
   "source": [
    "df1['PId'].dtype"
   ]
  },
  {
   "cell_type": "code",
   "execution_count": 29,
   "id": "c2e66767",
   "metadata": {},
   "outputs": [],
   "source": [
    "st = '[{\"id\": 34, \"pname\": \"One Month Weight-Loss (Peach)\", \"category\": \"WL\", \"price\": 3596, \"quantity\": 2}]'"
   ]
  },
  {
   "cell_type": "code",
   "execution_count": 38,
   "id": "1766cc2e",
   "metadata": {},
   "outputs": [],
   "source": [
    "def split2(x):\n",
    "    x= x.split(',')[2].split(':')[1].strip().split('\"')[1]\n",
    "    return x"
   ]
  },
  {
   "cell_type": "code",
   "execution_count": 40,
   "id": "7e187702",
   "metadata": {},
   "outputs": [],
   "source": [
    "df1['Cart_Catg'] = df1['Cart'].apply(split2)"
   ]
  },
  {
   "cell_type": "code",
   "execution_count": 41,
   "id": "e208748d",
   "metadata": {},
   "outputs": [
    {
     "data": {
      "text/html": [
       "<div>\n",
       "<style scoped>\n",
       "    .dataframe tbody tr th:only-of-type {\n",
       "        vertical-align: middle;\n",
       "    }\n",
       "\n",
       "    .dataframe tbody tr th {\n",
       "        vertical-align: top;\n",
       "    }\n",
       "\n",
       "    .dataframe thead th {\n",
       "        text-align: right;\n",
       "    }\n",
       "</style>\n",
       "<table border=\"1\" class=\"dataframe\">\n",
       "  <thead>\n",
       "    <tr style=\"text-align: right;\">\n",
       "      <th></th>\n",
       "      <th>ID</th>\n",
       "      <th>Name</th>\n",
       "      <th>City</th>\n",
       "      <th>State</th>\n",
       "      <th>Address</th>\n",
       "      <th>isCOD</th>\n",
       "      <th>Date Placed</th>\n",
       "      <th>Status</th>\n",
       "      <th>IVR</th>\n",
       "      <th>Remarks</th>\n",
       "      <th>Cart</th>\n",
       "      <th>Total</th>\n",
       "      <th>Date Delivered</th>\n",
       "      <th>Date Returned</th>\n",
       "      <th>Days to Deliver</th>\n",
       "      <th>Days to Return</th>\n",
       "      <th>PId</th>\n",
       "      <th>Cart_Catg</th>\n",
       "    </tr>\n",
       "  </thead>\n",
       "  <tbody>\n",
       "    <tr>\n",
       "      <th>0</th>\n",
       "      <td>30145</td>\n",
       "      <td>Man</td>\n",
       "      <td>Nayagarh</td>\n",
       "      <td>Odisha</td>\n",
       "      <td>Jagadish Prasad, Golapokhari-Bhapur Road, Fate...</td>\n",
       "      <td>True</td>\n",
       "      <td>2021-01-31</td>\n",
       "      <td>Delivered</td>\n",
       "      <td>Confirmed</td>\n",
       "      <td>pickrr</td>\n",
       "      <td>[{\"id\": 32, \"pname\": \"One Week Weight-Loss (Pe...</td>\n",
       "      <td>999</td>\n",
       "      <td>2021-02-14</td>\n",
       "      <td>NaT</td>\n",
       "      <td>14.0</td>\n",
       "      <td>NaN</td>\n",
       "      <td>32</td>\n",
       "      <td>WL</td>\n",
       "    </tr>\n",
       "    <tr>\n",
       "      <th>1</th>\n",
       "      <td>30144</td>\n",
       "      <td>Dik</td>\n",
       "      <td>Thane</td>\n",
       "      <td>Maharashtra</td>\n",
       "      <td>Shanti Garden Sector 4 , flat 401, building 2,...</td>\n",
       "      <td>True</td>\n",
       "      <td>2021-01-31</td>\n",
       "      <td>Delivered</td>\n",
       "      <td>Confirmed</td>\n",
       "      <td>Remarks Not Available</td>\n",
       "      <td>[{\"id\": 23, \"pname\": \"One Week Detox Trial\", \"...</td>\n",
       "      <td>599</td>\n",
       "      <td>2021-02-02</td>\n",
       "      <td>NaT</td>\n",
       "      <td>2.0</td>\n",
       "      <td>NaN</td>\n",
       "      <td>23</td>\n",
       "      <td>D</td>\n",
       "    </tr>\n",
       "    <tr>\n",
       "      <th>2</th>\n",
       "      <td>30143</td>\n",
       "      <td>Shi</td>\n",
       "      <td>Bangalore</td>\n",
       "      <td>Karnataka</td>\n",
       "      <td>#280 2nd main 2nd cross, vinobha nagar kg halli</td>\n",
       "      <td>True</td>\n",
       "      <td>2021-01-31</td>\n",
       "      <td>Delivered</td>\n",
       "      <td>Confirmed</td>\n",
       "      <td>On call</td>\n",
       "      <td>[{\"id\": 23, \"pname\": \"One Week Detox Trial\", \"...</td>\n",
       "      <td>599</td>\n",
       "      <td>2021-02-08</td>\n",
       "      <td>NaT</td>\n",
       "      <td>8.0</td>\n",
       "      <td>NaN</td>\n",
       "      <td>23</td>\n",
       "      <td>D</td>\n",
       "    </tr>\n",
       "    <tr>\n",
       "      <th>3</th>\n",
       "      <td>30142</td>\n",
       "      <td>Pre</td>\n",
       "      <td>Mumbai</td>\n",
       "      <td>Maharashtra</td>\n",
       "      <td>1404/ Accord Nidhi, above Bikaji, Link Road, M...</td>\n",
       "      <td>True</td>\n",
       "      <td>2021-01-31</td>\n",
       "      <td>Delivered</td>\n",
       "      <td>Confirmed</td>\n",
       "      <td>Script</td>\n",
       "      <td>[{\"id\": 34, \"pname\": \"One Month Weight-Loss (P...</td>\n",
       "      <td>3596</td>\n",
       "      <td>2021-02-09</td>\n",
       "      <td>NaT</td>\n",
       "      <td>9.0</td>\n",
       "      <td>NaN</td>\n",
       "      <td>34</td>\n",
       "      <td>WL</td>\n",
       "    </tr>\n",
       "    <tr>\n",
       "      <th>4</th>\n",
       "      <td>30138</td>\n",
       "      <td>Dr.</td>\n",
       "      <td>Pauri Garhwal</td>\n",
       "      <td>Uttarakhand</td>\n",
       "      <td>10 am to 3 pm, Please call Before Coming, Room...</td>\n",
       "      <td>True</td>\n",
       "      <td>2021-01-31</td>\n",
       "      <td>Delivered</td>\n",
       "      <td>Confirmed</td>\n",
       "      <td>Script</td>\n",
       "      <td>[{\"id\": 31, \"pname\": \"One Week Weight-Loss (Mi...</td>\n",
       "      <td>999</td>\n",
       "      <td>2021-02-04</td>\n",
       "      <td>NaT</td>\n",
       "      <td>4.0</td>\n",
       "      <td>NaN</td>\n",
       "      <td>31</td>\n",
       "      <td>WL</td>\n",
       "    </tr>\n",
       "  </tbody>\n",
       "</table>\n",
       "</div>"
      ],
      "text/plain": [
       "      ID Name           City        State  \\\n",
       "0  30145  Man       Nayagarh       Odisha   \n",
       "1  30144  Dik          Thane  Maharashtra   \n",
       "2  30143  Shi      Bangalore    Karnataka   \n",
       "3  30142  Pre         Mumbai  Maharashtra   \n",
       "4  30138  Dr.  Pauri Garhwal  Uttarakhand   \n",
       "\n",
       "                                             Address  isCOD Date Placed  \\\n",
       "0  Jagadish Prasad, Golapokhari-Bhapur Road, Fate...   True  2021-01-31   \n",
       "1  Shanti Garden Sector 4 , flat 401, building 2,...   True  2021-01-31   \n",
       "2    #280 2nd main 2nd cross, vinobha nagar kg halli   True  2021-01-31   \n",
       "3  1404/ Accord Nidhi, above Bikaji, Link Road, M...   True  2021-01-31   \n",
       "4  10 am to 3 pm, Please call Before Coming, Room...   True  2021-01-31   \n",
       "\n",
       "      Status        IVR                Remarks  \\\n",
       "0  Delivered  Confirmed                 pickrr   \n",
       "1  Delivered  Confirmed  Remarks Not Available   \n",
       "2  Delivered  Confirmed                On call   \n",
       "3  Delivered  Confirmed                 Script   \n",
       "4  Delivered  Confirmed                 Script   \n",
       "\n",
       "                                                Cart  Total Date Delivered  \\\n",
       "0  [{\"id\": 32, \"pname\": \"One Week Weight-Loss (Pe...    999     2021-02-14   \n",
       "1  [{\"id\": 23, \"pname\": \"One Week Detox Trial\", \"...    599     2021-02-02   \n",
       "2  [{\"id\": 23, \"pname\": \"One Week Detox Trial\", \"...    599     2021-02-08   \n",
       "3  [{\"id\": 34, \"pname\": \"One Month Weight-Loss (P...   3596     2021-02-09   \n",
       "4  [{\"id\": 31, \"pname\": \"One Week Weight-Loss (Mi...    999     2021-02-04   \n",
       "\n",
       "  Date Returned  Days to Deliver  Days to Return PId Cart_Catg  \n",
       "0           NaT             14.0             NaN  32        WL  \n",
       "1           NaT              2.0             NaN  23         D  \n",
       "2           NaT              8.0             NaN  23         D  \n",
       "3           NaT              9.0             NaN  34        WL  \n",
       "4           NaT              4.0             NaN  31        WL  "
      ]
     },
     "execution_count": 41,
     "metadata": {},
     "output_type": "execute_result"
    }
   ],
   "source": [
    "df1.head()"
   ]
  },
  {
   "cell_type": "code",
   "execution_count": 49,
   "id": "4a0a9d2e",
   "metadata": {},
   "outputs": [],
   "source": [
    "df['PId'] = df['Cart'].apply(split)\n",
    "df['Cart_Catg'] = df['Cart'].apply(split2)"
   ]
  },
  {
   "cell_type": "code",
   "execution_count": 50,
   "id": "08f75df6",
   "metadata": {},
   "outputs": [],
   "source": [
    "df_return['PId'] = df_return['Cart'].apply(split)\n",
    "df_return['Cart_Catg'] = df_return['Cart'].apply(split2)"
   ]
  },
  {
   "cell_type": "code",
   "execution_count": 51,
   "id": "d30e30e4",
   "metadata": {},
   "outputs": [],
   "source": [
    "df_delivered['PId'] = df_delivered['Cart'].apply(split)\n",
    "df_delivered['Cart_Catg'] = df_delivered['Cart'].apply(split2)"
   ]
  },
  {
   "cell_type": "code",
   "execution_count": 52,
   "id": "32636b31",
   "metadata": {},
   "outputs": [
    {
     "data": {
      "text/html": [
       "<div>\n",
       "<style scoped>\n",
       "    .dataframe tbody tr th:only-of-type {\n",
       "        vertical-align: middle;\n",
       "    }\n",
       "\n",
       "    .dataframe tbody tr th {\n",
       "        vertical-align: top;\n",
       "    }\n",
       "\n",
       "    .dataframe thead th {\n",
       "        text-align: right;\n",
       "    }\n",
       "</style>\n",
       "<table border=\"1\" class=\"dataframe\">\n",
       "  <thead>\n",
       "    <tr style=\"text-align: right;\">\n",
       "      <th></th>\n",
       "      <th>ID</th>\n",
       "      <th>Name</th>\n",
       "      <th>City</th>\n",
       "      <th>State</th>\n",
       "      <th>Address</th>\n",
       "      <th>isCOD</th>\n",
       "      <th>Date Placed</th>\n",
       "      <th>Status</th>\n",
       "      <th>IVR</th>\n",
       "      <th>Remarks</th>\n",
       "      <th>Cart</th>\n",
       "      <th>Total</th>\n",
       "      <th>Date Delivered</th>\n",
       "      <th>Date Returned</th>\n",
       "      <th>Days to Deliver</th>\n",
       "      <th>Days to Return</th>\n",
       "      <th>PId</th>\n",
       "      <th>Cart_Catg</th>\n",
       "    </tr>\n",
       "  </thead>\n",
       "  <tbody>\n",
       "    <tr>\n",
       "      <th>0</th>\n",
       "      <td>30145</td>\n",
       "      <td>Man</td>\n",
       "      <td>Nayagarh</td>\n",
       "      <td>Odisha</td>\n",
       "      <td>Jagadish Prasad, Golapokhari-Bhapur Road, Fate...</td>\n",
       "      <td>True</td>\n",
       "      <td>2021-01-31</td>\n",
       "      <td>Delivered</td>\n",
       "      <td>Confirmed</td>\n",
       "      <td>pickrr</td>\n",
       "      <td>[{\"id\": 32, \"pname\": \"One Week Weight-Loss (Pe...</td>\n",
       "      <td>999</td>\n",
       "      <td>2021-02-14</td>\n",
       "      <td>NaT</td>\n",
       "      <td>14.0</td>\n",
       "      <td>NaN</td>\n",
       "      <td>32</td>\n",
       "      <td>WL</td>\n",
       "    </tr>\n",
       "    <tr>\n",
       "      <th>1</th>\n",
       "      <td>30144</td>\n",
       "      <td>Dik</td>\n",
       "      <td>Thane</td>\n",
       "      <td>Maharashtra</td>\n",
       "      <td>Shanti Garden Sector 4 , flat 401, building 2,...</td>\n",
       "      <td>True</td>\n",
       "      <td>2021-01-31</td>\n",
       "      <td>Delivered</td>\n",
       "      <td>Confirmed</td>\n",
       "      <td>Remarks Not Available</td>\n",
       "      <td>[{\"id\": 23, \"pname\": \"One Week Detox Trial\", \"...</td>\n",
       "      <td>599</td>\n",
       "      <td>2021-02-02</td>\n",
       "      <td>NaT</td>\n",
       "      <td>2.0</td>\n",
       "      <td>NaN</td>\n",
       "      <td>23</td>\n",
       "      <td>D</td>\n",
       "    </tr>\n",
       "    <tr>\n",
       "      <th>2</th>\n",
       "      <td>30143</td>\n",
       "      <td>Shi</td>\n",
       "      <td>Bangalore</td>\n",
       "      <td>Karnataka</td>\n",
       "      <td>#280 2nd main 2nd cross, vinobha nagar kg halli</td>\n",
       "      <td>True</td>\n",
       "      <td>2021-01-31</td>\n",
       "      <td>Delivered</td>\n",
       "      <td>Confirmed</td>\n",
       "      <td>On call</td>\n",
       "      <td>[{\"id\": 23, \"pname\": \"One Week Detox Trial\", \"...</td>\n",
       "      <td>599</td>\n",
       "      <td>2021-02-08</td>\n",
       "      <td>NaT</td>\n",
       "      <td>8.0</td>\n",
       "      <td>NaN</td>\n",
       "      <td>23</td>\n",
       "      <td>D</td>\n",
       "    </tr>\n",
       "    <tr>\n",
       "      <th>3</th>\n",
       "      <td>30142</td>\n",
       "      <td>Pre</td>\n",
       "      <td>Mumbai</td>\n",
       "      <td>Maharashtra</td>\n",
       "      <td>1404/ Accord Nidhi, above Bikaji, Link Road, M...</td>\n",
       "      <td>True</td>\n",
       "      <td>2021-01-31</td>\n",
       "      <td>Delivered</td>\n",
       "      <td>Confirmed</td>\n",
       "      <td>Script</td>\n",
       "      <td>[{\"id\": 34, \"pname\": \"One Month Weight-Loss (P...</td>\n",
       "      <td>3596</td>\n",
       "      <td>2021-02-09</td>\n",
       "      <td>NaT</td>\n",
       "      <td>9.0</td>\n",
       "      <td>NaN</td>\n",
       "      <td>34</td>\n",
       "      <td>WL</td>\n",
       "    </tr>\n",
       "    <tr>\n",
       "      <th>4</th>\n",
       "      <td>30138</td>\n",
       "      <td>Dr.</td>\n",
       "      <td>Pauri Garhwal</td>\n",
       "      <td>Uttarakhand</td>\n",
       "      <td>10 am to 3 pm, Please call Before Coming, Room...</td>\n",
       "      <td>True</td>\n",
       "      <td>2021-01-31</td>\n",
       "      <td>Delivered</td>\n",
       "      <td>Confirmed</td>\n",
       "      <td>Script</td>\n",
       "      <td>[{\"id\": 31, \"pname\": \"One Week Weight-Loss (Mi...</td>\n",
       "      <td>999</td>\n",
       "      <td>2021-02-04</td>\n",
       "      <td>NaT</td>\n",
       "      <td>4.0</td>\n",
       "      <td>NaN</td>\n",
       "      <td>31</td>\n",
       "      <td>WL</td>\n",
       "    </tr>\n",
       "  </tbody>\n",
       "</table>\n",
       "</div>"
      ],
      "text/plain": [
       "      ID Name           City        State  \\\n",
       "0  30145  Man       Nayagarh       Odisha   \n",
       "1  30144  Dik          Thane  Maharashtra   \n",
       "2  30143  Shi      Bangalore    Karnataka   \n",
       "3  30142  Pre         Mumbai  Maharashtra   \n",
       "4  30138  Dr.  Pauri Garhwal  Uttarakhand   \n",
       "\n",
       "                                             Address  isCOD Date Placed  \\\n",
       "0  Jagadish Prasad, Golapokhari-Bhapur Road, Fate...   True  2021-01-31   \n",
       "1  Shanti Garden Sector 4 , flat 401, building 2,...   True  2021-01-31   \n",
       "2    #280 2nd main 2nd cross, vinobha nagar kg halli   True  2021-01-31   \n",
       "3  1404/ Accord Nidhi, above Bikaji, Link Road, M...   True  2021-01-31   \n",
       "4  10 am to 3 pm, Please call Before Coming, Room...   True  2021-01-31   \n",
       "\n",
       "      Status        IVR                Remarks  \\\n",
       "0  Delivered  Confirmed                 pickrr   \n",
       "1  Delivered  Confirmed  Remarks Not Available   \n",
       "2  Delivered  Confirmed                On call   \n",
       "3  Delivered  Confirmed                 Script   \n",
       "4  Delivered  Confirmed                 Script   \n",
       "\n",
       "                                                Cart  Total Date Delivered  \\\n",
       "0  [{\"id\": 32, \"pname\": \"One Week Weight-Loss (Pe...    999     2021-02-14   \n",
       "1  [{\"id\": 23, \"pname\": \"One Week Detox Trial\", \"...    599     2021-02-02   \n",
       "2  [{\"id\": 23, \"pname\": \"One Week Detox Trial\", \"...    599     2021-02-08   \n",
       "3  [{\"id\": 34, \"pname\": \"One Month Weight-Loss (P...   3596     2021-02-09   \n",
       "4  [{\"id\": 31, \"pname\": \"One Week Weight-Loss (Mi...    999     2021-02-04   \n",
       "\n",
       "  Date Returned  Days to Deliver  Days to Return PId Cart_Catg  \n",
       "0           NaT             14.0             NaN  32        WL  \n",
       "1           NaT              2.0             NaN  23         D  \n",
       "2           NaT              8.0             NaN  23         D  \n",
       "3           NaT              9.0             NaN  34        WL  \n",
       "4           NaT              4.0             NaN  31        WL  "
      ]
     },
     "execution_count": 52,
     "metadata": {},
     "output_type": "execute_result"
    }
   ],
   "source": [
    "df.head()"
   ]
  },
  {
   "cell_type": "code",
   "execution_count": 53,
   "id": "f283a60d",
   "metadata": {},
   "outputs": [
    {
     "data": {
      "text/html": [
       "<div>\n",
       "<style scoped>\n",
       "    .dataframe tbody tr th:only-of-type {\n",
       "        vertical-align: middle;\n",
       "    }\n",
       "\n",
       "    .dataframe tbody tr th {\n",
       "        vertical-align: top;\n",
       "    }\n",
       "\n",
       "    .dataframe thead th {\n",
       "        text-align: right;\n",
       "    }\n",
       "</style>\n",
       "<table border=\"1\" class=\"dataframe\">\n",
       "  <thead>\n",
       "    <tr style=\"text-align: right;\">\n",
       "      <th></th>\n",
       "      <th>ID</th>\n",
       "      <th>Name</th>\n",
       "      <th>City</th>\n",
       "      <th>State</th>\n",
       "      <th>Address</th>\n",
       "      <th>isCOD</th>\n",
       "      <th>Date Placed</th>\n",
       "      <th>Status</th>\n",
       "      <th>IVR</th>\n",
       "      <th>Remarks</th>\n",
       "      <th>Cart</th>\n",
       "      <th>Total</th>\n",
       "      <th>Date Returned</th>\n",
       "      <th>Days to Return</th>\n",
       "      <th>PId</th>\n",
       "      <th>Cart_Catg</th>\n",
       "    </tr>\n",
       "  </thead>\n",
       "  <tbody>\n",
       "    <tr>\n",
       "      <th>9</th>\n",
       "      <td>30132</td>\n",
       "      <td>Mad</td>\n",
       "      <td>Thane</td>\n",
       "      <td>Maharashtra</td>\n",
       "      <td>C 204 shrikrishna sadan , mumbra Devi Colony R...</td>\n",
       "      <td>True</td>\n",
       "      <td>2021-01-31</td>\n",
       "      <td>Returned</td>\n",
       "      <td>Confirmed</td>\n",
       "      <td>Will order next month</td>\n",
       "      <td>[{\"id\": 24, \"pname\": \"One Month Detox\", \"categ...</td>\n",
       "      <td>2156</td>\n",
       "      <td>2021-02-13</td>\n",
       "      <td>13.0</td>\n",
       "      <td>24</td>\n",
       "      <td>D</td>\n",
       "    </tr>\n",
       "    <tr>\n",
       "      <th>10</th>\n",
       "      <td>30131</td>\n",
       "      <td>Hee</td>\n",
       "      <td>Rajsamand</td>\n",
       "      <td>Rajasthan</td>\n",
       "      <td>Reti mholaa kakaroli waad no 33</td>\n",
       "      <td>True</td>\n",
       "      <td>2021-01-31</td>\n",
       "      <td>Returned</td>\n",
       "      <td>Confirmed</td>\n",
       "      <td>DPU 2</td>\n",
       "      <td>[{\"id\": 32, \"pname\": \"One Week Weight-Loss (Pe...</td>\n",
       "      <td>999</td>\n",
       "      <td>2021-02-08</td>\n",
       "      <td>8.0</td>\n",
       "      <td>32</td>\n",
       "      <td>WL</td>\n",
       "    </tr>\n",
       "    <tr>\n",
       "      <th>17</th>\n",
       "      <td>30123</td>\n",
       "      <td>Vic</td>\n",
       "      <td>Ludhiana</td>\n",
       "      <td>Punjab</td>\n",
       "      <td>Barewal Awana Near magnet road mahavir enclave</td>\n",
       "      <td>True</td>\n",
       "      <td>2021-01-31</td>\n",
       "      <td>Returned</td>\n",
       "      <td>Confirmed</td>\n",
       "      <td>DPU 4</td>\n",
       "      <td>[{\"id\": 34, \"pname\": \"One Month Weight-Loss (P...</td>\n",
       "      <td>3596</td>\n",
       "      <td>2021-02-13</td>\n",
       "      <td>13.0</td>\n",
       "      <td>34</td>\n",
       "      <td>WL</td>\n",
       "    </tr>\n",
       "    <tr>\n",
       "      <th>35</th>\n",
       "      <td>30085</td>\n",
       "      <td>Bas</td>\n",
       "      <td>Visakhapatnam</td>\n",
       "      <td>Andhra Pradesh</td>\n",
       "      <td>24-71-1,mig-46,samatha nagar colony,pedagatyad...</td>\n",
       "      <td>True</td>\n",
       "      <td>2021-01-31</td>\n",
       "      <td>Returned</td>\n",
       "      <td>Confirmed</td>\n",
       "      <td>on call</td>\n",
       "      <td>[{\"id\": 31, \"pname\": \"One Week Weight-Loss (Mi...</td>\n",
       "      <td>999</td>\n",
       "      <td>2021-02-08</td>\n",
       "      <td>8.0</td>\n",
       "      <td>31</td>\n",
       "      <td>WL</td>\n",
       "    </tr>\n",
       "    <tr>\n",
       "      <th>55</th>\n",
       "      <td>30047</td>\n",
       "      <td>Rin</td>\n",
       "      <td>Mandsaur</td>\n",
       "      <td>Madhya Pradesh</td>\n",
       "      <td>Bhatuni Shree Ram mandir</td>\n",
       "      <td>True</td>\n",
       "      <td>2021-01-30</td>\n",
       "      <td>Returned</td>\n",
       "      <td>Confirmed</td>\n",
       "      <td>Customer Refused</td>\n",
       "      <td>[{\"id\": 34, \"pname\": \"One Month Weight-Loss (P...</td>\n",
       "      <td>3596</td>\n",
       "      <td>2021-02-20</td>\n",
       "      <td>21.0</td>\n",
       "      <td>34</td>\n",
       "      <td>WL</td>\n",
       "    </tr>\n",
       "  </tbody>\n",
       "</table>\n",
       "</div>"
      ],
      "text/plain": [
       "       ID Name           City           State  \\\n",
       "9   30132  Mad          Thane     Maharashtra   \n",
       "10  30131  Hee      Rajsamand       Rajasthan   \n",
       "17  30123  Vic       Ludhiana          Punjab   \n",
       "35  30085  Bas  Visakhapatnam  Andhra Pradesh   \n",
       "55  30047  Rin       Mandsaur  Madhya Pradesh   \n",
       "\n",
       "                                              Address  isCOD Date Placed  \\\n",
       "9   C 204 shrikrishna sadan , mumbra Devi Colony R...   True  2021-01-31   \n",
       "10                    Reti mholaa kakaroli waad no 33   True  2021-01-31   \n",
       "17     Barewal Awana Near magnet road mahavir enclave   True  2021-01-31   \n",
       "35  24-71-1,mig-46,samatha nagar colony,pedagatyad...   True  2021-01-31   \n",
       "55                           Bhatuni Shree Ram mandir   True  2021-01-30   \n",
       "\n",
       "      Status        IVR                Remarks  \\\n",
       "9   Returned  Confirmed  Will order next month   \n",
       "10  Returned  Confirmed                  DPU 2   \n",
       "17  Returned  Confirmed                  DPU 4   \n",
       "35  Returned  Confirmed                on call   \n",
       "55  Returned  Confirmed       Customer Refused   \n",
       "\n",
       "                                                 Cart  Total Date Returned  \\\n",
       "9   [{\"id\": 24, \"pname\": \"One Month Detox\", \"categ...   2156    2021-02-13   \n",
       "10  [{\"id\": 32, \"pname\": \"One Week Weight-Loss (Pe...    999    2021-02-08   \n",
       "17  [{\"id\": 34, \"pname\": \"One Month Weight-Loss (P...   3596    2021-02-13   \n",
       "35  [{\"id\": 31, \"pname\": \"One Week Weight-Loss (Mi...    999    2021-02-08   \n",
       "55  [{\"id\": 34, \"pname\": \"One Month Weight-Loss (P...   3596    2021-02-20   \n",
       "\n",
       "    Days to Return PId Cart_Catg  \n",
       "9             13.0  24         D  \n",
       "10             8.0  32        WL  \n",
       "17            13.0  34        WL  \n",
       "35             8.0  31        WL  \n",
       "55            21.0  34        WL  "
      ]
     },
     "execution_count": 53,
     "metadata": {},
     "output_type": "execute_result"
    }
   ],
   "source": [
    "df_return.head()"
   ]
  },
  {
   "cell_type": "code",
   "execution_count": 54,
   "id": "d0ea9c69",
   "metadata": {},
   "outputs": [
    {
     "data": {
      "text/plain": [
       "32      277\n",
       "23      262\n",
       "31      261\n",
       "34      252\n",
       "33      182\n",
       "24      125\n",
       "51      101\n",
       "11       33\n",
       "52       28\n",
       "\"32\"     20\n",
       "\"34\"     10\n",
       "\"23\"      8\n",
       "41        8\n",
       "\"31\"      5\n",
       "91        4\n",
       "\"33\"      4\n",
       "\"11\"      3\n",
       "42        2\n",
       "\"42\"      1\n",
       "\"51\"      1\n",
       "101       1\n",
       "\"52\"      1\n",
       "92        1\n",
       "Name: PId, dtype: int64"
      ]
     },
     "execution_count": 54,
     "metadata": {},
     "output_type": "execute_result"
    }
   ],
   "source": [
    "df['PId'].value_counts()"
   ]
  },
  {
   "cell_type": "code",
   "execution_count": 63,
   "id": "55fa8071",
   "metadata": {},
   "outputs": [],
   "source": [
    "df['Pid'] = df['PId'].replace({\"32\": 32, \"34\":34, \"23\":23,\"31\":31,\"11\":11,\"42\":42,\"51\":51, \"52\":52})"
   ]
  },
  {
   "cell_type": "code",
   "execution_count": 64,
   "id": "d0f0b51e",
   "metadata": {},
   "outputs": [
    {
     "data": {
      "text/plain": [
       "32      277\n",
       "23      262\n",
       "31      261\n",
       "34      252\n",
       "33      182\n",
       "24      125\n",
       "51      101\n",
       "11       33\n",
       "52       28\n",
       "\"32\"     20\n",
       "\"34\"     10\n",
       "\"23\"      8\n",
       "41        8\n",
       "\"31\"      5\n",
       "91        4\n",
       "\"33\"      4\n",
       "\"11\"      3\n",
       "42        2\n",
       "\"42\"      1\n",
       "\"51\"      1\n",
       "101       1\n",
       "\"52\"      1\n",
       "92        1\n",
       "Name: PId, dtype: int64"
      ]
     },
     "execution_count": 64,
     "metadata": {},
     "output_type": "execute_result"
    }
   ],
   "source": [
    "df['PId'].value_counts()"
   ]
  },
  {
   "cell_type": "code",
   "execution_count": null,
   "id": "3fa42753",
   "metadata": {},
   "outputs": [],
   "source": []
  },
  {
   "cell_type": "code",
   "execution_count": 77,
   "id": "38a14785",
   "metadata": {},
   "outputs": [
    {
     "data": {
      "text/plain": [
       "Text(0.5, 0, 'Overall PIds')"
      ]
     },
     "execution_count": 77,
     "metadata": {},
     "output_type": "execute_result"
    },
    {
     "data": {
      "image/png": "[encoded data removed]",
      "text/plain": [
       "<Figure size 432x288 with 1 Axes>"
      ]
     },
     "metadata": {
      "needs_background": "light"
     },
     "output_type": "display_data"
    }
   ],
   "source": [
    "df['PId'].value_counts().plot(kind='bar')\n",
    "plt.xlabel('Overall PIds')"
   ]
  },
  {
   "cell_type": "code",
   "execution_count": 72,
   "id": "0ee5b7ee",
   "metadata": {},
   "outputs": [
    {
     "data": {
      "text/plain": [
       "31      43\n",
       "32      42\n",
       "34      32\n",
       "23      32\n",
       "33      15\n",
       "51      11\n",
       "24       8\n",
       "11       2\n",
       "52       2\n",
       "\"23\"     1\n",
       "92       1\n",
       "Name: PId, dtype: int64"
      ]
     },
     "execution_count": 72,
     "metadata": {},
     "output_type": "execute_result"
    }
   ],
   "source": [
    "df_return['PId'].value_counts()"
   ]
  },
  {
   "cell_type": "code",
   "execution_count": 76,
   "id": "17ce0a70",
   "metadata": {},
   "outputs": [
    {
     "data": {
      "text/plain": [
       "Text(0.5, 0, 'PIds for Returned')"
      ]
     },
     "execution_count": 76,
     "metadata": {},
     "output_type": "execute_result"
    },
    {
     "data": {
      "image/png": "[encoded data removed]",
      "text/plain": [
       "<Figure size 432x288 with 1 Axes>"
      ]
     },
     "metadata": {
      "needs_background": "light"
     },
     "output_type": "display_data"
    }
   ],
   "source": [
    "df_return['PId'].value_counts().plot(kind='bar')\n",
    "plt.xlabel('PIds for Returned')"
   ]
  },
  {
   "cell_type": "code",
   "execution_count": 78,
   "id": "70dbc7c9",
   "metadata": {},
   "outputs": [
    {
     "data": {
      "text/plain": [
       "Text(0.5, 0, 'PIds for Delivered')"
      ]
     },
     "execution_count": 78,
     "metadata": {},
     "output_type": "execute_result"
    },
    {
     "data": {
      "image/png": "[encoded data removed]",
      "text/plain": [
       "<Figure size 432x288 with 1 Axes>"
      ]
     },
     "metadata": {
      "needs_background": "light"
     },
     "output_type": "display_data"
    }
   ],
   "source": [
    "df_delivered['PId'].value_counts().plot(kind='bar')\n",
    "plt.xlabel('PIds for Delivered')"
   ]
  },
  {
   "cell_type": "code",
   "execution_count": 79,
   "id": "b13486b6",
   "metadata": {},
   "outputs": [
    {
     "data": {
      "text/plain": [
       "WL                               990\n",
       "D                                387\n",
       "K                                129\n",
       "L                                 33\n",
       "I                                 10\n",
       "One Month Weight-Loss (Peach)     10\n",
       "One Week Detox Trial               8\n",
       "One Week Weight-Loss (Mint)        5\n",
       "One Month Weight-Loss (Mint)       4\n",
       "S                                  4\n",
       "Lean Bar Week                      3\n",
       "One Week Weight-Loss (Peach)       2\n",
       "GW                                 1\n",
       "One Week Keto Booster              1\n",
       "One Month Immuni-Tea Booster       1\n",
       "One Month Keto Booster             1\n",
       "R                                  1\n",
       "Name: Cart_Catg, dtype: int64"
      ]
     },
     "execution_count": 79,
     "metadata": {},
     "output_type": "execute_result"
    }
   ],
   "source": [
    "df['Cart_Catg'].value_counts()"
   ]
  },
  {
   "cell_type": "code",
   "execution_count": 81,
   "id": "be4accfa",
   "metadata": {},
   "outputs": [
    {
     "data": {
      "text/plain": [
       "[{\"id\": 34, \"pname\": \"One Month Weight-Loss (Peach)\", \"category\": \"WL\", \"price\": 3596, \"quantity\": 2}]                                                                                                                                                                                          189\n",
       "[{\"id\": 31, \"pname\": \"One Week Weight-Loss (Mint)\", \"category\": \"WL\", \"price\": 999, \"quantity\": 2}]                                                                                                                                                                                             184\n",
       "[{\"id\": 32, \"pname\": \"One Week Weight-Loss (Peach)\", \"category\": \"WL\", \"price\": 999, \"quantity\": 2}]                                                                                                                                                                                            184\n",
       "[{\"id\": 23, \"pname\": \"One Week Detox Trial\", \"category\": \"D\", \"price\": 599, \"quantity\": 2}]                                                                                                                                                                                                     165\n",
       "[{\"id\": 33, \"pname\": \"One Month Weight-Loss (Mint)\", \"category\": \"WL\", \"price\": 3596, \"quantity\": 2}]                                                                                                                                                                                           114\n",
       "                                                                                                                                                                                                                                                                                               ... \n",
       "[{\"id\": 41, \"pname\": \"One Week Immuni-Tea Booster\", \"category\": \"I\", \"price\": 759, \"quantity\": 2}, {\"id\": 41, \"pname\": \"One Week Immuni-Tea Booster\", \"category\": \"I\", \"price\": 759, \"quantity\": 1}]                                                                                              1\n",
       "[{\"id\": 91, \"pname\": \"GLOW: 14-Day Skincare Plan\", \"category\": \"S\", \"price\": 998, \"quantity\": 2}, {\"id\": 23, \"pname\": \"One Week Detox Trial\", \"category\": \"D\", \"price\": 599, \"quantity\": 2}]                                                                                                      1\n",
       "[{\"id\": 23, \"pname\": \"One Week Detox Trial\", \"category\": \"D\", \"price\": 599, \"quantity\": 1}, {\"id\": 34, \"pname\": \"One Month Weight-Loss (Peach)\", \"category\": \"WL\", \"price\": 3596, \"quantity\": 1}, {\"id\": 23, \"pname\": \"One Week Detox Trial\", \"category\": \"D\", \"price\": 599, \"quantity\": 1}]      1\n",
       "[{\"id\":\"23\",\"category\":\"D\",\"pname\":\"One Week Detox Trial\",\"price\":\"599\",\"quantity\":\"3\"}]                                                                                                                                                                                                          1\n",
       "[{\"id\": 23, \"pname\": \"One Week Detox Trial\", \"category\": \"D\", \"price\": 599, \"quantity\": 1}, {\"id\": 11, \"pname\": \"Lean Bar Week\", \"category\": \"L\", \"price\": 699, \"quantity\": 1}, {\"id\": 23, \"pname\": \"One Week Detox Trial\", \"category\": \"D\", \"price\": 599, \"quantity\": 1}]                        1\n",
       "Name: Cart, Length: 101, dtype: int64"
      ]
     },
     "execution_count": 81,
     "metadata": {},
     "output_type": "execute_result"
    }
   ],
   "source": [
    "df['Cart'].value_counts()"
   ]
  },
  {
   "cell_type": "code",
   "execution_count": 88,
   "id": "8c1bfdf2",
   "metadata": {},
   "outputs": [],
   "source": [
    "df1['Cart_Catg'] = df1['Cart_Catg'].replace({'One Month Weight-Loss (Peach)':'WL', 'One Week Detox Trial':'D', 'One Week Weight-Loss (Mint)': 'WL',\n",
    "                                             'One Month Weight-Loss (Mint)':'WL', 'One Week Weight-Loss (Peach)': 'WL','One Week Keto Booster ':'K',\n",
    "                                              'One Month Immuni-Tea Booster': 'I', 'One Month Keto Booster ': 'K'})"
   ]
  },
  {
   "cell_type": "code",
   "execution_count": 89,
   "id": "fe11d88d",
   "metadata": {},
   "outputs": [
    {
     "data": {
      "text/plain": [
       "0       None\n",
       "1       None\n",
       "2       None\n",
       "3       None\n",
       "4       None\n",
       "        ... \n",
       "1585    None\n",
       "1586    None\n",
       "1587    None\n",
       "1588    None\n",
       "1589    None\n",
       "Name: Cart_Catg, Length: 1590, dtype: object"
      ]
     },
     "execution_count": 89,
     "metadata": {},
     "output_type": "execute_result"
    }
   ],
   "source": [
    "df1['Cart_Catg']"
   ]
  },
  {
   "cell_type": "code",
   "execution_count": 93,
   "id": "a932f883",
   "metadata": {},
   "outputs": [
    {
     "data": {
      "text/plain": [
       "Text(0, 0.5, 'Count')"
      ]
     },
     "execution_count": 93,
     "metadata": {},
     "output_type": "execute_result"
    },
    {
     "data": {
      "image/png": "[encoded data removed]",
      "text/plain": [
       "<Figure size 432x288 with 1 Axes>"
      ]
     },
     "metadata": {
      "needs_background": "light"
     },
     "output_type": "display_data"
    }
   ],
   "source": [
    "df_return['Cart_Catg'].value_counts().plot(kind='bar')\n",
    "plt.xlabel('Cart Category for Returned')\n",
    "plt.ylabel('Count')"
   ]
  },
  {
   "cell_type": "code",
   "execution_count": 95,
   "id": "47a40d55",
   "metadata": {},
   "outputs": [
    {
     "data": {
      "text/plain": [
       "Text(0, 0.5, 'Count')"
      ]
     },
     "execution_count": 95,
     "metadata": {},
     "output_type": "execute_result"
    },
    {
     "data": {
      "image/png": "[encoded data removed]",
      "text/plain": [
       "<Figure size 432x288 with 1 Axes>"
      ]
     },
     "metadata": {
      "needs_background": "light"
     },
     "output_type": "display_data"
    }
   ],
   "source": [
    "df['Cart_Catg'].value_counts().head(5).plot(kind='bar')\n",
    "plt.xlabel('Cart Category')\n",
    "plt.ylabel('Count')"
   ]
  },
  {
   "cell_type": "code",
   "execution_count": 96,
   "id": "dcf03f7c",
   "metadata": {},
   "outputs": [
    {
     "data": {
      "text/html": [
       "<div>\n",
       "<style scoped>\n",
       "    .dataframe tbody tr th:only-of-type {\n",
       "        vertical-align: middle;\n",
       "    }\n",
       "\n",
       "    .dataframe tbody tr th {\n",
       "        vertical-align: top;\n",
       "    }\n",
       "\n",
       "    .dataframe thead th {\n",
       "        text-align: right;\n",
       "    }\n",
       "</style>\n",
       "<table border=\"1\" class=\"dataframe\">\n",
       "  <thead>\n",
       "    <tr style=\"text-align: right;\">\n",
       "      <th></th>\n",
       "      <th>ID</th>\n",
       "      <th>Name</th>\n",
       "      <th>City</th>\n",
       "      <th>State</th>\n",
       "      <th>Address</th>\n",
       "      <th>isCOD</th>\n",
       "      <th>Date Placed</th>\n",
       "      <th>Status</th>\n",
       "      <th>IVR</th>\n",
       "      <th>Remarks</th>\n",
       "      <th>Cart</th>\n",
       "      <th>Total</th>\n",
       "      <th>Date Delivered</th>\n",
       "      <th>Date Returned</th>\n",
       "      <th>Days to Deliver</th>\n",
       "      <th>Days to Return</th>\n",
       "      <th>PId</th>\n",
       "      <th>Cart_Catg</th>\n",
       "      <th>Pid</th>\n",
       "    </tr>\n",
       "  </thead>\n",
       "  <tbody>\n",
       "    <tr>\n",
       "      <th>0</th>\n",
       "      <td>30145</td>\n",
       "      <td>Man</td>\n",
       "      <td>Nayagarh</td>\n",
       "      <td>Odisha</td>\n",
       "      <td>Jagadish Prasad, Golapokhari-Bhapur Road, Fate...</td>\n",
       "      <td>True</td>\n",
       "      <td>2021-01-31</td>\n",
       "      <td>Delivered</td>\n",
       "      <td>Confirmed</td>\n",
       "      <td>pickrr</td>\n",
       "      <td>[{\"id\": 32, \"pname\": \"One Week Weight-Loss (Pe...</td>\n",
       "      <td>999</td>\n",
       "      <td>2021-02-14</td>\n",
       "      <td>NaT</td>\n",
       "      <td>14.0</td>\n",
       "      <td>NaN</td>\n",
       "      <td>32</td>\n",
       "      <td>WL</td>\n",
       "      <td>32</td>\n",
       "    </tr>\n",
       "    <tr>\n",
       "      <th>1</th>\n",
       "      <td>30144</td>\n",
       "      <td>Dik</td>\n",
       "      <td>Thane</td>\n",
       "      <td>Maharashtra</td>\n",
       "      <td>Shanti Garden Sector 4 , flat 401, building 2,...</td>\n",
       "      <td>True</td>\n",
       "      <td>2021-01-31</td>\n",
       "      <td>Delivered</td>\n",
       "      <td>Confirmed</td>\n",
       "      <td>Remarks Not Available</td>\n",
       "      <td>[{\"id\": 23, \"pname\": \"One Week Detox Trial\", \"...</td>\n",
       "      <td>599</td>\n",
       "      <td>2021-02-02</td>\n",
       "      <td>NaT</td>\n",
       "      <td>2.0</td>\n",
       "      <td>NaN</td>\n",
       "      <td>23</td>\n",
       "      <td>D</td>\n",
       "      <td>23</td>\n",
       "    </tr>\n",
       "    <tr>\n",
       "      <th>2</th>\n",
       "      <td>30143</td>\n",
       "      <td>Shi</td>\n",
       "      <td>Bangalore</td>\n",
       "      <td>Karnataka</td>\n",
       "      <td>#280 2nd main 2nd cross, vinobha nagar kg halli</td>\n",
       "      <td>True</td>\n",
       "      <td>2021-01-31</td>\n",
       "      <td>Delivered</td>\n",
       "      <td>Confirmed</td>\n",
       "      <td>On call</td>\n",
       "      <td>[{\"id\": 23, \"pname\": \"One Week Detox Trial\", \"...</td>\n",
       "      <td>599</td>\n",
       "      <td>2021-02-08</td>\n",
       "      <td>NaT</td>\n",
       "      <td>8.0</td>\n",
       "      <td>NaN</td>\n",
       "      <td>23</td>\n",
       "      <td>D</td>\n",
       "      <td>23</td>\n",
       "    </tr>\n",
       "    <tr>\n",
       "      <th>3</th>\n",
       "      <td>30142</td>\n",
       "      <td>Pre</td>\n",
       "      <td>Mumbai</td>\n",
       "      <td>Maharashtra</td>\n",
       "      <td>1404/ Accord Nidhi, above Bikaji, Link Road, M...</td>\n",
       "      <td>True</td>\n",
       "      <td>2021-01-31</td>\n",
       "      <td>Delivered</td>\n",
       "      <td>Confirmed</td>\n",
       "      <td>Script</td>\n",
       "      <td>[{\"id\": 34, \"pname\": \"One Month Weight-Loss (P...</td>\n",
       "      <td>3596</td>\n",
       "      <td>2021-02-09</td>\n",
       "      <td>NaT</td>\n",
       "      <td>9.0</td>\n",
       "      <td>NaN</td>\n",
       "      <td>34</td>\n",
       "      <td>WL</td>\n",
       "      <td>34</td>\n",
       "    </tr>\n",
       "    <tr>\n",
       "      <th>4</th>\n",
       "      <td>30138</td>\n",
       "      <td>Dr.</td>\n",
       "      <td>Pauri Garhwal</td>\n",
       "      <td>Uttarakhand</td>\n",
       "      <td>10 am to 3 pm, Please call Before Coming, Room...</td>\n",
       "      <td>True</td>\n",
       "      <td>2021-01-31</td>\n",
       "      <td>Delivered</td>\n",
       "      <td>Confirmed</td>\n",
       "      <td>Script</td>\n",
       "      <td>[{\"id\": 31, \"pname\": \"One Week Weight-Loss (Mi...</td>\n",
       "      <td>999</td>\n",
       "      <td>2021-02-04</td>\n",
       "      <td>NaT</td>\n",
       "      <td>4.0</td>\n",
       "      <td>NaN</td>\n",
       "      <td>31</td>\n",
       "      <td>WL</td>\n",
       "      <td>31</td>\n",
       "    </tr>\n",
       "  </tbody>\n",
       "</table>\n",
       "</div>"
      ],
      "text/plain": [
       "      ID Name           City        State  \\\n",
       "0  30145  Man       Nayagarh       Odisha   \n",
       "1  30144  Dik          Thane  Maharashtra   \n",
       "2  30143  Shi      Bangalore    Karnataka   \n",
       "3  30142  Pre         Mumbai  Maharashtra   \n",
       "4  30138  Dr.  Pauri Garhwal  Uttarakhand   \n",
       "\n",
       "                                             Address  isCOD Date Placed  \\\n",
       "0  Jagadish Prasad, Golapokhari-Bhapur Road, Fate...   True  2021-01-31   \n",
       "1  Shanti Garden Sector 4 , flat 401, building 2,...   True  2021-01-31   \n",
       "2    #280 2nd main 2nd cross, vinobha nagar kg halli   True  2021-01-31   \n",
       "3  1404/ Accord Nidhi, above Bikaji, Link Road, M...   True  2021-01-31   \n",
       "4  10 am to 3 pm, Please call Before Coming, Room...   True  2021-01-31   \n",
       "\n",
       "      Status        IVR                Remarks  \\\n",
       "0  Delivered  Confirmed                 pickrr   \n",
       "1  Delivered  Confirmed  Remarks Not Available   \n",
       "2  Delivered  Confirmed                On call   \n",
       "3  Delivered  Confirmed                 Script   \n",
       "4  Delivered  Confirmed                 Script   \n",
       "\n",
       "                                                Cart  Total Date Delivered  \\\n",
       "0  [{\"id\": 32, \"pname\": \"One Week Weight-Loss (Pe...    999     2021-02-14   \n",
       "1  [{\"id\": 23, \"pname\": \"One Week Detox Trial\", \"...    599     2021-02-02   \n",
       "2  [{\"id\": 23, \"pname\": \"One Week Detox Trial\", \"...    599     2021-02-08   \n",
       "3  [{\"id\": 34, \"pname\": \"One Month Weight-Loss (P...   3596     2021-02-09   \n",
       "4  [{\"id\": 31, \"pname\": \"One Week Weight-Loss (Mi...    999     2021-02-04   \n",
       "\n",
       "  Date Returned  Days to Deliver  Days to Return PId Cart_Catg Pid  \n",
       "0           NaT             14.0             NaN  32        WL  32  \n",
       "1           NaT              2.0             NaN  23         D  23  \n",
       "2           NaT              8.0             NaN  23         D  23  \n",
       "3           NaT              9.0             NaN  34        WL  34  \n",
       "4           NaT              4.0             NaN  31        WL  31  "
      ]
     },
     "execution_count": 96,
     "metadata": {},
     "output_type": "execute_result"
    }
   ],
   "source": [
    "df.head()"
   ]
  },
  {
   "cell_type": "code",
   "execution_count": 97,
   "id": "2cc08eff",
   "metadata": {},
   "outputs": [],
   "source": [
    "st = '[{\"id\": 34, \"pname\": \"One Month Weight-Loss (Peach)\", \"category\": \"WL\", \"price\": 3596, \"quantity\": 2}]'"
   ]
  },
  {
   "cell_type": "code",
   "execution_count": 105,
   "id": "869f39c9",
   "metadata": {},
   "outputs": [],
   "source": [
    "def split3(x):\n",
    "    x.split(',')[4].split(':')[1].split('}')[0].strip()\n",
    "    return x\n",
    "        "
   ]
  },
  {
   "cell_type": "code",
   "execution_count": 106,
   "id": "b3d9656d",
   "metadata": {},
   "outputs": [],
   "source": [
    "df['Quantity'] = df['Cart'].apply(split3)"
   ]
  },
  {
   "cell_type": "code",
   "execution_count": 107,
   "id": "7418b1b8",
   "metadata": {},
   "outputs": [
    {
     "data": {
      "text/html": [
       "<div>\n",
       "<style scoped>\n",
       "    .dataframe tbody tr th:only-of-type {\n",
       "        vertical-align: middle;\n",
       "    }\n",
       "\n",
       "    .dataframe tbody tr th {\n",
       "        vertical-align: top;\n",
       "    }\n",
       "\n",
       "    .dataframe thead th {\n",
       "        text-align: right;\n",
       "    }\n",
       "</style>\n",
       "<table border=\"1\" class=\"dataframe\">\n",
       "  <thead>\n",
       "    <tr style=\"text-align: right;\">\n",
       "      <th></th>\n",
       "      <th>ID</th>\n",
       "      <th>Name</th>\n",
       "      <th>City</th>\n",
       "      <th>State</th>\n",
       "      <th>Address</th>\n",
       "      <th>isCOD</th>\n",
       "      <th>Date Placed</th>\n",
       "      <th>Status</th>\n",
       "      <th>IVR</th>\n",
       "      <th>Remarks</th>\n",
       "      <th>Cart</th>\n",
       "      <th>Total</th>\n",
       "      <th>Date Delivered</th>\n",
       "      <th>Date Returned</th>\n",
       "      <th>Days to Deliver</th>\n",
       "      <th>Days to Return</th>\n",
       "      <th>PId</th>\n",
       "      <th>Cart_Catg</th>\n",
       "      <th>Pid</th>\n",
       "      <th>Quantity</th>\n",
       "    </tr>\n",
       "  </thead>\n",
       "  <tbody>\n",
       "    <tr>\n",
       "      <th>0</th>\n",
       "      <td>30145</td>\n",
       "      <td>Man</td>\n",
       "      <td>Nayagarh</td>\n",
       "      <td>Odisha</td>\n",
       "      <td>Jagadish Prasad, Golapokhari-Bhapur Road, Fate...</td>\n",
       "      <td>True</td>\n",
       "      <td>2021-01-31</td>\n",
       "      <td>Delivered</td>\n",
       "      <td>Confirmed</td>\n",
       "      <td>pickrr</td>\n",
       "      <td>[{\"id\": 32, \"pname\": \"One Week Weight-Loss (Pe...</td>\n",
       "      <td>999</td>\n",
       "      <td>2021-02-14</td>\n",
       "      <td>NaT</td>\n",
       "      <td>14.0</td>\n",
       "      <td>NaN</td>\n",
       "      <td>32</td>\n",
       "      <td>WL</td>\n",
       "      <td>32</td>\n",
       "      <td>[{\"id\": 32, \"pname\": \"One Week Weight-Loss (Pe...</td>\n",
       "    </tr>\n",
       "    <tr>\n",
       "      <th>1</th>\n",
       "      <td>30144</td>\n",
       "      <td>Dik</td>\n",
       "      <td>Thane</td>\n",
       "      <td>Maharashtra</td>\n",
       "      <td>Shanti Garden Sector 4 , flat 401, building 2,...</td>\n",
       "      <td>True</td>\n",
       "      <td>2021-01-31</td>\n",
       "      <td>Delivered</td>\n",
       "      <td>Confirmed</td>\n",
       "      <td>Remarks Not Available</td>\n",
       "      <td>[{\"id\": 23, \"pname\": \"One Week Detox Trial\", \"...</td>\n",
       "      <td>599</td>\n",
       "      <td>2021-02-02</td>\n",
       "      <td>NaT</td>\n",
       "      <td>2.0</td>\n",
       "      <td>NaN</td>\n",
       "      <td>23</td>\n",
       "      <td>D</td>\n",
       "      <td>23</td>\n",
       "      <td>[{\"id\": 23, \"pname\": \"One Week Detox Trial\", \"...</td>\n",
       "    </tr>\n",
       "    <tr>\n",
       "      <th>2</th>\n",
       "      <td>30143</td>\n",
       "      <td>Shi</td>\n",
       "      <td>Bangalore</td>\n",
       "      <td>Karnataka</td>\n",
       "      <td>#280 2nd main 2nd cross, vinobha nagar kg halli</td>\n",
       "      <td>True</td>\n",
       "      <td>2021-01-31</td>\n",
       "      <td>Delivered</td>\n",
       "      <td>Confirmed</td>\n",
       "      <td>On call</td>\n",
       "      <td>[{\"id\": 23, \"pname\": \"One Week Detox Trial\", \"...</td>\n",
       "      <td>599</td>\n",
       "      <td>2021-02-08</td>\n",
       "      <td>NaT</td>\n",
       "      <td>8.0</td>\n",
       "      <td>NaN</td>\n",
       "      <td>23</td>\n",
       "      <td>D</td>\n",
       "      <td>23</td>\n",
       "      <td>[{\"id\": 23, \"pname\": \"One Week Detox Trial\", \"...</td>\n",
       "    </tr>\n",
       "    <tr>\n",
       "      <th>3</th>\n",
       "      <td>30142</td>\n",
       "      <td>Pre</td>\n",
       "      <td>Mumbai</td>\n",
       "      <td>Maharashtra</td>\n",
       "      <td>1404/ Accord Nidhi, above Bikaji, Link Road, M...</td>\n",
       "      <td>True</td>\n",
       "      <td>2021-01-31</td>\n",
       "      <td>Delivered</td>\n",
       "      <td>Confirmed</td>\n",
       "      <td>Script</td>\n",
       "      <td>[{\"id\": 34, \"pname\": \"One Month Weight-Loss (P...</td>\n",
       "      <td>3596</td>\n",
       "      <td>2021-02-09</td>\n",
       "      <td>NaT</td>\n",
       "      <td>9.0</td>\n",
       "      <td>NaN</td>\n",
       "      <td>34</td>\n",
       "      <td>WL</td>\n",
       "      <td>34</td>\n",
       "      <td>[{\"id\": 34, \"pname\": \"One Month Weight-Loss (P...</td>\n",
       "    </tr>\n",
       "    <tr>\n",
       "      <th>4</th>\n",
       "      <td>30138</td>\n",
       "      <td>Dr.</td>\n",
       "      <td>Pauri Garhwal</td>\n",
       "      <td>Uttarakhand</td>\n",
       "      <td>10 am to 3 pm, Please call Before Coming, Room...</td>\n",
       "      <td>True</td>\n",
       "      <td>2021-01-31</td>\n",
       "      <td>Delivered</td>\n",
       "      <td>Confirmed</td>\n",
       "      <td>Script</td>\n",
       "      <td>[{\"id\": 31, \"pname\": \"One Week Weight-Loss (Mi...</td>\n",
       "      <td>999</td>\n",
       "      <td>2021-02-04</td>\n",
       "      <td>NaT</td>\n",
       "      <td>4.0</td>\n",
       "      <td>NaN</td>\n",
       "      <td>31</td>\n",
       "      <td>WL</td>\n",
       "      <td>31</td>\n",
       "      <td>[{\"id\": 31, \"pname\": \"One Week Weight-Loss (Mi...</td>\n",
       "    </tr>\n",
       "  </tbody>\n",
       "</table>\n",
       "</div>"
      ],
      "text/plain": [
       "      ID Name           City        State  \\\n",
       "0  30145  Man       Nayagarh       Odisha   \n",
       "1  30144  Dik          Thane  Maharashtra   \n",
       "2  30143  Shi      Bangalore    Karnataka   \n",
       "3  30142  Pre         Mumbai  Maharashtra   \n",
       "4  30138  Dr.  Pauri Garhwal  Uttarakhand   \n",
       "\n",
       "                                             Address  isCOD Date Placed  \\\n",
       "0  Jagadish Prasad, Golapokhari-Bhapur Road, Fate...   True  2021-01-31   \n",
       "1  Shanti Garden Sector 4 , flat 401, building 2,...   True  2021-01-31   \n",
       "2    #280 2nd main 2nd cross, vinobha nagar kg halli   True  2021-01-31   \n",
       "3  1404/ Accord Nidhi, above Bikaji, Link Road, M...   True  2021-01-31   \n",
       "4  10 am to 3 pm, Please call Before Coming, Room...   True  2021-01-31   \n",
       "\n",
       "      Status        IVR                Remarks  \\\n",
       "0  Delivered  Confirmed                 pickrr   \n",
       "1  Delivered  Confirmed  Remarks Not Available   \n",
       "2  Delivered  Confirmed                On call   \n",
       "3  Delivered  Confirmed                 Script   \n",
       "4  Delivered  Confirmed                 Script   \n",
       "\n",
       "                                                Cart  Total Date Delivered  \\\n",
       "0  [{\"id\": 32, \"pname\": \"One Week Weight-Loss (Pe...    999     2021-02-14   \n",
       "1  [{\"id\": 23, \"pname\": \"One Week Detox Trial\", \"...    599     2021-02-02   \n",
       "2  [{\"id\": 23, \"pname\": \"One Week Detox Trial\", \"...    599     2021-02-08   \n",
       "3  [{\"id\": 34, \"pname\": \"One Month Weight-Loss (P...   3596     2021-02-09   \n",
       "4  [{\"id\": 31, \"pname\": \"One Week Weight-Loss (Mi...    999     2021-02-04   \n",
       "\n",
       "  Date Returned  Days to Deliver  Days to Return PId Cart_Catg Pid  \\\n",
       "0           NaT             14.0             NaN  32        WL  32   \n",
       "1           NaT              2.0             NaN  23         D  23   \n",
       "2           NaT              8.0             NaN  23         D  23   \n",
       "3           NaT              9.0             NaN  34        WL  34   \n",
       "4           NaT              4.0             NaN  31        WL  31   \n",
       "\n",
       "                                            Quantity  \n",
       "0  [{\"id\": 32, \"pname\": \"One Week Weight-Loss (Pe...  \n",
       "1  [{\"id\": 23, \"pname\": \"One Week Detox Trial\", \"...  \n",
       "2  [{\"id\": 23, \"pname\": \"One Week Detox Trial\", \"...  \n",
       "3  [{\"id\": 34, \"pname\": \"One Month Weight-Loss (P...  \n",
       "4  [{\"id\": 31, \"pname\": \"One Week Weight-Loss (Mi...  "
      ]
     },
     "execution_count": 107,
     "metadata": {},
     "output_type": "execute_result"
    }
   ],
   "source": [
    "df.head()"
   ]
  },
  {
   "cell_type": "code",
   "execution_count": 108,
   "id": "976544fd",
   "metadata": {},
   "outputs": [],
   "source": [
    "df.drop('Quantity', axis=1, inplace = True)"
   ]
  },
  {
   "cell_type": "code",
   "execution_count": 109,
   "id": "be18044a",
   "metadata": {},
   "outputs": [
    {
     "data": {
      "text/html": [
       "<div>\n",
       "<style scoped>\n",
       "    .dataframe tbody tr th:only-of-type {\n",
       "        vertical-align: middle;\n",
       "    }\n",
       "\n",
       "    .dataframe tbody tr th {\n",
       "        vertical-align: top;\n",
       "    }\n",
       "\n",
       "    .dataframe thead th {\n",
       "        text-align: right;\n",
       "    }\n",
       "</style>\n",
       "<table border=\"1\" class=\"dataframe\">\n",
       "  <thead>\n",
       "    <tr style=\"text-align: right;\">\n",
       "      <th></th>\n",
       "      <th>ID</th>\n",
       "      <th>Name</th>\n",
       "      <th>City</th>\n",
       "      <th>State</th>\n",
       "      <th>Address</th>\n",
       "      <th>isCOD</th>\n",
       "      <th>Date Placed</th>\n",
       "      <th>Status</th>\n",
       "      <th>IVR</th>\n",
       "      <th>Remarks</th>\n",
       "      <th>Cart</th>\n",
       "      <th>Total</th>\n",
       "      <th>Date Delivered</th>\n",
       "      <th>Date Returned</th>\n",
       "      <th>Days to Deliver</th>\n",
       "      <th>Days to Return</th>\n",
       "      <th>PId</th>\n",
       "      <th>Cart_Catg</th>\n",
       "      <th>Pid</th>\n",
       "    </tr>\n",
       "  </thead>\n",
       "  <tbody>\n",
       "    <tr>\n",
       "      <th>0</th>\n",
       "      <td>30145</td>\n",
       "      <td>Man</td>\n",
       "      <td>Nayagarh</td>\n",
       "      <td>Odisha</td>\n",
       "      <td>Jagadish Prasad, Golapokhari-Bhapur Road, Fate...</td>\n",
       "      <td>True</td>\n",
       "      <td>2021-01-31</td>\n",
       "      <td>Delivered</td>\n",
       "      <td>Confirmed</td>\n",
       "      <td>pickrr</td>\n",
       "      <td>[{\"id\": 32, \"pname\": \"One Week Weight-Loss (Pe...</td>\n",
       "      <td>999</td>\n",
       "      <td>2021-02-14</td>\n",
       "      <td>NaT</td>\n",
       "      <td>14.0</td>\n",
       "      <td>NaN</td>\n",
       "      <td>32</td>\n",
       "      <td>WL</td>\n",
       "      <td>32</td>\n",
       "    </tr>\n",
       "    <tr>\n",
       "      <th>1</th>\n",
       "      <td>30144</td>\n",
       "      <td>Dik</td>\n",
       "      <td>Thane</td>\n",
       "      <td>Maharashtra</td>\n",
       "      <td>Shanti Garden Sector 4 , flat 401, building 2,...</td>\n",
       "      <td>True</td>\n",
       "      <td>2021-01-31</td>\n",
       "      <td>Delivered</td>\n",
       "      <td>Confirmed</td>\n",
       "      <td>Remarks Not Available</td>\n",
       "      <td>[{\"id\": 23, \"pname\": \"One Week Detox Trial\", \"...</td>\n",
       "      <td>599</td>\n",
       "      <td>2021-02-02</td>\n",
       "      <td>NaT</td>\n",
       "      <td>2.0</td>\n",
       "      <td>NaN</td>\n",
       "      <td>23</td>\n",
       "      <td>D</td>\n",
       "      <td>23</td>\n",
       "    </tr>\n",
       "    <tr>\n",
       "      <th>2</th>\n",
       "      <td>30143</td>\n",
       "      <td>Shi</td>\n",
       "      <td>Bangalore</td>\n",
       "      <td>Karnataka</td>\n",
       "      <td>#280 2nd main 2nd cross, vinobha nagar kg halli</td>\n",
       "      <td>True</td>\n",
       "      <td>2021-01-31</td>\n",
       "      <td>Delivered</td>\n",
       "      <td>Confirmed</td>\n",
       "      <td>On call</td>\n",
       "      <td>[{\"id\": 23, \"pname\": \"One Week Detox Trial\", \"...</td>\n",
       "      <td>599</td>\n",
       "      <td>2021-02-08</td>\n",
       "      <td>NaT</td>\n",
       "      <td>8.0</td>\n",
       "      <td>NaN</td>\n",
       "      <td>23</td>\n",
       "      <td>D</td>\n",
       "      <td>23</td>\n",
       "    </tr>\n",
       "    <tr>\n",
       "      <th>3</th>\n",
       "      <td>30142</td>\n",
       "      <td>Pre</td>\n",
       "      <td>Mumbai</td>\n",
       "      <td>Maharashtra</td>\n",
       "      <td>1404/ Accord Nidhi, above Bikaji, Link Road, M...</td>\n",
       "      <td>True</td>\n",
       "      <td>2021-01-31</td>\n",
       "      <td>Delivered</td>\n",
       "      <td>Confirmed</td>\n",
       "      <td>Script</td>\n",
       "      <td>[{\"id\": 34, \"pname\": \"One Month Weight-Loss (P...</td>\n",
       "      <td>3596</td>\n",
       "      <td>2021-02-09</td>\n",
       "      <td>NaT</td>\n",
       "      <td>9.0</td>\n",
       "      <td>NaN</td>\n",
       "      <td>34</td>\n",
       "      <td>WL</td>\n",
       "      <td>34</td>\n",
       "    </tr>\n",
       "    <tr>\n",
       "      <th>4</th>\n",
       "      <td>30138</td>\n",
       "      <td>Dr.</td>\n",
       "      <td>Pauri Garhwal</td>\n",
       "      <td>Uttarakhand</td>\n",
       "      <td>10 am to 3 pm, Please call Before Coming, Room...</td>\n",
       "      <td>True</td>\n",
       "      <td>2021-01-31</td>\n",
       "      <td>Delivered</td>\n",
       "      <td>Confirmed</td>\n",
       "      <td>Script</td>\n",
       "      <td>[{\"id\": 31, \"pname\": \"One Week Weight-Loss (Mi...</td>\n",
       "      <td>999</td>\n",
       "      <td>2021-02-04</td>\n",
       "      <td>NaT</td>\n",
       "      <td>4.0</td>\n",
       "      <td>NaN</td>\n",
       "      <td>31</td>\n",
       "      <td>WL</td>\n",
       "      <td>31</td>\n",
       "    </tr>\n",
       "  </tbody>\n",
       "</table>\n",
       "</div>"
      ],
      "text/plain": [
       "      ID Name           City        State  \\\n",
       "0  30145  Man       Nayagarh       Odisha   \n",
       "1  30144  Dik          Thane  Maharashtra   \n",
       "2  30143  Shi      Bangalore    Karnataka   \n",
       "3  30142  Pre         Mumbai  Maharashtra   \n",
       "4  30138  Dr.  Pauri Garhwal  Uttarakhand   \n",
       "\n",
       "                                             Address  isCOD Date Placed  \\\n",
       "0  Jagadish Prasad, Golapokhari-Bhapur Road, Fate...   True  2021-01-31   \n",
       "1  Shanti Garden Sector 4 , flat 401, building 2,...   True  2021-01-31   \n",
       "2    #280 2nd main 2nd cross, vinobha nagar kg halli   True  2021-01-31   \n",
       "3  1404/ Accord Nidhi, above Bikaji, Link Road, M...   True  2021-01-31   \n",
       "4  10 am to 3 pm, Please call Before Coming, Room...   True  2021-01-31   \n",
       "\n",
       "      Status        IVR                Remarks  \\\n",
       "0  Delivered  Confirmed                 pickrr   \n",
       "1  Delivered  Confirmed  Remarks Not Available   \n",
       "2  Delivered  Confirmed                On call   \n",
       "3  Delivered  Confirmed                 Script   \n",
       "4  Delivered  Confirmed                 Script   \n",
       "\n",
       "                                                Cart  Total Date Delivered  \\\n",
       "0  [{\"id\": 32, \"pname\": \"One Week Weight-Loss (Pe...    999     2021-02-14   \n",
       "1  [{\"id\": 23, \"pname\": \"One Week Detox Trial\", \"...    599     2021-02-02   \n",
       "2  [{\"id\": 23, \"pname\": \"One Week Detox Trial\", \"...    599     2021-02-08   \n",
       "3  [{\"id\": 34, \"pname\": \"One Month Weight-Loss (P...   3596     2021-02-09   \n",
       "4  [{\"id\": 31, \"pname\": \"One Week Weight-Loss (Mi...    999     2021-02-04   \n",
       "\n",
       "  Date Returned  Days to Deliver  Days to Return PId Cart_Catg Pid  \n",
       "0           NaT             14.0             NaN  32        WL  32  \n",
       "1           NaT              2.0             NaN  23         D  23  \n",
       "2           NaT              8.0             NaN  23         D  23  \n",
       "3           NaT              9.0             NaN  34        WL  34  \n",
       "4           NaT              4.0             NaN  31        WL  31  "
      ]
     },
     "execution_count": 109,
     "metadata": {},
     "output_type": "execute_result"
    }
   ],
   "source": [
    "df.head()"
   ]
  },
  {
   "cell_type": "code",
   "execution_count": 110,
   "id": "2e03a251",
   "metadata": {},
   "outputs": [],
   "source": [
    "df.drop('Pid', axis =1 , inplace = True)"
   ]
  },
  {
   "cell_type": "code",
   "execution_count": 112,
   "id": "1514234a",
   "metadata": {},
   "outputs": [],
   "source": [
    "df['State'].fillna(method='bfill', inplace = True)"
   ]
  },
  {
   "cell_type": "code",
   "execution_count": 113,
   "id": "dbd9b992",
   "metadata": {},
   "outputs": [],
   "source": [
    "df.to_excel('./TheHealthyCompanyDataCleaned.xlsx', sheet_name='Orders', index= False)"
   ]
  },
  {
   "cell_type": "code",
   "execution_count": null,
   "id": "3275844c",
   "metadata": {},
   "outputs": [],
   "source": []
  },
  {
   "cell_type": "code",
   "execution_count": null,
   "id": "ca872a79",
   "metadata": {},
   "outputs": [],
   "source": []
  },
  {
   "cell_type": "code",
   "execution_count": null,
   "id": "920b1a84",
   "metadata": {},
   "outputs": [],
   "source": []
  },
  {
   "cell_type": "code",
   "execution_count": null,
   "id": "96b1173c",
   "metadata": {},
   "outputs": [],
   "source": []
  },
  {
   "cell_type": "code",
   "execution_count": null,
   "id": "f0430197",
   "metadata": {},
   "outputs": [],
   "source": []
  },
  {
   "cell_type": "code",
   "execution_count": null,
   "id": "09a861a4",
   "metadata": {},
   "outputs": [],
   "source": []
  },
  {
   "cell_type": "code",
   "execution_count": null,
   "id": "76d26928",
   "metadata": {},
   "outputs": [],
   "source": []
  }
 ],
 "metadata": {
  "kernelspec": {
   "display_name": "Python 3",
   "language": "python",
   "name": "python3"
  },
  "language_info": {
   "codemirror_mode": {
    "name": "ipython",
    "version": 3
   },
   "file_extension": ".py",
   "mimetype": "text/x-python",
   "name": "python",
   "nbconvert_exporter": "python",
   "pygments_lexer": "ipython3",
   "version": "3.8.8"
  }
 },
 "nbformat": 4,
 "nbformat_minor": 5
}
